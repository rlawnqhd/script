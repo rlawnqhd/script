{
 "cells": [
  {
   "cell_type": "markdown",
   "metadata": {},
   "source": [
    "Q1 : L=[1, 2, 3, 4, 5]일 때 다음 각 문장을 수행한 후의 결과를 보고 납득할 만한 이유를 설명하시오."
   ]
  },
  {
   "cell_type": "code",
   "execution_count": 1,
   "metadata": {
    "collapsed": false
   },
   "outputs": [
    {
     "name": "stdout",
     "output_type": "stream",
     "text": [
      "[1, 100, 4, 5]\n"
     ]
    }
   ],
   "source": [
    "L=[1, 2, 3, 4, 5]\n",
    "L[1:3] = [100]\n",
    "print L"
   ]
  },
  {
   "cell_type": "markdown",
   "metadata": {},
   "source": [
    "L[1]과 L[2]를 포함한다고 했고, L[3]은 포함하지 않으므로 두번째와 세번째 원소에 100으로 수정된다."
   ]
  },
  {
   "cell_type": "code",
   "execution_count": 2,
   "metadata": {
    "collapsed": false
   },
   "outputs": [
    {
     "name": "stdout",
     "output_type": "stream",
     "text": [
      "[1, 100, 4, 5]\n"
     ]
    }
   ],
   "source": [
    "L=[1, 2, 3, 4, 5]\n",
    "L[1:3] = [(100)]\n",
    "print L"
   ]
  },
  {
   "cell_type": "markdown",
   "metadata": {},
   "source": [
    "L[1]과 L[2]를 포함한다고 했고, L[3]은 포함하지 않는다. 두 번째와 세 번째 원소 사이에 (100)으로 수정되게 되는데, 하나의 원소를 갖는 튜플은 튜플로 만들어 주려면 ','를 사용해야 튜플로 타입을 유지한다. 하지만 (100)만 있을 경우, 정수형으로 타입이 선언되게 된다."
   ]
  },
  {
   "cell_type": "code",
   "execution_count": 3,
   "metadata": {
    "collapsed": false
   },
   "outputs": [
    {
     "ename": "TypeError",
     "evalue": "can only assign an iterable",
     "output_type": "error",
     "traceback": [
      "\u001b[1;31m---------------------------------------------------------------------------\u001b[0m",
      "\u001b[1;31mTypeError\u001b[0m                                 Traceback (most recent call last)",
      "\u001b[1;32m<ipython-input-3-1ad846aab580>\u001b[0m in \u001b[0;36m<module>\u001b[1;34m()\u001b[0m\n\u001b[0;32m      1\u001b[0m \u001b[0mL\u001b[0m\u001b[1;33m=\u001b[0m\u001b[1;33m[\u001b[0m\u001b[1;36m1\u001b[0m\u001b[1;33m,\u001b[0m \u001b[1;36m2\u001b[0m\u001b[1;33m,\u001b[0m \u001b[1;36m3\u001b[0m\u001b[1;33m,\u001b[0m \u001b[1;36m4\u001b[0m\u001b[1;33m,\u001b[0m \u001b[1;36m5\u001b[0m\u001b[1;33m]\u001b[0m\u001b[1;33m\u001b[0m\u001b[0m\n\u001b[1;32m----> 2\u001b[1;33m \u001b[0mL\u001b[0m\u001b[1;33m[\u001b[0m\u001b[1;36m1\u001b[0m\u001b[1;33m:\u001b[0m\u001b[1;36m3\u001b[0m\u001b[1;33m]\u001b[0m \u001b[1;33m=\u001b[0m \u001b[1;36m100\u001b[0m\u001b[1;33m\u001b[0m\u001b[0m\n\u001b[0m\u001b[0;32m      3\u001b[0m \u001b[1;32mprint\u001b[0m \u001b[0mL\u001b[0m\u001b[1;33m\u001b[0m\u001b[0m\n",
      "\u001b[1;31mTypeError\u001b[0m: can only assign an iterable"
     ]
    }
   ],
   "source": [
    "L=[1, 2, 3, 4, 5]\n",
    "L[1:3] = 100\n",
    "print L"
   ]
  },
  {
   "cell_type": "markdown",
   "metadata": {},
   "source": [
    "L[1]과 L[2]를 포함한다고 했고, L[3]은 포함하지 않는다. 그런데 리스트가 아닌 정수 100은 두 가지의 원소를 가진 L[1:3], 시퀀스 자료형을 수정할 수 없다."
   ]
  },
  {
   "cell_type": "code",
   "execution_count": 4,
   "metadata": {
    "collapsed": false
   },
   "outputs": [
    {
     "ename": "TypeError",
     "evalue": "can only assign an iterable",
     "output_type": "error",
     "traceback": [
      "\u001b[1;31m---------------------------------------------------------------------------\u001b[0m",
      "\u001b[1;31mTypeError\u001b[0m                                 Traceback (most recent call last)",
      "\u001b[1;32m<ipython-input-4-143eddb86e76>\u001b[0m in \u001b[0;36m<module>\u001b[1;34m()\u001b[0m\n\u001b[0;32m      1\u001b[0m \u001b[0mL\u001b[0m\u001b[1;33m=\u001b[0m\u001b[1;33m[\u001b[0m\u001b[1;36m1\u001b[0m\u001b[1;33m,\u001b[0m \u001b[1;36m2\u001b[0m\u001b[1;33m,\u001b[0m \u001b[1;36m3\u001b[0m\u001b[1;33m,\u001b[0m \u001b[1;36m4\u001b[0m\u001b[1;33m,\u001b[0m \u001b[1;36m5\u001b[0m\u001b[1;33m]\u001b[0m\u001b[1;33m\u001b[0m\u001b[0m\n\u001b[1;32m----> 2\u001b[1;33m \u001b[0mL\u001b[0m\u001b[1;33m[\u001b[0m\u001b[1;36m1\u001b[0m\u001b[1;33m:\u001b[0m\u001b[1;36m3\u001b[0m\u001b[1;33m]\u001b[0m \u001b[1;33m=\u001b[0m \u001b[1;33m(\u001b[0m\u001b[1;36m100\u001b[0m\u001b[1;33m)\u001b[0m\u001b[1;33m\u001b[0m\u001b[0m\n\u001b[0m\u001b[0;32m      3\u001b[0m \u001b[1;32mprint\u001b[0m \u001b[0mL\u001b[0m\u001b[1;33m\u001b[0m\u001b[0m\n",
      "\u001b[1;31mTypeError\u001b[0m: can only assign an iterable"
     ]
    }
   ],
   "source": [
    "L=[1, 2, 3, 4, 5]\n",
    "L[1:3] = (100)\n",
    "print L"
   ]
  },
  {
   "cell_type": "markdown",
   "metadata": {},
   "source": [
    "L[1]과 L[2]를 포함한다고 했고, L[3]은 포함하지 않는다. (100) 또한 튜플이 아닌 정수 100과 같다. 위의 문제와 같은 이유로 오류이다."
   ]
  },
  {
   "cell_type": "code",
   "execution_count": 5,
   "metadata": {
    "collapsed": false
   },
   "outputs": [
    {
     "name": "stdout",
     "output_type": "stream",
     "text": [
      "[1, 100, 101, 102, 4, 5]\n"
     ]
    }
   ],
   "source": [
    "L=[1, 2, 3, 4, 5]\n",
    "L[1:3] = (100, 101, 102)\n",
    "print L"
   ]
  },
  {
   "cell_type": "markdown",
   "metadata": {},
   "source": [
    "L[1:3]은 L 리스트의 두 번째 세 번째 원소를 가르킨다. (100, 101, 102)의 튜플은 세 가지 원소를 가지므로 치환이 가능하다. 튜플이 풀어져 원소만 들어가게 되는데, 리스트와 튜플은 시퀀스 자료형이며 리스트 L의 수정가능한 속성을 튜플의 수정불가능한 속성으로 바꾸지 않으려는 의도인 것으로 생각 된다."
   ]
  },
  {
   "cell_type": "code",
   "execution_count": 6,
   "metadata": {
    "collapsed": false
   },
   "outputs": [
    {
     "name": "stdout",
     "output_type": "stream",
     "text": [
      "[1, 100, 101, 102, 4, 5]\n"
     ]
    }
   ],
   "source": [
    "L=[1, 2, 3, 4, 5]\n",
    "L[1:3] = [100, 101, 102]\n",
    "print L"
   ]
  },
  {
   "cell_type": "markdown",
   "metadata": {},
   "source": [
    "시퀀스 자료형인 L에 같은 리스트 타입인 [100, 101, 102]로 얼마든지 수정 가능하다."
   ]
  },
  {
   "cell_type": "code",
   "execution_count": 7,
   "metadata": {
    "collapsed": false
   },
   "outputs": [
    {
     "name": "stdout",
     "output_type": "stream",
     "text": [
      "[1, (100, 101, 102), 4, 5]\n"
     ]
    }
   ],
   "source": [
    "L=[1, 2, 3, 4, 5]\n",
    "L[1:3] = [(100, 101, 102)]\n",
    "print L"
   ]
  },
  {
   "cell_type": "markdown",
   "metadata": {},
   "source": [
    "[(100, 101, 102)]는 시퀀스 자료형 리스트이다. 기존 리스트 L의 수정이 얼마든지 가능하다. 그리고 안에 원소는 하나인데 그 원소가 튜플 (100, 101, 102)인 것이다."
   ]
  },
  {
   "cell_type": "code",
   "execution_count": 8,
   "metadata": {
    "collapsed": false
   },
   "outputs": [
    {
     "name": "stdout",
     "output_type": "stream",
     "text": [
      "[1, [100, 101, 102], 4, 5]\n"
     ]
    }
   ],
   "source": [
    "L=[1, 2, 3, 4, 5]\n",
    "L[1:3] = [[100, 101, 102]]\n",
    "print L"
   ]
  },
  {
   "cell_type": "markdown",
   "metadata": {},
   "source": [
    "[[100, 101, 102]]는 시퀀스 자료형 리스트이다. 기존 리스트 L의 수정이 얼마든지 가능하다. 그리고 안에 원소는 하나인데 그 원소는 리스트 [100, 101, 102]인 것이다."
   ]
  },
  {
   "cell_type": "markdown",
   "metadata": {},
   "source": [
    "Q2 : 문자열 S = 'Hello World and Python'에 대해 다음 요구사항에 대한 Python 코드를 제시하시오.\n",
    "1) 단어의 순서가 역순으로 되어진 문자열 ('Python and World Hello')을 만들고\n",
    "2) 1)의 결과 문자열에 대해 메소드 split과 join을 이용하여 공백을 모두 없엔 문자열 'PythonandWorldHello'을 만드시오."
   ]
  },
  {
   "cell_type": "code",
   "execution_count": 9,
   "metadata": {
    "collapsed": false
   },
   "outputs": [
    {
     "name": "stdout",
     "output_type": "stream",
     "text": [
      "PythonandWorldHello\n"
     ]
    }
   ],
   "source": [
    "S = 'Hello World and Python'\n",
    "splited = S.split()\n",
    "S_modified = ''\n",
    "# 1)\n",
    "for i in range(len(splited)):\n",
    "    S_modified += splited[len(splited)-1-i]+' '\n",
    "S_modified = S_modified[:-1]\n",
    "\n",
    "# 2)\n",
    "S_splited = S_modified.split()\n",
    "S_result = ''.join(S_splited)\n",
    "print S_result"
   ]
  },
  {
   "cell_type": "markdown",
   "metadata": {},
   "source": [
    "1)은 split메소드로 나눈뒤 리스트 마지막 인덱스부터 1번째 원소까지 문자열에 더해주었다. 2)는 split메소드로 공백 기준으로 나눈 뒤에, ''으로 join시켜 'PythonandWorldHello'와 같은 문자열을 생성하여 출력하였다."
   ]
  },
  {
   "cell_type": "markdown",
   "metadata": {},
   "source": [
    "Q3 : 다음 코드를 보고 물음에 답하시오.\n",
    "\n",
    "a = [1, 2, 3]\n",
    "b = a * 3\n",
    "c = [a] * 3\n",
    "print b\n",
    "print c\n",
    "\n",
    "1) 위 코드를 수행한 이후 다음 코드를 수행한 후 b와 c의 내용을 확인하시오.\n",
    "\n",
    "a[0]=0\n",
    "\n",
    "2) b와 c 객체의 차이는 무엇인가?"
   ]
  },
  {
   "cell_type": "code",
   "execution_count": 10,
   "metadata": {
    "collapsed": false
   },
   "outputs": [
    {
     "name": "stdout",
     "output_type": "stream",
     "text": [
      "[1, 2, 3, 1, 2, 3, 1, 2, 3]\n",
      "[[1, 2, 3], [1, 2, 3], [1, 2, 3]]\n"
     ]
    }
   ],
   "source": [
    "a = [1, 2, 3]\n",
    "b = a * 3\n",
    "c = [a] * 3\n",
    "print b\n",
    "print c"
   ]
  },
  {
   "cell_type": "code",
   "execution_count": 11,
   "metadata": {
    "collapsed": false
   },
   "outputs": [
    {
     "name": "stdout",
     "output_type": "stream",
     "text": [
      "[1, 2, 3, 1, 2, 3, 1, 2, 3]\n",
      "[[0, 2, 3], [0, 2, 3], [0, 2, 3]]\n"
     ]
    }
   ],
   "source": [
    "a[0]=0\n",
    "print b\n",
    "print c"
   ]
  },
  {
   "cell_type": "markdown",
   "metadata": {},
   "source": [
    "1) b객체는 수정되지 않았고, c객체는 수정되었다."
   ]
  },
  {
   "cell_type": "markdown",
   "metadata": {},
   "source": [
    "2)b객체는 a객체의 원소를 가져다가 리스트로 만드는 것이고, c객체는 a객체의 레퍼런스를 가져다가 3번 반복하여 더한것을 c객체에 저장한 것이다."
   ]
  },
  {
   "cell_type": "markdown",
   "metadata": {},
   "source": [
    "Q4 : 다음 문자열을 ':'을 기준으로 분리하여 리스트로 만들고 각 문자열의 좌우 공백을 제거하시오 (즉, 문자열 S에서 l을 만들어라)\n",
    "\n",
    "s = '  first star   :   second star   :    third star  '\n",
    "\n",
    "l = ['first star', 'second star', 'third star']\n",
    "\n",
    "1) for ~ in 문을 이용한 코드를 작성하시오.\n",
    "\n",
    "2) 리스트 내포(list comprehension)를 이용한 코드를 작성하시오."
   ]
  },
  {
   "cell_type": "code",
   "execution_count": 12,
   "metadata": {
    "collapsed": false
   },
   "outputs": [
    {
     "name": "stdout",
     "output_type": "stream",
     "text": [
      "['first star', 'second star', 'third star']\n"
     ]
    }
   ],
   "source": [
    "s = '  first star   :   second star   :    third star  '\n",
    "res = s.split(':')\n",
    "l = [res[i].strip() for i in range(len(res))]\n",
    "print l"
   ]
  },
  {
   "cell_type": "markdown",
   "metadata": {},
   "source": [
    "문자열 s를 ':'를 기준으로 스플릿하여 res리스트에 저장해 놓았다. 그리고 리스트내포를 이용하여 strip()으로 공백을 지우면서 l리스트를 생성하였다."
   ]
  },
  {
   "cell_type": "markdown",
   "metadata": {},
   "source": [
    "Q5 : 다음과 같이 0보다 큰 정수 리스트 변수 list를 인자로 받는 함수 addall(list)와 addallodd(list)를 for ~ in 리터널과 리스트 내포 방식으로 각각 제시하시오."
   ]
  },
  {
   "cell_type": "markdown",
   "metadata": {},
   "source": [
    "1) addall(list) 함수 (리스트 내의 모든 정수를 더하는 함수로서 해답으로는 for ~ in 리터럴과 리스트 내포 방식으로 각각 제시하시오.)"
   ]
  },
  {
   "cell_type": "markdown",
   "metadata": {},
   "source": [
    "2) addallodd(list) 함수 (리스트내의 모든 홀수를 더하는 함수로서 해답으로는 for ~ in 리터럴과 리스트 내포 방식으로 각각 제시하시오.)"
   ]
  },
  {
   "cell_type": "code",
   "execution_count": 13,
   "metadata": {
    "collapsed": false
   },
   "outputs": [
    {
     "data": {
      "text/plain": [
       "45"
      ]
     },
     "execution_count": 13,
     "metadata": {},
     "output_type": "execute_result"
    }
   ],
   "source": [
    "#1) for ~ in\n",
    "def addall(l):\n",
    "    result = 0\n",
    "    for i in range(len(l)):\n",
    "        result += l[i]\n",
    "    return result\n",
    "addall([1, 2, 3, 4, 5, 6, 7, 8, 9])"
   ]
  },
  {
   "cell_type": "markdown",
   "metadata": {},
   "source": [
    "for ~ in을 사용하여 리스트 내에 있는 모든 원소를 더하여 return 하였다."
   ]
  },
  {
   "cell_type": "code",
   "execution_count": 14,
   "metadata": {
    "collapsed": false
   },
   "outputs": [
    {
     "data": {
      "text/plain": [
       "45"
      ]
     },
     "execution_count": 14,
     "metadata": {},
     "output_type": "execute_result"
    }
   ],
   "source": [
    "#1) 리스트 내포\n",
    "def addall(l):\n",
    "    return sum([l[i] for i in range(len(l)) if len(l) != 0])\n",
    "addall([1, 2, 3, 4, 5, 6, 7, 8, 9])"
   ]
  },
  {
   "cell_type": "markdown",
   "metadata": {},
   "source": [
    "매개리스트의 원소가 있다면 리스트 내포로 리스트를 만들고, sum()함수를 통해 리스트 원소들을 모두 더하여 return 하였다."
   ]
  },
  {
   "cell_type": "code",
   "execution_count": 15,
   "metadata": {
    "collapsed": false
   },
   "outputs": [
    {
     "data": {
      "text/plain": [
       "25"
      ]
     },
     "execution_count": 15,
     "metadata": {},
     "output_type": "execute_result"
    }
   ],
   "source": [
    "#2) for ~ in \n",
    "def addallodd(l):\n",
    "    result = 0\n",
    "    for i in range(len(l)):\n",
    "        if(l[i] % 2):\n",
    "            result += l[i]\n",
    "    return result\n",
    "addallodd([1, 2, 3, 4, 5, 6, 7, 8, 9])"
   ]
  },
  {
   "cell_type": "markdown",
   "metadata": {},
   "source": [
    "for ~ in을 사용하여 홀수만을 더하여 return 하는 함수를 만들었다."
   ]
  },
  {
   "cell_type": "code",
   "execution_count": 16,
   "metadata": {
    "collapsed": false
   },
   "outputs": [
    {
     "data": {
      "text/plain": [
       "25"
      ]
     },
     "execution_count": 16,
     "metadata": {},
     "output_type": "execute_result"
    }
   ],
   "source": [
    "#2) for ~ in \n",
    "def addallodd(l):\n",
    "    return sum([l[i] for i in range(len(l)) if l[i]%2])\n",
    "addallodd([1, 2, 3, 4, 5, 6, 7, 8, 9])"
   ]
  },
  {
   "cell_type": "markdown",
   "metadata": {},
   "source": [
    "매개리스트의 원소중 홀수만을 받아 리스트 내포를 통해 리스트를 만들고, sum()함수를 통해 원소들을 더한 결과를 출력하였다."
   ]
  },
  {
   "cell_type": "markdown",
   "metadata": {},
   "source": [
    "Q6 : 다음 코드를 보고 물음에 답하시오.\n",
    "\n",
    "L1 = [1, 2, 3]\n",
    "L2 = [4, 5, 6]\n",
    "d = {'low':L1, 'high':L2}\n",
    "e = d\n",
    "f = d.copy()\n",
    "print d\n",
    "print e\n",
    "print f\n",
    "print\n",
    "d['low'] = [10, 20, 30]\n",
    "d['high'][1] = 500\n",
    "print d\n",
    "print e\n",
    "print f\n",
    "\n",
    "1) 위 코드의 수행 결과 d와 e는 항상 같은 결과를 출력한다. 그 이유는 무엇인가?\n",
    "\n",
    "2) 위 코드의 수행 결과 마지막 f의 내용은 다음과 같다. 이 때 'high' 키의 값 내용 중 500이 출력된 이유와 'low' 키의 값 내용 중 [1, 2, 3]이 출력된 이유를 설명하시오 ([hint]: shallow copy 관점에서 설명하시오.)\n",
    "{'high': [4, 500, 6], 'low': [1, 2, 3]}"
   ]
  },
  {
   "cell_type": "code",
   "execution_count": 17,
   "metadata": {
    "collapsed": false
   },
   "outputs": [
    {
     "name": "stdout",
     "output_type": "stream",
     "text": [
      "{'high': [4, 5, 6], 'low': [1, 2, 3]}\n",
      "{'high': [4, 5, 6], 'low': [1, 2, 3]}\n",
      "{'high': [4, 5, 6], 'low': [1, 2, 3]}\n",
      "\n",
      "{'high': [4, 500, 6], 'low': [10, 20, 30]}\n",
      "{'high': [4, 500, 6], 'low': [10, 20, 30]}\n",
      "{'high': [4, 500, 6], 'low': [1, 2, 3]}\n"
     ]
    }
   ],
   "source": [
    "L1 = [1, 2, 3]\n",
    "L2 = [4, 5, 6]\n",
    "d = {'low':L1, 'high':L2}\n",
    "e = d\n",
    "f = d.copy()\n",
    "print d\n",
    "print e\n",
    "print f\n",
    "print\n",
    "d['low'] = [10, 20, 30]\n",
    "d['high'][1] = 500\n",
    "print d\n",
    "print e\n",
    "print f"
   ]
  },
  {
   "cell_type": "code",
   "execution_count": 18,
   "metadata": {
    "collapsed": false
   },
   "outputs": [
    {
     "name": "stdout",
     "output_type": "stream",
     "text": [
      "True\n"
     ]
    }
   ],
   "source": [
    "#1)\n",
    "print id(d) == id(e)"
   ]
  },
  {
   "cell_type": "markdown",
   "metadata": {},
   "source": [
    "1) d와 e의 id값이 같다. e는 d의 레퍼런스를 받아 값을 똑같이 유지한다."
   ]
  },
  {
   "cell_type": "code",
   "execution_count": 19,
   "metadata": {
    "collapsed": false
   },
   "outputs": [
    {
     "name": "stdout",
     "output_type": "stream",
     "text": [
      "False\n",
      "False\n",
      "True\n",
      "[1, 2, 3] [4, 500, 6]\n"
     ]
    }
   ],
   "source": [
    "#2)\n",
    "print id(d) == id(f)\n",
    "print id(L1) == id(d['low'])\n",
    "print id(L2[1]) == id(d['high'][1])\n",
    "print L1, L2"
   ]
  },
  {
   "cell_type": "markdown",
   "metadata": {},
   "source": [
    "2) copy()메소드는 shallow copy를 이용한다. 주소값만을 받아 다른 객체를 생성하게 된다. 그런데 d['low'] = [10, 20, 30]과 같이 하는 행위는 d의 원소를 바꾸겠다는 의미이다. d와 f는 전혀 다른 객체 이므로 d에서 바꾸었다고 f에서 적용이 되진 않는다.\n",
    "\n",
    "d['high'][1] = 500는 L2의 레퍼런스에 접근해 값을 바꾸고 있다. shallow copy된 f라 하더라도 L2의 값이 바뀌면 그대로 적용이 된다."
   ]
  },
  {
   "cell_type": "markdown",
   "metadata": {},
   "source": [
    "Q7 : 사전 d = {'one':1, 'two':2, 'three':3, 'four':4, 'five':5}가 주어졌을 때 다음 요구사항에 맞는 코드를 제시하시오\n",
    "[참고]: d.keys(), d.values()를 통해 리스트를 얻어낸 후 리스트가 지니고 있는 sort(cmp=None, key=None, reverse=False)함수를 활용하시오.\n",
    "\n",
    "1) 키의 알파벳 오름차순 순서대로 튜플 (키, 값)을 차례대로 출력하시오.\n",
    "\n",
    "2) 키의 알파벳 내림차순 순서대로 튜플 (키, 값)을 차례대로 출력하시오.\n",
    "\n",
    "3) 값의 오름차순 순서대로 튜플 (키, 값)을 차례대로 출력하시오.\n",
    "\n",
    "4) 값의 내림차순 순서대로 튜플 (키, 값)을 차례대로 출력하시오."
   ]
  },
  {
   "cell_type": "code",
   "execution_count": 20,
   "metadata": {
    "collapsed": false
   },
   "outputs": [],
   "source": [
    "d = {'one':1, 'two':2, 'three':3, 'four':4, 'five':5}\n",
    "keys = d.keys()\n",
    "values = d.values()"
   ]
  },
  {
   "cell_type": "code",
   "execution_count": 21,
   "metadata": {
    "collapsed": false
   },
   "outputs": [
    {
     "name": "stdout",
     "output_type": "stream",
     "text": [
      "('five', 5)\n",
      "('four', 4)\n",
      "('one', 1)\n",
      "('three', 3)\n",
      "('two', 2)\n"
     ]
    }
   ],
   "source": [
    "#1)\n",
    "keys.sort()\n",
    "for i in range(len(keys)):\n",
    "    print (keys[i], d[keys[i]])"
   ]
  },
  {
   "cell_type": "markdown",
   "metadata": {},
   "source": [
    "key의 값을 오름차순으로 정렬 후, for ~ in을 사용하여 사전 d의 key에 해당하는 value 값을 찾았다."
   ]
  },
  {
   "cell_type": "code",
   "execution_count": 22,
   "metadata": {
    "collapsed": false
   },
   "outputs": [
    {
     "name": "stdout",
     "output_type": "stream",
     "text": [
      "('two', 2)\n",
      "('three', 3)\n",
      "('one', 1)\n",
      "('four', 4)\n",
      "('five', 5)\n"
     ]
    }
   ],
   "source": [
    "#2)\n",
    "keys.sort(reverse=True)\n",
    "for i in range(len(keys)):\n",
    "    print (keys[i], d[keys[i]])"
   ]
  },
  {
   "cell_type": "markdown",
   "metadata": {},
   "source": [
    "1)의 문제와 마찬가지로 풀었는데, sort에 옵션 reverse=True를 주어 내림차순으로 정렬시켰다."
   ]
  },
  {
   "cell_type": "code",
   "execution_count": 23,
   "metadata": {
    "collapsed": false
   },
   "outputs": [
    {
     "name": "stdout",
     "output_type": "stream",
     "text": [
      "('one', 1)\n",
      "('two', 2)\n",
      "('three', 3)\n",
      "('four', 4)\n",
      "('five', 5)\n"
     ]
    }
   ],
   "source": [
    "#3)\n",
    "values.sort()\n",
    "for i in range(len(keys)):\n",
    "    for j in range(len(keys)):\n",
    "        if d[keys[j]] == values[i]:\n",
    "            print(keys[j], values[i])"
   ]
  },
  {
   "cell_type": "markdown",
   "metadata": {},
   "source": [
    "values를 오름차순으로 정렬시킨 뒤, 사전 d에서 해당 value를 값는 key를 찾는다면 출력하도록 하였다."
   ]
  },
  {
   "cell_type": "code",
   "execution_count": 24,
   "metadata": {
    "collapsed": false
   },
   "outputs": [
    {
     "name": "stdout",
     "output_type": "stream",
     "text": [
      "('five', 5)\n",
      "('four', 4)\n",
      "('three', 3)\n",
      "('two', 2)\n",
      "('one', 1)\n"
     ]
    }
   ],
   "source": [
    "values.sort(reverse=True)\n",
    "for i in range(len(keys)):\n",
    "    for j in range(len(keys)):\n",
    "        if d[keys[j]] == values[i]:\n",
    "            print(keys[j], values[i])"
   ]
  },
  {
   "cell_type": "markdown",
   "metadata": {},
   "source": [
    "values를 내림차순으로 정렬시킨 뒤, 사전 d에서 해당 value를 값는 key를 찾는다면 출력하도록 하였다."
   ]
  },
  {
   "cell_type": "markdown",
   "metadata": {},
   "source": [
    "프로젝트 오일러 7"
   ]
  },
  {
   "cell_type": "code",
   "execution_count": 25,
   "metadata": {
    "collapsed": false
   },
   "outputs": [
    {
     "name": "stdout",
     "output_type": "stream",
     "text": [
      "104743\n"
     ]
    }
   ],
   "source": [
    "#프로젝트 오일러7\n",
    "import math\n",
    "def get_prime(num):\n",
    "    pointer = 2\n",
    "    i = 1\n",
    "    prime = 0\n",
    "    num -= 1\n",
    "    if(num == 0): return 2\n",
    "    while num!= 0:\n",
    "        pointer = 2\n",
    "        i += 1\n",
    "        while(i % pointer != 0):\n",
    "            pointer+=1\n",
    "            if(pointer > math.sqrt(i)):\n",
    "                num -= 1\n",
    "                prime = i\n",
    "                break\n",
    "    return prime\n",
    "\n",
    "print get_prime(10001)"
   ]
  },
  {
   "cell_type": "markdown",
   "metadata": {},
   "source": [
    "get_prime(n)함수는 n번째 소수를 구하는 함수이다. 제곱수까지만 소수를 검사하도록하여 제곱수를 넘는다면 break하여 순차적으로 0번째 부터 n번째까지 소수인지 검사한다."
   ]
  },
  {
   "cell_type": "markdown",
   "metadata": {},
   "source": [
    "프로젝트 오일러 8"
   ]
  },
  {
   "cell_type": "code",
   "execution_count": 27,
   "metadata": {
    "collapsed": false
   },
   "outputs": [
    {
     "name": "stdout",
     "output_type": "stream",
     "text": [
      "40824\n"
     ]
    }
   ],
   "source": [
    "#프로젝트 오일러 8\n",
    "list_n = \"\"\"\n",
    "73167176531330624919225119674426574742355349194934\n",
    "96983520312774506326239578318016984801869478851843\n",
    "85861560789112949495459501737958331952853208805511\n",
    "12540698747158523863050715693290963295227443043557\n",
    "66896648950445244523161731856403098711121722383113\n",
    "62229893423380308135336276614282806444486645238749\n",
    "30358907296290491560440772390713810515859307960866\n",
    "70172427121883998797908792274921901699720888093776\n",
    "65727333001053367881220235421809751254540594752243\n",
    "52584907711670556013604839586446706324415722155397\n",
    "53697817977846174064955149290862569321978468622482\n",
    "83972241375657056057490261407972968652414535100474\n",
    "82166370484403199890008895243450658541227588666881\n",
    "16427171479924442928230863465674813919123162824586\n",
    "17866458359124566529476545682848912883142607690042\n",
    "24219022671055626321111109370544217506941658960408\n",
    "07198403850962455444362981230987879927244284909188\n",
    "84580156166097919133875499200524063689912560717606\n",
    "05886116467109405077541002256983155200055935729725\n",
    "71636269561882670428252483600823257530420752963450\n",
    "\"\"\"\n",
    "temp = 0\n",
    "res = 0\n",
    "list_n = list_n.splitlines()\n",
    "number = \"\"\n",
    "for i in list_n:\n",
    "    if i == '\\n':\n",
    "        continue\n",
    "    number += i\n",
    "for i in range(0, len(number)):\n",
    "    if i < len(number)-5:\n",
    "        temp = int(number[i])*int(number[i+1])*int(number[i+2])*int(number[i+3])*int(number[i+4])\n",
    "    if temp > res:\n",
    "        res = temp\n",
    "print res"
   ]
  },
  {
   "cell_type": "markdown",
   "metadata": {},
   "source": [
    "list_n은 문자열을 줄바꿈을 기준으로 나누고, 5개의 숫자들의 곱을 구하고 계속해서 5개의 숫자를 검사하여 큰 결과값을 res변수에 저장하도록 했다."
   ]
  },
  {
   "cell_type": "markdown",
   "metadata": {},
   "source": [
    "프로젝트 오일러 9"
   ]
  },
  {
   "cell_type": "code",
   "execution_count": 49,
   "metadata": {
    "collapsed": false
   },
   "outputs": [
    {
     "name": "stdout",
     "output_type": "stream",
     "text": [
      "31875000\n"
     ]
    }
   ],
   "source": [
    "#프로젝트 오일러 9\n",
    "import math\n",
    "l = [(a,b) for a in range(1,1000) for b in range(a, 1000) if (math.sqrt(a*a+b*b)) + a + b == 1000]\n",
    "print l[0][0] * l[0][1]*(1000-l[0][0]-l[0][1])"
   ]
  },
  {
   "cell_type": "markdown",
   "metadata": {},
   "source": [
    "리스트내포함수를 사용하는데, a^2 + b^2의 제곱근과 a, b를 더했을 때, 1000이 된다면 오일러 9번에서 제시한 \"a+b+c의 덧셈이 1000인 경우의 수는 한 가지이다\"를 만족한다."
   ]
  },
  {
   "cell_type": "markdown",
   "metadata": {},
   "source": [
    "[Incremental Project]"
   ]
  },
  {
   "cell_type": "code",
   "execution_count": 22,
   "metadata": {
    "collapsed": false
   },
   "outputs": [],
   "source": [
    "import urllib2\n",
    "#import re\n",
    "import string\n",
    "import json\n",
    "\n",
    "def remove(sentences):\n",
    "    lock = False\n",
    "    comment = False\n",
    "    end_comment = 0\n",
    "    for i in range(len(sentences)):\n",
    "        if sentences[i] == '<':\n",
    "            lock = True\n",
    "            end_comment -= 1\n",
    "            sentences[i] = ''\n",
    "        if sentences[i] == '>':\n",
    "            lock = False\n",
    "            end_comment += 1\n",
    "            sentences[i] = ''\n",
    "        if lock == True and sentences[i] == '!':\n",
    "            comment = True\n",
    "            end_comment = 0\n",
    "        if comment == True and end_comment == 1:\n",
    "            comment = False\n",
    "        if lock == True:\n",
    "            sentences[i] = ''\n",
    "        if comment == True:\n",
    "            sentences[i] = ''\n",
    "    return \"\".join(sentences)\n",
    "\n",
    "def list_pure_src(src):\n",
    "    L_source = list(src)\n",
    "    result = remove(L_source)\n",
    "    count = 0\n",
    "    text_line = result.split()\n",
    "    for i in range(0, len(text_line)):\n",
    "        count += len(text_line[i].split(' '))\n",
    "\n",
    "    #순수 텍스트만 추출\n",
    "    result_list = []\n",
    "    for i in text_line:\n",
    "        S = ''\n",
    "        for j in range(len(i)):\n",
    "            if i[j] not in string.punctuation:\n",
    "                S += i[j]\n",
    "        if len(S) != 0:\n",
    "            result_list.append(S)\n",
    "    return result_list\n",
    "\n",
    "#사전화 작업\n",
    "def dict_pure_num(pure_list):\n",
    "    count_word = dict()\n",
    "    for i in pure_list:\n",
    "        if i not in  count_word:\n",
    "            count_word[i] = 1\n",
    "        else:\n",
    "            count_word[i] += 1\n",
    "    return json.dumps(count_word, ensure_ascii=False)"
   ]
  },
  {
   "cell_type": "code",
   "execution_count": 23,
   "metadata": {
    "collapsed": false
   },
   "outputs": [
    {
     "name": "stdout",
     "output_type": "stream",
     "text": [
      "{\"홈페이지에\": 1, \"특성화\": 3, \"음식\": 1, \"소개합니다\": 1, \"레몬\": 1, \"글로벌\": 3, \"1143\": 2, \"Hipstamatic\": 1, \"모집119\": 1, \"출시\": 1, \"온라인\": 3, \"제2회\": 1, \"계속\": 1, \"0836\": 2, \"사용할\": 1, \"메카한국기술교육대학교\": 1, \"20161019\": 3, \"유지\": 2, \"교육역량강화사업\": 3, \"있으니\": 1, \"공지사항\": 1, \"컨퍼런스’\": 1, \"20161012\": 2, \"소개\": 1, \"업무\": 1, \"찾기\": 1, \"정기교육\": 1, \"게임방\": 1, \"1834\": 2, \"NH농협은행에\": 1, \"펜타시스템\": 1, \"안전환경\": 1, \"Contacts\": 1, \"것을환영합니다\": 1, \"‘빅데이터\": 1, \"학사안내\": 1, \"취업게시판\": 1, \"to\": 2, \"경진대회』모집\": 1, \"IDPW\": 1, \"2100\": 2, \"Convergence\": 1, \"바로가기\": 2, \"2016\": 2, \"1461\": 1, \"1460\": 1, \"운영사인\": 1, \"단\": 1, \"동남구\": 2, \"학부광장\": 1, \"rights\": 1, \"1441\": 2, \"우리\": 1, \"big\": 1, \"국감최성준\": 1, \"revenue\": 1, \"안전처\": 1, \"연속\": 1, \"세원정공\": 1, \"Copyright\": 1, \"boost\": 1, \"20161026\": 2, \"20161027\": 1, \"20161024\": 2, \"20161025\": 1, \"Quick\": 1, \"FAX\": 1, \"브라우저를\": 1, \"All\": 1, \"컨텐츠를\": 1, \"2030\": 2, \"아이디어\": 1, \"특별\": 1, \"gets\": 1, \"1704\": 2, \"상장심화\": 1, \"충청남도\": 2, \"‘제8차\": 1, \"학부서비스\": 1, \"모\": 2, \"해커톤\": 1, \"31253\": 1, \"컨퍼런스\": 1, \"분리공시제\": 1, \"모집\": 1, \"한국기술교육대학교\": 5, \"‘앤팟’\": 1, \"2142\": 2, \"Registration\": 1, \"Go\": 1, \"최초\": 1, \"1412\": 2, \"Education\": 1, \"대회\": 1, \"전자신문\": 1, \"수\": 2, \"로그인할\": 1, \"1600\": 1, \"등\": 1, \"대외활동\": 1, \"WEBMAIL\": 1, \"3D프린터연구개발\": 1, \"School\": 1, \"20161113일\": 1, \"학과사무실\": 1, \"지원』수요조사\": 1, \"병천면\": 2, \"20161030\": 1, \"학교\": 1, \"G마켓\": 1, \"유지될\": 1, \"공고공설\": 1, \"for\": 1, \"꼭\": 1, \"비밀번호\": 1, \"0911\": 2, \"codesprint\": 1, \"열려\": 1, \"0838\": 2, \"속도\": 1, \"대전금속\": 1, \"회원가입\": 1, \"1522\": 2, \"commits\": 1, \"new\": 1, \"1656\": 2, \"1131\": 2, \"후끈\": 1, \"신입사원\": 2, \"신입직원\": 1, \"Empowerment\": 1, \"161026수\": 1, \"Series\": 1, \"raises\": 1, \"개최\": 3, \"CSE\": 1, \"기고사물인터넷\": 1, \"Study\": 1, \"공학교육인증\": 1, \"deliver\": 1, \"실험실\": 1, \"간식이벤트\": 1, \"묘수\": 1, \"커버리지\": 1, \"its\": 1, \"Contact\": 1, \"대기업셀바스그룹신입공채SWHW개발\": 1, \"TEL\": 1, \"100\": 1, \"다음\": 1, \"0909\": 2, \"by\": 1, \"041\": 2, \"전문기업\": 1, \"강원창조경제혁신센터\": 1, \"hackerrank\": 1, \"‘오늘\": 1, \"Freshdesk\": 1, \"Security\": 1, \"of\": 1, \"National\": 1, \"30\": 1, \"재난망\": 1, \"아이폰7\": 1, \"s\": 1, \"Computer\": 1, \"UK\": 1, \"고취\": 1, \"필요가\": 1, \"신입채용\": 1, \"Contents\": 1, \"72\": 1, \"주인스텍\": 1, \"2학기\": 1, \"머니브레인\": 1, \"1223\": 2, \"Schoolfun\": 1, \"도입\": 1, \"app\": 1, \"IT융합분야에\": 1, \"신\": 1, \"Creative\": 1, \"금융권\": 1, \"세원그룹대기업직무별\": 1, \"10분기\": 1, \"Online\": 1, \"reserved\": 1, \"서진씨엔에스주\": 1, \"정보보안\": 1, \"20161006\": 5, \"인력양성사업\": 3, \"playlist\": 1, \"round\": 1, \"from\": 2, \"1635\": 2, \"수준의\": 1, \"사전예약\": 1, \"졸업\": 1, \"유출될\": 1, \"세계\": 1, \"1600한국기술교육대학교\": 1, \"시\": 1, \"공지입니다\": 1, \"제3회\": 1, \"페이스북\": 1, \"연결고리\": 1, \"KoreaI\": 1, \"공채\": 1, \"CK\": 1, \"대학원\": 2, \"1358\": 2, \"기능을\": 1, \"『IT융합\": 2, \"챗봇\": 2, \"F\": 1, \"560\": 2, \"Science\": 1, \"자유게시판\": 1, \"구성원소개\": 1, \"대한\": 1, \"St\": 1, \"로그아웃을\": 1, \"개인정보가\": 1, \"대구\": 1, \"공고\": 1, \"20161101\": 13, \"안내\": 2, \"HRD초청특강\": 1, \"Fun\": 1, \"Navigation\": 1, \"인기투표\": 1, \"1021\": 2, \"2015\": 1, \"Spinlist\": 1, \"55\": 1, \"열기\": 1, \"해주세요\": 1, \"Cyber\": 1, \"TechCrunch\": 1, \"접속부터는\": 1, \"Engineering\": 1, \"2128\": 2, \"Close\": 1, \"30기\": 1, \"요기요\": 1, \"평생교육원\": 1, \"Location\": 1, \"and\": 2, \"가전리\": 1, \"천안시\": 2, \"Pokémon\": 1, \"세미나\": 1, \"IT전문인력\": 1, \"경쟁력\": 1, \"컴퓨터공학부\": 7, \"Hubble\": 1, \"요금할인\": 1, \"이용\": 1, \"£19B\": 1, \"2016년\": 2, \"뭐\": 1, \"지능정보사회로의\": 1, \"0957\": 2, \"오신\": 1, \"교직원\": 1, \"부산서\": 1, \"Facebook\": 1, \"충절로\": 2, \"인수\": 1, \"2130\": 2, \"1617\": 2, \"5회\": 1, \"서비스\": 1, \"메카\": 1, \"제\": 1, \"1443\": 2, \"닫더라도\": 1, \"없습니다\": 1, \"1440\": 2, \"교육의\": 2, \"공공장소에서\": 1, \"경우\": 1, \"사이버보안\": 1, \"컨텐츠\": 2, \"아이디\": 1, \"융합소프트웨어\": 3, \"University\": 1, \"자료실\": 2, \"©\": 1, \"작품\": 1, \"학부\": 1, \"입학\": 1, \"IT\": 6, \"배달\": 1, \"Capability\": 1, \"0948\": 2, \"있습니다\": 1, \"홈페이지\": 1, \"scores\": 1, \"인터넷\": 1, \"양성\": 1, \"전시회\": 1, \"영화\": 1, \"a\": 2, \"로그인이\": 1, \"국가는\": 1, \"1위\": 1, \"1462\": 1, \"1800\": 4, \"‘\": 1, \"1602\": 2, \"코넥스ㆍ코스닥\": 1, \"설명회’\": 1, \"Campus\": 1, \"볼까’\": 1, \"국제적인\": 1, \"1001\": 2, \"Platum\": 1, \"충북IT분야\": 1, \"로그인\": 4, \"찾았다\": 1, \"시상\": 1, \"million\": 2}\n"
     ]
    }
   ],
   "source": [
    "source = urllib2.urlopen(\"http://cse.kut.ac.kr/\").read()\n",
    "print dict_pure_num(list_pure_src(source))"
   ]
  },
  {
   "cell_type": "code",
   "execution_count": 24,
   "metadata": {
    "collapsed": false
   },
   "outputs": [
    {
     "name": "stdout",
     "output_type": "stream",
     "text": [
      "{\"등록txtdate삭제intxt\": 1, \"한글캠페인\": 1, \"위하여\": 1, \"보드나라\": 1, \"나눔글꼴이\": 2, \"6위\": 1, \"나눔글꼴을\": 1, \"선호주제설정\": 1, \"c0c\": 1, \"클릭하세요\": 1, \"Tailor\": 1, \"아티스트와\": 1, \"BMW\": 1, \"바로이동\": 1, \"몇\": 1, \"만나보세요\": 1, \"분할해보자\": 1, \"기존\": 1, \"홈\": 3, \"팁\": 1, \"캡쳐\": 1, \"고객센터\": 1, \"토요타\": 1, \"주제형캐스트\": 1, \"사이트로\": 1, \"선플커넥터\": 1, \"때는\": 1, \"제공합니다\": 1, \"둥2와딸KI\": 1, \"강요\": 1, \"스NEW\": 1, \"병무청\": 1, \"박명수와\": 1, \"제공되지\": 1, \"팝코넷\": 1, \"글로벌오토뉴스\": 1, \"자주\": 2, \"조원진\": 1, \"있습니다추가하시려면\": 1, \"회화\": 1, \"기사보기\": 1, \"앱\": 3, \"필요합니다\": 1, \"설치된\": 1, \"히트\": 1, \"M5\": 1, \"자동차\": 3, \"일렉트릭\": 1, \"천연가습기\": 1, \"2010039\": 1, \"전문보기\": 2, \"falserunOnloadfunctionbdcifdreturnvar\": 1, \"국어사전\": 1, \"미래\": 1, \"httpnv2vetanavercomdrunit002APnrefreshx0\": 1, \"주요언론사\": 2, \"설정된\": 1, \"설치하세요\": 1, \"다가온\": 1, \"부동산\": 1, \"기온\": 2, \"1011\": 2, \"닫기\": 7, \"프로\": 1, \"폰트를\": 1, \"켤\": 1, \"삼성\": 1, \"카테고리\": 1, \"포착…기금\": 1, \"공지사항\": 1, \"맛있는\": 1, \"신고검색어저장\": 4, \"종합경제\": 1, \"다양한\": 1, \"마이클잭슨\": 2, \"삭제완료\": 1, \"메뉴\": 2, \"않고\": 1, \"경우에\": 1, \"4월13일\": 1, \"뷰\": 1, \"통합검색\": 1, \"타임스퀘어\": 2, \"txt\": 1, \"전기차\": 1, \"앱을\": 1, \"정책\": 2, \"뉴스\": 4, \"6\": 2, \"type\": 1, \"6기가\": 1, \"이전캐스트다음캐스트\": 1, \"짜장면\": 1, \"프로젝트\": 1, \"해피빈쥬니버\": 1, \"2연승\": 1, \"대한\": 1, \"개인정보\": 1, \"인물\": 1, \"검색어를\": 1, \"공동\": 1, \"에디터\": 1, \"대해\": 1, \"건강\": 1, \"열기\": 1, \"사진\": 1, \"8위\": 1, \"지식교양\": 1, \"TV연예\": 1, \"북스\": 1, \"진술\": 1, \"더쇼상승168\": 1, \"터프해진\": 1, \"저장되지\": 1, \"OK저축\": 1, \"나눔글꼴로\": 1, \"7위\": 1, \"나만의\": 1, \"데일리카\": 1, \"글꼴설정\": 2, \"XE의\": 1, \"삭제검색어저장\": 2, \"1\": 1, \"httpnv1vetanavercomdrunit002ANtbsz2nrefreshx0\": 1, \"Imageasrchttpcecsnavercommbudocumentlocationl1115DLScriptquSXInew\": 1, \"카페\": 2, \"삼성화재\": 1, \"증권\": 1, \"반드시\": 1, \"영자지\": 1, \"기록\": 3, \"Forgot\": 1, \"가능합니다\": 2, \"6원10\": 1, \"편\": 1, \"한국시리즈상승45\": 1, \"TV편성\": 1, \"확보\": 1, \"네이버를\": 1, \"or\": 1, \"스피커\": 1, \"이동\": 1, \"검색어는\": 1, \"생각한대로\": 1, \"글로벌\": 1, \"청소년들의\": 1, \"charsetutf8ksetRequestHeadercharsetutf8ksend\": 1, \"장시호상승81\": 1, \"실시간\": 1, \"자세히보기\": 1, \"연합뉴스\": 1, \"개인\": 2, \"리빙푸드\": 1, \"보내기\": 1, \"ONOFF설정은해당\": 1, \"블로그\": 2, \"대안전시를\": 1, \"아이오닉\": 1, \"두산\": 1, \"TV중계\": 1, \"병무청상승39\": 1, \"시작페이지로\": 1, \"질문형\": 1, \"번\": 1, \"자동완성을\": 1, \"스파이샷\": 1, \"검색어로\": 1, \"게임\": 2, \"네\": 1, \"檢\": 1, \"비교\": 1, \"음식\": 1, \"911\": 1, \"PCPINSIDE\": 1, \"클릭\": 1, \"빠른\": 1, \"전송은\": 1, \"Split\": 1, \"버튼을\": 1, \"NAVER\": 3, \"사용하고\": 1, \"입력\": 1, \"최근검색어\": 1, \"Username\": 1, \"줌\": 2, \"내PC\": 1, \"팔도의\": 1, \"7\": 2, \"취소\": 2, \"검색어를내\": 1, \"렌즈\": 2, \"6789101112\": 1, \"NPay\": 1, \"지워주세요\": 1, \"개인정보처리방침\": 1, \"무료입니다\": 1, \"쇼핑\": 2, \"웹문서\": 1, \"유형\": 1, \"오토카코리아\": 1, \"Sign\": 2, \"발생합니다\": 1, \"선택\": 1, \"지도\": 2, \"5회차\": 1, \"않는\": 1, \"보세요\": 2, \"끝내는\": 1, \"자동차테크\": 1, \"txttxt\": 1, \"선플운동본부\": 1, \"만들기\": 1, \"TV캐스트\": 1, \"구독설정\": 1, \"10개\": 1, \"GT3\": 1, \"않은\": 1, \"312\": 1, \"굴림\": 1, \"현재시스템글꼴\": 1, \"카미디어\": 1, \"투데이\": 1, \"이규혁상승687\": 1, \"노린다\": 1, \"회사소개\": 1, \"보호를\": 1, \"로그아웃을\": 1, \"ArrayquSnew\": 1, \"고객님의\": 1, \"웹툰\": 2, \"copy\": 1, \"최대\": 1, \"뮤직\": 3, \"도움말\": 8, \"12\": 1, \"keyword\": 1, \"KEF\": 1, \"KS\": 1, \"PC에서는\": 1, \"미리보기\": 1, \"Connect\": 1, \"제거법\": 1, \"학습\": 1, \"모든\": 2, \"무료로\": 2, \"또\": 1, \"복구\": 1, \"truereturn\": 1, \"오류\": 1, \"사전\": 2, \"뉴스이슈\": 1, \"등록를\": 1, \"각질\": 1, \"20161101214358\": 1, \"기업을\": 2, \"없습니다\": 1, \"스크롤\": 1, \"LogErrorfunctionbvar\": 1, \"빈자리를\": 1, \"컨텍스트\": 2, \"켜기\": 5, \"있습니다\": 3, \"관계에주목한\": 1, \"1위\": 1, \"4위\": 1, \"설리상승81\": 1, \"반사이익\": 1, \"번호는\": 1, \"아이폰보다\": 1, \"최신\": 1, \"메인을\": 2, \"현대\": 1, \"3위\": 1, \"aDLScriptquSXIlengthforvar\": 1, \"P9\": 1, \"지역\": 2, \"않습니다\": 1, \"스마일\": 1, \"N드라이브\": 1, \"사용\": 2, \"현재\": 1, \"스마트폰\": 2, \"8\": 1, \"다시\": 2, \"검색\": 2, \"피부\": 1, \"자동완성\": 13, \"13\": 2, \"디자인\": 1, \"abreadyStateiftypeof\": 1, \"뜨거운\": 1, \"구독목록\": 1, \"CTSV\": 1, \"재규어\": 1, \"용어사전\": 1, \"테크\": 2, \"페이스리프트\": 1, \"신규\": 1, \"조윤선상승108\": 1, \"영어\": 1, \"망원\": 1, \"수\": 1, \"8℃\": 2, \"광고\": 3, \"전체\": 2, \"차테크\": 2, \"2번째\": 1, \"1101화\": 1, \"헬로아티스트\": 1, \"저녁\": 1, \"9위\": 1, \"영어사전\": 1, \"엔진\": 2, \"진로소망을응원하는\": 1, \"그랜저\": 1, \"b0bifthisquSbareturn\": 1, \"오디오\": 1, \"생방송\": 1, \"공익나눔\": 1, \"패션뷰티\": 1, \"검색해\": 1, \"주제별캐스트\": 1, \"qstidx1\": 1, \"설치해야\": 1, \"공용\": 1, \"메일\": 1, \"2위\": 2, \"주세요\": 1, \"다음\": 1, \"PC에서\": 1, \"선거일까지\": 1, \"합니다나눔글꼴을\": 1, \"백과사전\": 1, \"공주전\": 1, \"선택하여\": 1, \"비리\": 1, \"나눔글꼴\": 7, \"포르쉐\": 1, \"세아향\": 1, \"mismatchbeforematchmismatchafter\": 2, \"앱스토어new\": 1, \"니콘\": 1, \"전체언론사\": 2, \"해\": 1, \"httpcastboxshoppingnavercomsboxmainnhn\": 1, \"이전페이지다음페이지\": 2, \"검색어\": 10, \"모터그래프\": 1, \"변경에\": 1, \"매거진전문지\": 1, \"핫\": 1, \"최근검색어내\": 1, \"V20\": 1, \"방법\": 1, \"장단점\": 1, \"한\": 1, \"스포츠연예\": 1, \"카페명\": 1, \"활성화되었습니다\": 1, \"Beta\": 1, \"설정\": 1, \"한자사전\": 1, \"계십니다\": 1, \"번에\": 1, \"생활위젯\": 1, \"음악\": 1, \"플러스\": 1, \"캐딜락\": 1, \"보기\": 3, \"최순실\": 1, \"삭제한\": 1, \"qstsize3\": 1, \"뉴스스탠드\": 2, \"이용약관\": 1, \"이유는\": 1, \"신형\": 1, \"Tip\": 1, \"쓰는\": 1, \"vs\": 2, \"elseifgsetTimeoutg100injectScriptsfunctionvar\": 1, \"in\": 1, \"행복검색\": 1, \"노트7의\": 1, \"보기위해서는나눔글꼴\": 1, \"제휴제안\": 1, \"서비스\": 2, \"까지\": 1, \"네이버뉴스연예스포츠경제랭킹\": 1, \"returnifloadedacompleteabonloadDonebonloadDonetruesetTimeoutd100elseifthisretry0iikopenGETcltrueksetRequestHeaderContentTypeapplicationxwwwformurlencoded\": 1, \"내역이\": 1, \"9\": 3, \"장시호\": 1, \"경우\": 1, \"조윤선\": 1, \"전자랜드\": 1, \"aundefinedbonloadDonebonloadDonetruecsetTimeoutd100bonloadd\": 1, \"윈도우\": 1, \"문자받기\": 2, \"위해서는nbsp나눔글꼴을\": 1, \"바로\": 1, \"IT\": 1, \"갤럭시\": 1, \"펼치기\": 1, \"전문자료\": 1, \"더보기\": 2, \"영화\": 4, \"이슈\": 1, \"확인되지\": 2, \"네이버me\": 1, \"최초설치가\": 1, \"칼럼\": 1, \"intxt\": 1, \"재설치가\": 1, \"방송통신\": 1, \"동영상\": 1, \"전체보기\": 1, \"마이비즈니스\": 1, \"한국시리즈\": 1, \"저장됩니다\": 1, \"다운로드URL\": 2, \"공간의\": 1, \"패밀리\": 1, \"바로가기\": 5, \"제압하고\": 1, \"멀티탭\": 1, \"LS50\": 1, \"공개\": 2, \"조원진상승495\": 2, \"지식iN\": 2, \"검색어가\": 1, \"카페글\": 1, \"찾는\": 1, \"약관\": 1, \"라인\": 1, \"연속\": 1, \"해제txt\": 1, \"가볍고\": 2, \"아이폰에서\": 1, \"책문화\": 1, \"먹자\": 1, \"번호판의\": 1, \"주제별\": 1, \"people\": 1, \"displaylink\": 1, \"5위\": 1, \"더\": 1, \"연령별남녀별\": 1, \"책\": 2, \"‘개인정보취급방침’\": 1, \"관심사에맞춰\": 1, \"다운로드\": 2, \"아트어라운드\": 1, \"일본어사전\": 1, \"끄기\": 7, \"제20대\": 1, \"모토야\": 1, \"설치\": 3, \"임의로\": 1, \"라이드매거진\": 1, \"10위\": 1, \"화웨이\": 1, \"포함\": 2, \"사용하는\": 1, \"않습니다나눔글꼴로\": 1, \"네이버SE\": 1, \"image7\": 1, \"및\": 3, \"매거진\": 1, \"UR\": 1, \"bthisquSlength1\": 1, \"입력하신\": 1, \"라이센스\": 2, \"내\": 6, \"동일한\": 1, \"최초\": 1, \"기기브라우저에\": 1, \"3차전\": 1, \"그룹의\": 1, \"심장\": 1, \"검색홈\": 1, \"갤노트7\": 1, \"더쇼\": 1, \"테마\": 1, \"MY뉴스\": 1, \"NC\": 1, \"긍정부정검색\": 1, \"C9\": 1, \"공주전상승462\": 1, \"var\": 4, \"Corp\": 1, \"네이버\": 14, \"시승기\": 2, \"기능을\": 2, \"램\": 1, \"영영사전\": 1, \"레이어\": 5, \"저장\": 2, \"후보에\": 1, \"안내\": 2, \"설치하시겠습니까\": 2, \"스포츠\": 4, \"with\": 1, \"시사상식\": 1, \"039켈리\": 1, \"쇼핑캐스트\": 2, \"사이트\": 3, \"up\": 1, \"설리\": 1, \"기능이\": 5, \"anew\": 1, \"국회의원선거\": 1, \"메인뉴스\": 1, \"청소년보호정책\": 1, \"급상승\": 1, \"예감\": 1, \"바퀴\": 1, \"이규혁\": 1, \"자세히\": 2, \"제대로완료되지\": 1, \"사용자가\": 2, \"TV\": 1, \"저장할\": 1, \"Mac\": 1, \"5\": 3, \"이미지\": 1, \"휴대폰번호\": 1, \"저장해\": 1, \"Password\": 1, \"사용자\": 1, \"꺼져\": 3, \"매체보기\": 1, \"확인\": 1, \"없습니다최근검색어에서\": 1, \"맥북화면을\": 1, \"이전다음\": 1, \"무선출시\": 1, \"로그인\": 3, \"Arrayretry0isLoadfunctionaforvar\": 1, \"svt\": 1, \"이전\": 1}\n"
     ]
    }
   ],
   "source": [
    "source = urllib2.urlopen(\"http://www.naver.com\").read()\n",
    "print dict_pure_num(list_pure_src(source))"
   ]
  },
  {
   "cell_type": "code",
   "execution_count": 25,
   "metadata": {
    "collapsed": false
   },
   "outputs": [
    {
     "name": "stdout",
     "output_type": "stream",
     "text": [
      "{\"top7px\": 1, \"overflowhiddenfloatleftmargintop1pxfontsize10pxlineheight12pxcolor81838cwhitespacenowrap\": 1, \"titstory\": 11, \"0fontweightboldfontsize11pxlineheight13pxfontfamilytahomasansserifcolor949494\": 1, \"6px\": 23, \"titissuerank\": 2, \"overflowhiddenfloatleftwidth66pxheight39pxlineheight39pxbackgroundcolortransparentbackgroundposition378px\": 1, \"suggestBox\": 105, \"wrapthesong\": 1, \"promotionimg\": 8, \"linkprotect\": 1, \"height103pxmargintop9px\": 2, \"displayblockheight15pxmarginleft15pxpaddingtop14pxlineheight15px\": 1, \"icocolon\": 1, \"width46pxbackgroundposition215px\": 1, \"realestateon\": 2, \"left15px\": 2, \"양심적\": 1, \"ratecontmargintop0\": 2, \"overflowhiddenpositionrelativewidth278pxheight45pxborderbottom1px\": 1, \"홈\": 1, \"팁\": 2, \"border1px\": 2, \"txtapp\": 1, \"topbnr\": 2, \"marginright7px\": 1, \"icow04backgroundposition0\": 1, \"잠룡\": 2, \"내한왕은\": 1, \"9px\": 6, \"쇼핑기획전\": 1, \"bottom8px\": 1, \"배우들\": 1, \"qafter\": 1, \"movieon\": 2, \"overflowhiddenpadding4px\": 1, \"left260px\": 1, \"영국\": 1, \"a5a6acbordertop0\": 1, \"titdaum\": 1, \"조원진\": 2, \"displayblockheight30px\": 1, \"유지\": 1, \"icosuggest2\": 1, \"부동산middot원자재\": 1, \"btnlogin\": 2, \"자동차\": 2, \"신선한\": 1, \"bottom7px\": 1, \"eeeef0backgroundcolorfbfbfb\": 1, \"듯\": 1, \"overflowhiddenwidth201pxmargintop19px\": 1, \"hide\": 1, \"width110pxheight12pxmargin4px\": 1, \"9pxlineheight17px\": 1, \"partevent\": 33, \"backgroundposition378px\": 1, \"wrapshop1\": 1, \"numreader\": 1, \"wrapshop3\": 1, \"wrapshop2\": 1, \"wrapshop5\": 1, \"wrapshop4\": 1, \"displayblockwidth40pxheight40pxmargin11px\": 1, \"width232pxpaddingright9pxtextaligncenter\": 1, \"시장\": 1, \"positionabsolutetop45pxleft0width184pxheight220pxpaddingbottom5pxbackgroundcolorfff\": 1, \"남북한\": 1, \"21드레스\": 1, \"height555px\": 1, \"backgroundurlhttpi1searchdaumcdnnetssearchall2011icoicosuggest20110721gif\": 1, \"eaeaea\": 1, \"100\": 1, \"icopushhover\": 1, \"titelection\": 3, \"appnew\": 1, \"98px\": 2, \"170pxtextindent9999px\": 1, \"10월\": 1, \"logosbswidth24pxheight12pxmargin2px\": 1, \"displayinlinefloatleftwidth31pxheight31pxmargin18px\": 1, \"copytxt\": 1, \"6500원\": 1, \"감독에게\": 1, \"listmall\": 3, \"norepeattextindent999em\": 1, \"bottom21pxright295px\": 1, \"height250px\": 1, \"444backgroundcolorfff\": 1, \"다음앱\": 3, \"wrapblog\": 2, \"paddingtop5px\": 1, \"spanlinkprogram\": 1, \"norepeatcolorffftextaligncenter\": 1, \"진출\": 1, \"뉴스\": 3, \"국회의원\": 2, \"backgroundurlhttpi1daumcdnnetdecotop2012startblognone20121023png\": 1, \"continfodisplayblockheight28pxpaddingtop12pxfontsize0backgroundcolor0047a8textaligncenter\": 1, \"6대0\": 1, \"소호BEST\": 1, \"1440px\": 1, \"verticalreader\": 20, \"성공하기프로방스\": 1, \"floatleftlineheight15px\": 1, \"키위도\": 1, \"horizontalimg\": 12, \"color222\": 2, \"appimport\": 2, \"labsecurity\": 2, \"선\": 1, \"backgroundposition349px\": 2, \"은빛\": 1, \"경기\": 2, \"defaultimg\": 23, \"overflowhiddenwidth181pxmargintop16pxletterspacing1px\": 1, \"txtresultmarginright9pxfontweightbold\": 1, \"color5778ff\": 1, \"진술\": 1, \"backgroundposition40px\": 5, \"wrapsearch\": 1, \"목록\": 1, \"height44pxmargin0\": 1, \"color3c77eb\": 1, \"19px\": 5, \"425px\": 1, \"4pxlineheight18pxbackgroundurlhttpi1daumcdnnetdecocomicstopdeco2014v2imgdaumvertv9pngv1664\": 1, \"backgroundposition15px\": 1, \"페이지\": 1, \"4pxfontsize11pxlineheight14pxtextalignleftwhitespacenowraptextoverflowellipsis\": 1, \"cafeguisortablehelper\": 1, \"displayblockwidth93pxheight27pxmargin15px\": 1, \"w26\": 2, \"w27\": 2, \"960px\": 1, \"w25\": 2, \"w22\": 2, \"w23\": 2, \"0directionltr\": 1, \"w21\": 2, \"answer\": 2, \"width182pxheight123pxmargin0\": 1, \"w28\": 2, \"w29\": 2, \"relaycenter\": 1, \"overflowhiddenwidth776pxpadding13px\": 1, \"weathercomp\": 30, \"50px\": 3, \"lablogin\": 1, \"79px\": 1, \"인기기획전\": 1, \"강릉\": 1, \"뚝배기\": 1, \"displayblockwidth248pxmargin0\": 1, \"displayblockheight22pxlineheight22pxtextaligncentercolor777b80backgroundcolortransparent\": 2, \"bnrtype4width132pxheight35pxmargintop5pxpaddingtop8pxbackgroundurlhttpi1daumcdnnetdecocomicstopdeco2014v2electionbgelection2016top4160317gif\": 1, \"dbdbdbborderleft1px\": 1, \"나뉘지쑥남카페\": 1, \"color25ad8b\": 1, \"top135pxleft369pxwidth21pxheight17pxbackgroundposition60px\": 1, \"backgroundposition130px\": 5, \"icow08backgroundposition0\": 1, \"width278pxmargintop5px\": 1, \"floatleftwidth53pxheight20pxfontsize11pxlineheight20pxbackgroundposition170px\": 1, \"dee1e6\": 1, \"iconewdisplaynonepositionabsolutetop18pxwidth10pxheight10pxbackgroundposition16px\": 1, \"numstatus\": 4, \"boxtit\": 11, \"linkhome\": 3, \"overflowhiddenpositionabsolutebottom14pxleft11pxwidth100pxheight18pxpaddingleft30pxlineheight21pxbackgroundposition0\": 1, \"844px\": 1, \"loginset\": 11, \"실시간\": 2, \"overflowhiddenpositionabsolutetop30pxleft55pxwidth71pxheight87pxtextaligncenter\": 1, \"9위\": 2, \"overflowhiddenwidth280pxheight35pxlineheight15px\": 1, \"2년도\": 1, \"floatleftlineheight15pxletterspacing1px\": 1, \"전주\": 1, \"color777\": 1, \"clb\": 1, \"민진웅\": 2, \"todaylink\": 8, \"0fontsize11pxlineheight13pxbackgroundposition0\": 1, \"이승환\": 2, \"linkwebfontweightboldfontsize12pxlineheight24pxcolor7b8ba1\": 1, \"d2dbe8letterspacing1px\": 1, \"numindex\": 3, \"상승152\": 2, \"펼치기\": 1, \"positionabsolutetop120pxleft0width280pxheight309pxbackgroundposition0\": 1, \"linkdirect\": 1, \"floatrightwidth62pxheight26pxbackgroundposition170px\": 1, \"overflowhiddenpaddingtop3px\": 1, \"오늘의\": 3, \"가장\": 3, \"운세\": 1, \"repeatxletterspacing1pxclearboth\": 1, \"txtthesong\": 1, \"느낌DOTAX\": 1, \"89pxbackgroundurlhttpi1daumcdnnetdecocomicstopdeco2014v2electionbgelection2016top1gif\": 1, \"typefstbig\": 7, \"000opacity01filteralphaopacity10\": 1, \"1226pxletterspacing1px\": 1, \"topbnroverflowhiddenwidth653pxborderbottom1px\": 1, \"660px\": 4, \"positionabsolutetop0left0zindex1width14pxheight13pxtextindent9999pxcursorpointer\": 1, \"1020px\": 1, \"headlayer\": 1, \"450px\": 1, \"positionabsolutepaddingright7pxfontsize11pxlineheight14pxbackgroundposition100\": 1, \"직상장하는\": 1, \"color262626letterspacing1px\": 1, \"990px\": 3, \"webtoonon\": 2, \"overflowhiddenwidth278pxpaddingtop31px\": 1, \"색다르게\": 1, \"비밀번호\": 2, \"1870px\": 1, \"left59pxwidth58pxbackgroundposition60px\": 1, \"backgroundposition290px\": 1, \"layerevent\": 1, \"광고\": 1, \"wrapcafe\": 2, \"overflowhiddenfloatleftwidth89pxheight64pxmarginright3pxpaddingtop11pxfontweightboldfontsize11pxlineheight12pxbackgroundurlhttpi1daumcdnnetdecocomicstopdeco2014v2bgdaumv9pngv1683\": 1, \"positionabsolutetop30pxleft1pxzindex0width179pxheight87pxbackgroundimageurlhttpi1daumcdnnetdecocomicstopdeco2014v2transparentgif\": 1, \"icodisk\": 1, \"positionabsolutetop10pxright3pxfontweightnormalfontsize12pxfontfamilyVerdanasansserifcolorfff\": 1, \"icomarket\": 1, \"자몽으로\": 1, \"displayblockheight100\": 1, \"아빠의\": 1, \"imgelection2016width11pxheight11pxmargin5px\": 1, \"상승73\": 2, \"positionabsolutetop34pxleft0height33pxpadding0\": 1, \"left218px\": 1, \"txtgap\": 1, \"zindex1backgroundcolor4e82eebackgroundposition0\": 1, \"linkbnr2\": 1, \"floatleftwidth13pxheight13pxmarginright3px\": 1, \"0paddingtop4pxfontbold\": 1, \"textdecorationunderline\": 5, \"지도\": 3, \"유재석을\": 1, \"많이\": 1, \"layerservice\": 26, \"txtslash\": 3, \"top35px\": 1, \"합치면\": 1, \"최근\": 1, \"광고안내\": 1, \"ddaycontdisplayinlineblockoverflowhidden\": 1, \"contmenu\": 7, \"top\": 1, \"linkphone\": 1, \"positionabsolutetop222pxleft214pxzindex103width466pxheight380pxbackgroundurlhttpi1daumcdnnetdecotop2012startpopie620121026png\": 1, \"displayinlinecolorfff\": 1, \"inputselecttextareabutton\": 1, \"빌보드\": 1, \"width179pxheight116px\": 1, \"displayblockfontsize11pxcolor737373textaligncenterletterspacing1px\": 1, \"width100paddingright0fontsize11pxcolorbababa\": 1, \"웹툰\": 2, \"linktithover\": 24, \"icoplay\": 9, \"lifloatleftmarginleft13px\": 1, \"1pxborder0\": 3, \"headermainasidearticlefooter\": 1, \"이세돌\": 1, \"오서산\": 1, \"1pxbackgroundcolore8e8e8\": 1, \"backgroundfff\": 1, \"minus\": 1, \"최악\": 1, \"67px\": 1, \"인기\": 2, \"장난치지\": 1, \"e1e1e1borderleft1px\": 1, \"width46pxbackgroundposition2px\": 1, \"infoevent\": 1, \"레이스39\": 1, \"overflowhiddenpositionabsolutetop19pxright79pxheight25pxbackgroundimageurlhttpi1daumcdnnetdecocomicstopdeco2014v2transparentgiftextindent9999px\": 1, \"650px\": 1, \"7pxcolor000\": 1, \"링크모음\": 3, \"bottom20pxleft155px\": 2, \"인재채용\": 1, \"width45pxbackgroundposition130px\": 1, \"성공할까\": 1, \"displayinlineblockpositionrelativewidth280pxheight45pxborderbottom1px\": 1, \"floatleftpadding0\": 4, \"displayinlineoverflowhiddenfloatleftwidth83pxheight93pxpadding23px\": 1, \"0px\": 1, \"맑음\": 1, \"천안시\": 1, \"margintop9pxlineheight18pxcolor5b5b5b\": 1, \"floatleftwidth25pxheight15pxlineheight15pxmargin2px\": 1, \"즐겨봐\": 1, \"페이지4\": 2, \"icosaenuribackgroundposition20px\": 1, \"positionrelativewidth181pxpaddingtop22px\": 1, \"6pxborderright1px\": 1, \"parttoday\": 138, \"0backgroundposition485px\": 1, \"colorg\": 11, \"height17pxbackgroundposition0\": 1, \"left212px\": 1, \"wraptv\": 10, \"0lineheight15pxbackgroundcolorfff\": 1, \"titnews\": 4, \"sportson\": 2, \"backgroundposition170px\": 11, \"width123px\": 1, \"14pxbackgroundposition10px\": 1, \"티스토리\": 1, \"누가\": 1, \"titthumb\": 1, \"bnrtype6\": 1, \"bnrtype5\": 1, \"numtime5backgroundposition50px\": 1, \"bnrtype3\": 1, \"검색\": 3, \"displayblockoverflowhiddenpositionrelativewidth653pxheight40px\": 1, \"toeaebefbackgroundimagemozlineargradienttop\": 1, \"displaynonepadding0\": 1, \"marginleft1pxfontnormal\": 1, \"cursordefault\": 1, \"descthumbhover\": 1, \"color2156c0\": 2, \"뉴발패딩자켓기절초풍특가\": 1, \"bar\": 3, \"699px\": 1, \"listfavorsch\": 3, \"titfavor\": 3, \"color24adc0\": 1, \"width267pxpadding26px\": 1, \"marginleft3pxpaddingleft13pxbackgroundurlhttpi1daumcdnnetimgsrcsearchsearchall2012icoicocomm2120614gif\": 1, \"gameon\": 2, \"icow09backgroundposition0\": 1, \"margintop9pxlineheight19pxcolor757474\": 1, \"floatleftpaddingright4px\": 1, \"100px\": 3, \"nummsg\": 1, \"titbrunch\": 4, \"4499정말\": 1, \"닫기\": 2, \"top75pxwidth367pxheight20pxpadding8px\": 1, \"displayinlineblockpadding11px\": 1, \"best\": 3, \"top0right18px\": 1, \"layoutpromotion\": 2, \"paddingtop16px\": 1, \"wrapbestreader\": 1, \"aactive\": 1, \"17pxborder1px\": 1, \"39당신\": 1, \"linkagora\": 7, \"paddingleft46pxbackgroundposition0\": 1, \"것이야유머나라\": 1, \"newg\": 2, \"1065072\": 1, \"width13pxbackgroundposition170px\": 1, \"inpagain\": 1, \"txtlabel\": 7, \"top83pxleft365px\": 1, \"겨울준비끝무료배송\": 1, \"tiertopexpand\": 1, \"백과사전\": 1, \"marginleft3pxfont12px14px\": 2, \"롯데닷컴\": 1, \"top156pxleft229px\": 1, \"tophead\": 4, \"teamaway\": 1, \"어학사전\": 1, \"floatleftpositionrelativezindex0width280pxheight120pxbackgroundurlhttpi1daumcdnnetdecocomicstopdeco2014v2bgdaumv9pngv1683\": 1, \"linklive\": 3, \"left7px\": 1, \"width51pxbackgroundposition180px\": 1, \"displayblockoverflowhiddenwidth78pxheight16pxmargintop8pxfontweightboldlineheight17pxcolorfffletterspacing1px\": 1, \"titbook\": 4, \"rolltxt\": 1, \"margintop10pxlineheight19pxcolor7c7c7c\": 1, \"이런\": 2, \"titentertain\": 4, \"displayinlinepaddingleft11pxbackgroundurlhttpi1daumcdnnetdecocomicstopdeco2014v2barplatepngv1102\": 1, \"overflowhiddenwidth271pxmarginleft3pxletterspacing1px\": 1, \"한\": 1, \"125px\": 6, \"displayblockmargintop2pxfontsize11pxcolor262626\": 1, \"200px\": 3, \"3f78dffontsize12pxlineheight17pxfontfamily굴림gulimsansserifbackgroundcolorfff\": 1, \"whitespacenowrap\": 1, \"자고로\": 1, \"linkimghover\": 2, \"영상중계\": 1, \"contsort\": 2, \"상승82\": 2, \"dotg\": 1, \"eventshop\": 2, \"아웃도어\": 1, \"1pxlineheight14pxverticalaligntopwhitespacenowrap\": 1, \"width21pxbackgroundposition0\": 1, \"left80pxwidth177pxbackgroundposition285px\": 1, \"tflogin\": 1, \"페르소나\": 1, \"최순실\": 1, \"내분\": 1, \"width188pxheight159pxpadding0\": 1, \"핸드메이드\": 1, \"750px\": 1, \"favoron\": 2, \"linkservice\": 1, \"eaebefbackgroundimagelineargradientto\": 1, \"30세\": 1, \"cont\": 2, \"floatleftwidth21pxheight23pxmargintop5pxbackgroundposition120px\": 1, \"overflowhiddenwidth181pxheight142pxbackgroundurlhttpi1daumcdnnetdecocomicstopdeco2014v2bgweatherpngv1102\": 1, \"pagedaum\": 6, \"d8d9dbborderbottom1px\": 1, \"overflowvisiblepositionabsolutetop28pxright0widthauto\": 1, \"linkmore\": 2, \"통합\": 1, \"plateg\": 13, \"floatleftmargin13px\": 2, \"13pxpaddingright6pxfontsize11pxbackgroundposition100\": 1, \"overflowhiddenpositionabsolutetop0left0height18pxpadding0\": 1, \"linkjoin\": 1, \"0textalignrightletterspacing0\": 1, \"bottom22pxleft265px\": 2, \"icoindebackgroundposition60px\": 1, \"titmyset\": 1, \"11pxfontsize14pxlineheight17pxwhitespacenowraptextoverflowellipsis\": 1, \"71pxcolor666letterspacing1px\": 1, \"180px\": 2, \"backgroundcolorfff\": 1, \"9pxlineheight15px\": 1, \"0lineheight15pxbackgroundposition270px\": 1, \"icoclip\": 1, \"displayblockoverflowhiddenwidth287pxheight77pxpadding15px\": 1, \"backgroundposition30px\": 2, \"width30px\": 1, \"displayblockpositionrelativeheight100px\": 1, \"numelection2016width7pxheight9px\": 1, \"paddingleft9pxbackgroundposition4px\": 1, \"iconew\": 1, \"페이지8\": 1, \"추천\": 3, \"11월한달동안전부10세일\": 1, \"페이지2\": 1, \"페이지1\": 3, \"ㅈㅊ\": 1, \"padding0\": 7, \"페이지5\": 1, \"left\": 2, \"verticalimg\": 13, \"icocafehot\": 1, \"icofavor\": 1, \"부티나\": 1, \"shortcutghover\": 1, \"layertoday\": 50, \"quotes\": 1, \"iconewright11px\": 1, \"overflowvisibleheight340px\": 1, \"이별락싸\": 1, \"447px\": 1, \"1pxbackgroundposition145px\": 1, \"margintop5pxfontsize11pxcolor878787letterspacing1px\": 1, \"선박운항\": 1, \"17pxbackgroundposition100\": 1, \"3px\": 4, \"379pxcolor5f6876\": 1, \"스포일러는\": 1, \"패션플러스\": 1, \"경기시간\": 1, \"overflowhiddenpositionabsolutebottom15pxleft11pxwidth100pxheight19pxlineheight23pxbackgroundposition0\": 1, \"39공주39\": 1, \"titnotice\": 1, \"nameuser\": 1, \"left224pxbackgroundposition225px\": 1, \"공감\": 1, \"txtcont\": 7, \"72pxcolor878787letterspacing1px\": 2, \"backgroundposition390px\": 1, \"카카오\": 2, \"0lineheight18pxbackgroundurlhttpi1daumcdnnetdecocomicstopdeco2014v2btndaumv4pngv1669\": 1, \"txtstockpositionabsoluteleft0top0width10pxheight13px\": 1, \"relmy\": 1, \"txtinfodisplayinlineblockfontsize12pxcolorfffverticalaligntop\": 1, \"suggestBoxreverseType\": 2, \"listimgtxt\": 13, \"dindex\": 7, \"11pxlineheight18pxbackgroundposition90px\": 1, \"btnvideo\": 1, \"wrapstoryfunding\": 3, \"bnrtype3width147pxheight39pxbackgroundurlhttpi1daumcdnnetdecocomicstopdeco2014v2electionbgelection2016top3gif\": 1, \"bookon\": 2, \"night\": 8, \"backgroundposition100px\": 2, \"2px\": 7, \"iconpadbackgroundposition30px\": 1, \"467px\": 1, \"linkbnr\": 3, \"wrapfun\": 1, \"최저기온\": 1, \"btnsearch\": 1, \"width75pxbackgroundposition546px\": 1, \"displayblockheight12pxpaddingtop7pxfontsize10pxlineheight12pxcolor848484\": 1, \"bodydivdldtddulollih1h2h3h4h5h6precodeformfieldsetlegendtextareapblockquotethtdinputselecttextareabutton\": 1, \"btnassay\": 1, \"39비선실세39\": 1, \"displayinlineblockmargin4px\": 1, \"탭\": 10, \"bottom\": 2, \"top251pxleft370pxwidth20pxheight24pxbackgroundposition15px\": 1, \"아름다운러시아\": 1, \"positionabsolutetop33pxright0width515pxpadding16px\": 1, \"txtelectionfloatleftwidth100pxfontsize11pxlineheight24pxcolorfff000\": 1, \"backgroundposition546px\": 2, \"msgreset\": 1, \"left158px\": 1, \"wrapmiznet\": 1, \"boxcont\": 1, \"displayinlinefloatrightwidth84pxheight15pxmargin14px\": 1, \"0letterspacing1pxcursorpointer\": 1, \"아름다운\": 1, \"6℃\": 2, \"wrapelection2016\": 81, \"padding36px\": 1, \"descbnrdisplayblockoverflowhiddenpositionabsoluteleft334pxtop14pxwidth250pxfontsize11pxcolorfffletterspacing1pxwhitespacenowraptextoverflowellipsis\": 1, \"695901\": 1, \"0backgroundurlhttpi1daumcdnnetdecocomicstopdeco2014v2bgdaumv9pngv1683\": 1, \"width17pxbackgroundposition93px\": 1, \"및\": 2, \"spetype2\": 6, \"spetype3\": 3, \"spetype1\": 3, \"txtblue\": 1, \"plus\": 1, \"접근성\": 1, \"546px\": 1, \"17pxbackgroundposition0\": 1, \"20pxtextaligncenter\": 1, \"paddingleft50pxbackgroundposition0\": 1, \"블로그\": 3, \"left460px\": 1, \"linksvc\": 2, \"quot양심의\": 1, \"paddingleft44pxbackgroundposition0\": 1, \"paddingtop25px\": 2, \"imginit\": 11, \"news5tabon\": 2, \"top0left0width54pxheight41pxbackgroundposition110px\": 3, \"89px\": 3, \"1380px\": 1, \"156px\": 10, \"326pxcolor333\": 1, \"color888\": 1, \"cafeon\": 2, \"신규앱\": 1, \"noticecafe\": 2, \"overflowhiddenwidth278pxheight307pxpaddingtop31pxborder1px\": 1, \"displayinlinefloatrightpadding0\": 2, \"color555\": 4, \"안내\": 2, \"11pxfontsize12pxlineheight17px\": 2, \"스포츠\": 3, \"변경\": 1, \"웹\": 1, \"overflowhiddenwidth659px\": 1, \"fontsize20pxlineheight23px\": 1, \"13pxfontsize11pxlineheight14pxcolor959595letterspacing1pxverticalaligntop\": 1, \"padding1px\": 2, \"left174px\": 1, \"listtoday\": 9, \"4℃\": 3, \"당했다quot\": 1, \"labid\": 1, \"top47pxwidth94pxheight16pxpadding5px\": 1, \"sectionmedia\": 51, \"floatleftcolor5f6876\": 1, \"left53px\": 1, \"66px\": 9, \"floatleftwidth13pxheight13pxmargintop1pxbackgroundcolortransparent\": 1, \"shop1on\": 3, \"titelectionfloatleftwidth97pxheight18pxmargin2px\": 1, \"dotted\": 1, \"tit\": 1, \"mystockon\": 2, \"14px\": 2, \"headlinespe\": 11, \"eaebefbackgroundimageolineargradienttop\": 1, \"top81pxleft369px\": 1, \"labsteady\": 1, \"top8pxright8px\": 1, \"floatrightlineheight15pxletterspacing1px\": 1, \"서비스약관\": 1, \"fontsize11pxletterspacing1px\": 1, \"linkconthover\": 3, \"floatleftwidth60pxheight55pxmargin33px\": 1, \"shop3on\": 3, \"개인정보\": 1, \"220px\": 4, \"pagetype2\": 12, \"icolive\": 1, \"paddingleft12pxbackgroundposition0\": 1, \"fst\": 6, \"옥션\": 2, \"10pxfontweightboldfontsize12pxcolor0d3679letterspacing1pxtextaligncenterwhitespacenowraptextoverflowellipsis\": 1, \"displayblockoverflowhiddenheight40pxheight63pxpadding12px\": 1, \"txtblue2\": 1, \"color6d3fdf\": 1, \"linkdaum\": 1, \"titauto\": 4, \"675pxcolor7a7c83letterspacing1px\": 1, \"footdaum\": 12, \"positionabsolutetop64pxleft0width940pxheight64px\": 1, \"partspecial\": 19, \"displayblockoverflowhiddenheight30pxpaddingtop14pxlineheight15pxtextaligncentercolor5b6473\": 1, \"용도임jpg남성시대\": 1, \"show\": 1, \"0\": 235, \"linkhelp\": 1, \"floatleftwidth63pxheight42pxmargin0\": 1, \"eaeaeaborderbottom1px\": 1, \"36px\": 6, \"textdecorationnone\": 4, \"displayinline\": 1, \"scoregame\": 4, \"인천\": 1, \"220pxverticalaligntoptextindent9999px\": 1, \"timecont\": 11, \"innerfoot\": 1, \"ahover\": 1, \"width42pxbackgroundposition270px\": 1, \"77px\": 1, \"관리법\": 1, \"item\": 1, \"11pxbordertop1px\": 1, \"66pxcursordefault\": 1, \"continfodisplayblockoverflowhiddenheight27pxpadding12px\": 1, \"left110px\": 1, \"infomy\": 1, \"numissue\": 1, \"광풍경고음\": 1, \"backgroundposition340px\": 2, \"fontfamily굴림gulimsansserifcolor363b4a\": 1, \"numelection2016floatleftwidth11pxheight16px\": 1, \"110pxtextalignrightletterspacing0\": 1, \"39톰\": 1, \"55pxtextindent9999pxcursorpointer\": 2, \"50pxmargintop22pxbackgroundcolorf0f0f0clearboth\": 1, \"imgvert\": 2, \"라이프\": 2, \"cad0d9borderleft1px\": 1, \"overflowhiddenwidth271pxheight55pxmarginleft7pxpaddingtop6px\": 1, \"msgsave\": 1, \"width179pxheight95px\": 1, \"하프클럽\": 2, \"안\": 2, \"icow19backgroundposition0\": 1, \"부동산\": 3, \"1200px\": 1, \"color4559e9\": 2, \"0verticalaligntop\": 1, \"msgmyset\": 1, \"displaytablecellpositionabsoluteleft0top0width100height100\": 1, \"titgame\": 4, \"베스트100\": 1, \"ratecont\": 12, \"1섹시하다면충격놀람탄식\": 1, \"innermain\": 1, \"overflowhiddenpositionrelativewidth188pxheight339pxbordertop1px\": 2, \"199px\": 1, \"주요\": 2, \"중계센터\": 1, \"손쉽게\": 1, \"zindex1backgroundcolor4e82eebackgroundposition171px\": 1, \"rank10\": 1, \"linkconthome\": 5, \"overflowhiddenpadding5px\": 1, \"numtime2backgroundposition50px\": 1, \"verticalsong\": 17, \"170px\": 1, \"tistoryguisortablehelper\": 1, \"clearboth\": 1, \"수원\": 1, \"displayblockmargin6px\": 1, \"displayinlineblockwidth280pxheight150pxfontsize0lineheight0verticalaligntop\": 1, \"txtdaum\": 2, \"linksvcmore\": 1, \"titsports\": 4, \"icow15backgroundposition0\": 1, \"연예\": 2, \"32pxfontweightboldbackgroundposition0\": 1, \"icorecom\": 1, \"titinfomarginright10px\": 1, \"35pxcolor444\": 1, \"titconthover\": 1, \"width36pxheight13pxmargin0\": 1, \"overflowhiddenwidth653pxheight40px\": 1, \"linkelectionfloatleftpaddingtop9pxmarginright14px\": 1, \"width181pxheight118px\": 1, \"0backgroundcolortransparent\": 1, \"listissue\": 21, \"6pxlineheight20pxbackgroundurlhttpi1daumcdnnetdecocomicstopdeco2014v2imgdaumvertv9pngv1664\": 1, \"displayinlineblockpositionabsolutetop16pxlineheight15pxverticalaligntop\": 1, \"8위\": 2, \"listdaumapp\": 5, \"몰라quot\": 1, \"overflowhiddenbackgroundurlhttpi1daumcdnnetdecocomicstopdeco2014v2btndaumv4pngv1669\": 1, \"wrapfavor\": 9, \"textindent9999px\": 1, \"Daum\": 1, \"topservice\": 15, \"7px\": 5, \"txtlivemargintop7pxverticalaligntop\": 1, \"26pxborderbottom1px\": 1, \"29px\": 1, \"noneverticalaligntop\": 1, \"headdaum\": 2, \"재밌는\": 2, \"uarr\": 16, \"tfkeyword\": 1, \"860px\": 1, \"overflowhiddenpositionabsolutetop48pxleft95pxwidth13pxheight16pxbackgroundposition0\": 1, \"fontweightbold\": 3, \"날리는\": 1, \"icosteady\": 1, \"margintop14px\": 1, \"floatleftpositionrelativewidth427pxpaddingleft25px\": 1, \"width54pxbackgroundposition40px\": 1, \"positionabsolutebottom2pxleft0width13pxheight13px\": 1, \"btnlogout\": 1, \"width100pxheight14pxlineheight14pxbackgroundcolortransparentbackgroundposition145px\": 1, \"positionrelativecolor383b42\": 1, \"linktitwidth70pxfontsize12pxcolor0d3679letterspacing1px\": 1, \"boxlst\": 3, \"innertag\": 1, \"backgroundurlhttpi1daumcdnnetdecocomicstopdeco2014v2txtdaumv13pngv1687\": 1, \"width31pxbackgroundposition310px\": 1, \"titshop5\": 3, \"titshop4\": 3, \"floatright\": 2, \"titshop1\": 3, \"abb5bdbordertop0\": 1, \"titshop3\": 3, \"titshop2\": 3, \"overflowhiddenpositionabsoluteleft24pxwidth165pxheight25pxpaddingleft10pxfontsize11pxlineheight26pxcolor96969bletterspacing1pxcursortext\": 1, \"displayblockoverflowhiddenheight13pxmarginbottom2pxfontweightboldfontsize11pxlineheight13pxcolor477ae4whitespacenowraptextoverflowellipsis\": 1, \"정보\": 8, \"q\": 1, \"imgelection2016floatleftwidth5pxheight5pxmargin5px\": 1, \"displayblock\": 36, \"linkrecom\": 1, \"1430px\": 8, \"conttrendshop\": 15, \"displayblockoverflowhiddenfloatleftwidth88pxheight34pxmargintop1pxfontsize12pxlineheight18pxletterspacing0\": 1, \"lst\": 1, \"rellink\": 1, \"e8e8e8lineheight20pxbackgroundcolorfbfbfb\": 1, \"14pxbackgroundposition450px\": 1, \"1830\": 1, \"w24\": 2, \"달승자는\": 1, \"floatleftbackgroundposition0\": 1, \"좋은\": 1, \"txtpso\": 1, \"width63pxbackgroundposition401px\": 1, \"backgroundcolorf0f0f0\": 1, \"blockquote\": 1, \"두산\": 2, \"w20\": 2, \"7pxbordertopnoneborderbottom1px\": 1, \"admaintopad\": 1, \"277pxcolor2c74e0\": 1, \"headlineimg\": 12, \"1140px\": 1, \"displayinlineblockpaddingright10pxmargintop11pxbackgroundposition100\": 1, \"cursorpointer\": 1, \"displayblockoverflowhiddenwidth174pxheight29pxpadding18px\": 1, \"icow18backgroundposition0\": 1, \"displayinlineblockwidth2pxheight7pxmargin4px\": 1, \"산행\": 1, \"displayinlineblockwidth18pxheight7pxmargin4px\": 1, \"비껴감한열사\": 1, \"제목\": 22, \"영상\": 1, \"contthesong\": 4, \"displayblockfontsize11pxlineheight14pxcolor878787\": 1, \"0backgroundposition70px\": 1, \"overflowhiddenfloatleftpaddingleft11pxbackgroundurlhttpi1daumcdnnetdecocomicstopdeco2014v2imgdaumvertv9pngv1664\": 1, \"1165px\": 1, \"contshopbest\": 37, \"positionabsolutetop0left92pxwidth154pxheight75pxpaddingleft12pxfontsize11pxbackgroundcolorfbfbfbbackgroundposition285px\": 1, \"inpsteady\": 1, \"linkthumb\": 4, \"G마켓\": 1, \"발끝에\": 1, \"점수\": 1, \"280pxtextaligncenter\": 1, \"중\": 1, \"width28pxbackgroundposition75px\": 1, \"numtime3backgroundposition50px\": 1, \"극단적\": 1, \"미즈넷\": 2, \"cursornone\": 1, \"eaebefbackgroundcolorf9fafbcolor222letterspacing2pxtextaligncentertextdecorationnonewebkitboxshadowinset\": 1, \"listgoods\": 7, \"춘천\": 1, \"65pxtextindent9999px\": 1, \"width179pxheight183px\": 1, \"backgroundposition605px\": 2, \"svcmorelink\": 1, \"강요quot\": 1, \"positionrelativefloatleftwidth92pxheight45pxpadding1px\": 1, \"bline\": 1, \"displayblockoverflowhiddenheight28pxwordbreakkeepall\": 1, \"흥행파워\": 1, \"379px\": 1, \"width188pxheight283px\": 1, \"backgroundposition401px\": 2, \"height249px\": 1, \"positionabsolutetop38pxleft0zindex9999width100padding0\": 1, \"width224px\": 1, \"size\": 1, \"displayinlineblockwidth653pxborderbottom1px\": 1, \"wrapmycont\": 1, \"floatleftwidth280px\": 1, \"stocksteady\": 2, \"overflowhiddenpositionabsolutetop50pxleft91pxwidth17pxheight14pxbackgroundposition40px\": 1, \"회사소개\": 1, \"white\": 1, \"overflowhiddenwidth170pxpadding0\": 1, \"width190pxheight160pxborderbottom1px\": 1, \"top61pxheight26pxlineheight28px\": 1, \"nonebackgroundcolortransparentcursorpointer\": 1, \"floatleftpaddingleft6pxlineheight15pxbackgroundposition0\": 1, \"f3f3f3fontsize11pxfontfamily돋움dotumsansserifbackgroundcolorf8f8f8letterspacing1pxclearboth\": 1, \"보호를\": 1, \"left132pxwidth101pxbackgroundposition410px\": 1, \"colore73923\": 1, \"quot국민의\": 1, \"wraptabcont\": 12, \"brunchon\": 2, \"우유\": 1, \"btnoff\": 3, \"copy\": 1, \"날씨\": 3, \"10\": 1, \"가계자산\": 1, \"말랬는데쭉빵카페\": 1, \"icow02backgroundposition0\": 2, \"wraptierfixcont\": 1, \"330px\": 3, \"365px\": 2, \"eeeef0\": 2, \"e1e1e1borderleft0\": 2, \"icow12backgroundposition0\": 1, \"wraplife\": 1, \"icow10backgroundposition0\": 2, \"backgroundposition1px\": 1, \"a9abb0bordertop0\": 1, \"전체보기\": 2, \"overflowhiddenbackgroundurlhttpi1daumcdnnetdecocomicstopdeco2014v2icodaumv8pngv1669\": 1, \"contlive2\": 8, \"paddingleft14pxcolor5f6876backgroundposition0\": 1, \"displayinlineblockwidth278pxheight562pxborder1px\": 1, \"height50px\": 1, \"width397pxheight283px\": 1, \"floatleftpadding14px\": 1, \"height291pxpaddingtop36px\": 1, \"1560px\": 1, \"positionabsolutetextindent9999pxcursorpointer\": 1, \"9pxborder1px\": 1, \"icotopic\": 2, \"15px\": 15, \"2℃\": 3, \"numpercentfontweightbold\": 1, \"overflowhiddenpositionrelativewidth500pxheight53px\": 1, \"a5a6accolor000\": 1, \"overflowhiddenpositionabsolutetop278pxleft139pxwidth188pxheight38pxbackgroundimageurlhttpi1daumcdnnetdecocomicstopdeco2014v2transparentgiftextindent9999px\": 1, \"descthumb\": 1, \"7pxpadding1pxbackgroundposition465px\": 1, \"webkitappearancenone\": 1, \"icog\": 1, \"wrapauto\": 1, \"icotime\": 1, \"overflowhiddenwidth179pxheight87pxbordertop1px\": 1, \"1760px\": 1, \"1위\": 3, \"b5b8bfborderradius12pxfontsize52pxlineheightnormalbackgroundimagewebkitgradientlinear\": 1, \"rgba000006\": 1, \"720px\": 1, \"미국\": 2, \"height15px\": 1, \"불계승\": 1, \"txtnotice\": 1, \"btnlayer\": 2, \"top0left0width54pxheight41pxbackgroundposition55px\": 2, \"backgroundposition413px\": 2, \"bottom16pxleft416px\": 1, \"227pxcolored5c5e\": 1, \"overflowhiddenfloatleftwidth127pxmarginright5pxpaddingleft9px\": 1, \"상승420\": 2, \"지역\": 2, \"소개\": 1, \"floatleftwidth46pxheight25pxmarginright6pxbackgroundposition0\": 1, \"스마일\": 2, \"cad0d9verticalaligntop\": 1, \"descstoryhover\": 1, \"titfun\": 4, \"현재\": 9, \"자산버블\": 1, \"wraptip\": 10, \"너무\": 1, \"blogguisortablehelper\": 1, \"height62px\": 1, \"우려\": 1, \"margintop7pxlineheight19pxcolor757474\": 1, \"0font11px\": 1, \"btnmmsrelay\": 1, \"0colorfff\": 1, \"numdday1backgroundposition0\": 1, \"icocelsius\": 1, \"titrealestate\": 4, \"marginleft2pxfontsize14pxcolordedede\": 1, \"눌러주세요\": 22, \"iconewdisplaynone\": 2, \"backgroundcolortransparent\": 1, \"icomono\": 1, \"numrate8backgroundposition25px\": 1, \"올해\": 1, \"linklivedisplayblockoverflowhiddenwidth100height40pxfontsize0lineheight0backgroundnorepeat\": 1, \"displayblockpadding5px\": 1, \"완전히\": 1, \"margintop2px\": 1, \"colord5d4d8\": 1, \"numtime1width5pxbackgroundposition50px\": 1, \"740pxcolordc287ccursorpointer\": 1, \"overflowhiddenheight19pxpadding2px\": 1, \"btnlocate\": 1, \"11번가\": 2, \"linktithovercolor0d3679\": 1, \"49px\": 1, \"wrapsub\": 3, \"a5a6acborderleft1px\": 2, \"displayblockoverflowhiddenpositionrelativewidth280pxheight339pxmargintop5px\": 1, \"880px\": 5, \"60px\": 3, \"overflowhiddenwidth188pxpaddingtop10pxbordertop1px\": 1, \"edededbackgroundcolorf8f9fa\": 1, \"displayblockpositionabsolutetop0left0width280pxpaddingtop120pxtextaligncenter\": 1, \"paddingleft14pxbackgroundposition1px\": 1, \"titcafe\": 4, \"overflowhiddenpositionabsolutewidth0height0lineheight0textindent9999px\": 1, \"displayinlinefloatleftwidth358pxheight18pxpadding0margin9px\": 1, \"mycontfoot\": 1, \"floatleftwidth201px\": 1, \"900pxbackgroundcolortransparenttextindent9999pxverticalaligntop\": 1, \"250px\": 5, \"arialbackgroundurlhttpi1searchdaumcdnnetssearchall2011icoicosuggest20110721gif\": 1, \"linkcont\": 21, \"405px\": 1, \"rankcont\": 1, \"layoutheadlinevertical\": 1, \"주세요\": 1, \"다음\": 9, \"20px\": 6, \"backgroundposition180px\": 4, \"icow14backgroundposition0\": 1, \"left69px\": 1, \"0lineheight12px\": 1, \"positionabsolutetop0right0width940pxheight33pxborderbottom1px\": 1, \"박보검과\": 1, \"d8d9dbverticalaligntop\": 1, \"역대\": 1, \"listimg\": 22, \"cafeg\": 6, \"210px\": 1, \"color\": 1, \"top129pxwidth167pxheight23pxpadding9px\": 1, \"backgroundposition350px\": 1, \"headbnr\": 1, \"205px\": 2, \"displayblockfontsize11pxcolor262626\": 1, \"top259pxleft369pxwidth21pxheight17pxbackgroundposition60px\": 1, \"listrel\": 2, \"linkprivacy\": 1, \"width179pxheight116pxborder1px\": 2, \"width167pxheight45pxpadding10px\": 2, \"contfeature\": 3, \"fontsize14pxlineheight22px\": 1, \"titthumbhover\": 1, \"비교\": 1, \"floatleftwidth175pxheight144pxpadding15px\": 1, \"zindex1backgroundcolor4e82eebackgroundposition117px\": 1, \"linkinfo\": 1, \"22pxbackgroundposition0\": 1, \"color3f4145\": 1, \"noticelogout\": 1, \"titspe\": 1, \"남성셔츠대전81쿠폰21\": 1, \"사실\": 1, \"width940pxmargin0\": 1, \"displayinlinefontsize11pxlineheight13pxcolorec0000\": 1, \"연세대\": 2, \"linksvcall\": 1, \"1101\": 1, \"border0\": 2, \"numrate5backgroundposition25px\": 1, \"75px\": 3, \"displayinlineverticalaligntop\": 1, \"공주전\": 2, \"layersteady\": 4, \"margin4px\": 2, \"liststylenone\": 1, \"floatleftpositionrelativezindex0width266pxmargintop14px\": 1, \"width98pxheight50px\": 1, \"contspe\": 1, \"height375px\": 1, \"유익한\": 2, \"backgroundurlhttpi1daumcdnnetdecocomicstopdeco2014v2bgdaumv9pngv1683\": 1, \"항상\": 1, \"backgroundposition200px\": 1, \"overflowhiddenwidth258pxpadding8px\": 1, \"icosuggest\": 1, \"linkweather\": 42, \"btnsave\": 1, \"1620px\": 1, \"displayinlineblockcolor5d6273verticalaligntop\": 1, \"20pxbordertop2px\": 1, \"겨울\": 1, \"의자놀이\": 1, \"fontsize11pxlineheight16pxcolor676767\": 1, \"12pxfontweightboldlineheight21pxbackgroundposition210px\": 1, \"230pxtextindent9999px\": 1, \"baseBox\": 3, \"89pxcolor777\": 1, \"251px\": 1, \"floatnone\": 2, \"overflowhiddenwidth244pxpadding14px\": 1, \"floatrightpaddingleft0backgroundnone\": 1, \"width29pxbackgroundposition180px\": 1, \"fontsize11pxcolor555letterspacing1px\": 1, \"btnbefore\": 1, \"eeeef0backgroundcolorf7f7f7\": 2, \"페이지11\": 1, \"페이지10\": 1, \"positionabsolutetop23pxright39pxheight13pxfontsize11pxlineheight14px\": 1, \"txtstate\": 1, \"섬세한\": 1, \"btncaster\": 1, \"top227pxwidth160pxpadding5px\": 1, \"overflowhiddenwidth66pxheight74pxfontsize11pxlineheight14pxtextaligncentercolor414141letterspacing1px\": 1, \"displaynone\": 5, \"width385pxheight101px\": 1, \"color8f8f8ftextdecorationunderline\": 1, \"amp9652\": 1, \"eventteam\": 1, \"textaligncenter\": 1, \"infothumb\": 7, \"issuetypetxt\": 4, \"icoarrowequal\": 1, \"감독들의\": 1, \"floatleftpadding9px\": 1, \"listmainsvc\": 3, \"301pxcolore73923\": 1, \"바로가기\": 7, \"1980px\": 1, \"backgroundposition310px\": 3, \"검색어\": 1, \"displayblockoverflowhiddenwidth278pxheight80pxmargintop8px\": 1, \"displaynonepositionabsolutetop0left0width100backgroundcolor000filteralphaopacity60opacity06\": 1, \"그녀\": 2, \"fsttxt\": 2, \"wraptvpot\": 6, \"top47pxright10px\": 1, \"게임\": 3, \"7910원\": 1, \"sectioncontents\": 2, \"IP보안\": 2, \"35px\": 1, \"titbestlike\": 4, \"linklivehovertextdecorationnone\": 1, \"listthumb\": 24, \"자동실행\": 1, \"제주\": 1, \"overflowhiddenpositionrelativewidth266pxheight61px\": 1, \"paddingleft14pxbackgroundurlhttpi1daumcdnnetdecocomicstopdeco2014v2imgdaumvertv9pngv1664\": 1, \"width41pxbackgroundposition50px\": 1, \"itemvs\": 2, \"5위\": 2, \"영화\": 4, \"backgroundposition45px\": 1, \"color848585\": 1, \"여행\": 1, \"청소년보호정책\": 1, \"articledaum\": 1, \"titblog\": 4, \"btnnext\": 5, \"tithope\": 4, \"numdday9backgroundposition0\": 1, \"backgroundcolorf8f8f8textdecorationnone\": 1, \"left9999px\": 1, \"총\": 6, \"126px\": 22, \"left18px\": 1, \"contlive2padding0\": 1, \"950px\": 1, \"top0left0height26pxpadding1px\": 1, \"on\": 2, \"거로\": 1, \"20pxfontsize0\": 1, \"marginright5pxbackgroundposition355px\": 1, \"outline1px\": 1, \"1429\": 1, \"txtdotwidth4pxheight3pxmargintop13pxbackgroundposition25px\": 1, \"icopush\": 2, \"floatleftwidth24pxheight20pxheight24pxmargin5px\": 1, \"backgroundurlhttpi1daumcdnnetdecocomicstopdeco2014v2imgdaumv6pngv1687\": 1, \"or\": 1, \"right14px\": 1, \"1100px\": 1, \"enteron\": 2, \"height416pxpaddingtop43px\": 1, \"paddingleft45pxbackgroundposition0\": 1, \"icow16backgroundposition0\": 2, \"displayblockoverflowhiddenheight17pxmarginbottom7pxfontsize14pxlineheight17pxcolor262626whitespacenowraptextoverflowellipsis\": 1, \"displayblockoverflowhiddenwidth278pxheight120px\": 1, \"txtarea\": 1, \"히어로들의\": 1, \"servicegroup\": 1, \"운동\": 2, \"icoarrowdown\": 1, \"현대H몰\": 1, \"4559e9\": 1, \"backgroundposition492px\": 2, \"backgroundurlhttpi1daumcdnnetdecocomicstopdeco2014v2imgweatherpngv1102\": 1, \"imgdaum\": 3, \"titmovie\": 4, \"backgroundposition462px\": 2, \"infogame\": 1, \"언어차이\": 1, \"스토리펀딩\": 3, \"top127pxleft370pxwidth20pxheight24pxbackgroundposition15px\": 1, \"80px\": 4, \"backgroundposition70px\": 1, \"0textaligncenter\": 2, \"shopmall\": 1, \"displayblockwidth22pxheight12pxmargin21px\": 1, \"페이지6\": 1, \"bnrtype5width132pxheight18pxmargintop5pxpaddingtop25pxbackgroundurlhttpi1daumcdnnetdecocomicstopdeco2014v2electionbgelection2016top5160317gif\": 1, \"bordertop1px\": 2, \"SSGCOM\": 1, \"marginleft1pxpaddingleft1pxbackgroundposition97px\": 3, \"없이\": 1, \"width399pxheight340pxborderbottom1px\": 1, \"height110pxmargin0\": 1, \"top6pxleft5pxwidth28pxheight28pxbackgroundposition0\": 1, \"배우\": 1, \"icojusticebackgroundposition40px\": 1, \"지키는\": 1, \"484px\": 1, \"mypeopleg\": 1, \"padding4px\": 1, \"txtlabid\": 1, \"wrapbestlike\": 5, \"딸을\": 1, \"샤오미\": 1, \"backgroundposition80px\": 1, \"displayinlineblockoverflowhiddenwidth18pxheight26pxmargintop4pxfontsize0lineheight0verticalaligntop\": 1, \"storyfundingon\": 2, \"bnrtype6width132pxheight18pxmargintop5pxpaddingtop25pxbackgroundurlhttpi1daumcdnnetdecocomicstopdeco2014v2electionbgelection2016top6gif\": 1, \"7℃\": 3, \"backgroundposition69px\": 1, \"positionabsolutetop146pxleft943pxzindex98width57pxheight105pxbackgroundurlhttpi1daumcdnnetdecotop2012logout20121016png\": 1, \"신인\": 1, \"면역력에\": 1, \"screenout\": 2, \"overflowhiddenwidth280pxheight344pxfontsize0lineheight0\": 1, \"numdday7backgroundposition0\": 1, \"adstation\": 1, \"차\": 1, \"fontbold\": 2, \"stockg\": 3, \"backgroundposition60px\": 1, \"positionrelativezindex10width279px\": 1, \"미디어\": 2, \"servicebottom\": 2, \"0marginleft6pxverticalalignmiddle\": 1, \"overflowhiddenwidth278px\": 2, \"width250pxheight220pxmarginright24px\": 1, \"width18pxheight17pxbackgroundposition75px\": 1, \"이전\": 7, \"이렇게\": 1, \"6pxpadding0fontsize1pxlineheight1pxbackgroundcolore5e5e5\": 1, \"900px\": 1, \"numdday0backgroundposition0\": 1, \"이번엔\": 1, \"b8bbbfbordertop0\": 1, \"btnpage\": 5, \"18px23px\": 1, \"달콤\": 1, \"titelectionleft248px\": 1, \"displayinlineblockwidth40pxheight23pxmarginright4pxlineheight23pxbackgroundposition35px\": 1, \"eaeaed\": 2, \"649pxcolorec2c2fverticalaligntop\": 1, \"icow13backgroundposition0\": 2, \"width188pxheight159px\": 2, \"numrate6backgroundposition25px\": 1, \"overflowhiddenpositionabsolutetop171pxheight30pxfontsize11pxletterspacing1pxtextaligncentertextindent9999px\": 1, \"setstart\": 1, \"000outlinewebkitfocusringcolor\": 1, \"fontsize14pxcolor000textdecorationnone\": 1, \"urlhttpi1daumcdnnetdecocomicstopdeco2014v2bgdaumv9pngv1683\": 1, \"width35pxbackgroundposition0\": 1, \"wrapwebtoon\": 2, \"세상에서\": 1, \"1px\": 18, \"overflowhiddenpositionabsolutetop96pxleft0width269pxheight17pxbackgroundurlhttpi1daumcdnnetdecocomicstopdeco2014v2linedotgifv1102\": 1, \"overflowhiddenwidth249pxheight83pxmargin0\": 1, \"15pxtextindent9999px\": 1, \"teamhome\": 1, \"290px\": 20, \"檢\": 1, \"list\": 3, \"top7pxright10pxzindex1\": 1, \"fontweightnormalcolorea570a\": 1, \"numdday5backgroundposition0\": 1, \"paddingleft1pxbackgroundnone\": 1, \"규제\": 1, \"linkmyinfo\": 1, \"left429px\": 1, \"width53pxbackgroundposition130px\": 1, \"나오는\": 1, \"67pxtextindent9999pxcursorpointer\": 1, \"최대90세일밀레아웃도어\": 1, \"height161pxborderbottom0\": 1, \"여수\": 1, \"1080px\": 1, \"top83pxleft164px\": 1, \"lifeon\": 2, \"displayinlinemarginleft1pxpaddingleft2pxbackgroundurlhttpi1daumcdnnetdecocomicstopdeco2014v2imgdaumvertv9pngv1664\": 1, \"병역거부\": 1, \"정부\": 1, \"numdday6backgroundposition0\": 1, \"40pxtextindent999em\": 1, \"마이클\": 2, \"top15px\": 1, \"눈물만\": 1, \"415pxcolor535353textaligncentertextdecorationnoneverticalaligntop\": 1, \"height52px\": 1, \"contlive\": 1, \"bodyh1h2h3h4thtdinputselecttextareabutton\": 1, \"numtime6backgroundposition50px\": 1, \"floatrightpositionstaticheight17pxpaddingleft12pxbackgroundcolorfff\": 1, \"e8e8e8borderbottom1px\": 1, \"1320px\": 4, \"strong\": 1, \"물결치는\": 1, \"marginright0backgroundposition455px\": 1, \"contg\": 8, \"맛있는\": 1, \"titlife\": 4, \"displayinlineblockverticalaligntop\": 1, \"fwb\": 1, \"top148pxwidth216pxheight21pxfontsize12pxlineheight15pxpadding9px\": 1, \"adrightbtm\": 3, \"positionabsolutebottom0left0width515pxheight31pxbackgroundcolorf4f5f7\": 1, \"2pxcolorddd\": 1, \"floatleftwidth85pxpaddingleft16pxlineheight16px\": 1, \"paddingleft0backgroundnone\": 1, \"18px20px\": 1, \"icow11backgroundposition0\": 1, \"height24pxmargintop1px\": 1, \"urlhttpi1searchdaumcdnnetssearchall2013bgbgfootergif\": 1, \"예쁜\": 1, \"innercontfloatright\": 1, \"backgroundnone\": 1, \"fontfamilytahomasansserif\": 1, \"1248pxverticalaligntop\": 1, \"floatleftheight19pxpaddingleft7pxcolorfffbackgroundposition0\": 1, \"Corp\": 1, \"쇼핑\": 4, \"titnews5tab\": 3, \"titsort\": 1, \"overflowhiddenpositionabsoluteright12pxbottom10pxheight14pxfontsize11pxlineheight14pxcolor777letterspacing1px\": 1, \"txtnum\": 7, \"overflowhiddenwidth203pxheight18pxmargin14px\": 1, \"txtfortune\": 1, \"13pxlineheight18px\": 1, \"wrapmain\": 7, \"bottom15pxleft208px\": 1, \"overflowhiddenwidth278pxheight273pxbordertop1px\": 1, \"관련\": 2, \"icow04\": 1, \"icow05\": 1, \"icow06\": 1, \"icow07\": 1, \"icow01\": 1, \"icow02\": 1, \"icow03\": 1, \"imgweather\": 2, \"icow08\": 1, \"icow09\": 1, \"irwa\": 1, \"none\": 10, \"0fontsize11pxlineheight14pxcolor5b6473letterspacing1px\": 1, \"mysvclist\": 1, \"10pxbackgroundposition20px\": 1, \"icodownbackgroundposition0\": 1, \"있던\": 1, \"urlhttpi1daumcdnnetdecocomicstopdeco2014v2bgtopbargifv1102\": 1, \"한국\": 1, \"displayblockfloatleftmarginright8px\": 1, \"color4559e9textdecorationunderline\": 4, \"width180pxheight100px\": 1, \"제휴문의\": 1, \"shop4on\": 3, \"floatleftmargin5px\": 1, \"num4\": 2, \"num5\": 1, \"num6\": 1, \"num7\": 1, \"num0\": 1, \"num1\": 4, \"num2\": 3, \"num3\": 3, \"위해개인\": 1, \"num8\": 1, \"num9\": 1, \"displayblockmargintop4pxfontsize11pxcolor959595letterspacing1px\": 1, \"arialcolor000\": 1, \"155pxtextaligncenter\": 1, \"overflowhiddenwidth161pxheight21pxmarginright10pxpadding7px\": 1, \"tvon\": 2, \"positionabsolutetop283pxright9pxwidth19pxheight17pxbackgroundposition225px\": 1, \"txtnum4\": 1, \"txtnum3\": 1, \"txtnum2\": 1, \"txtnum1\": 1, \"blogon\": 2, \"txtstock\": 1, \"linkdaumapp\": 1, \"여인들\": 1, \"tahomacolor000\": 1, \"rgba000006boxshadowinset\": 1, \"카페\": 4, \"아이디\": 2, \"fr\": 1, \"4pxcolor444\": 1, \"0border1px\": 1, \"loginsimple\": 5, \"cad0d9\": 1, \"logininp\": 9, \"a5a6ac\": 1, \"floatleftwidth100margintop8pxlineheight19pxcolor757474clearboth\": 1, \"wrapdaum\": 1, \"floatleftmargin19px\": 1, \"600px\": 3, \"fl\": 2, \"width58pxheight48px\": 1, \"a\": 3, \"width190pxheight340pxborderbottom1px\": 1, \"width100pxheight52px\": 1, \"footer\": 10, \"daumContent\": 1, \"609px\": 1, \"sortservice\": 8, \"0color5b6473\": 1, \"numprice\": 4, \"iconewdisplayblock\": 1, \"현위치\": 1, \"quot기금\": 1, \"width410pxheight161px\": 1, \"fff\": 5, \"width53pxbackgroundposition0\": 1, \"backgroundposition185px\": 7, \"icow17backgroundposition0\": 1, \"대구\": 1, \"상품\": 1, \"쇼핑몰\": 1, \"color9b01bc\": 1, \"floatleft\": 12, \"8pxlineheight15pxcolorfc6870letterspacing1px\": 1, \"ellipsisg\": 3, \"220pxletterspacing1px\": 1, \"uisortablehelper\": 1, \"top191pxheight39px\": 1, \"breakingnews\": 4, \"마블\": 1, \"overflowhiddenpositionrelativewidth263pxheight55pxmargin21px\": 1, \"찾은\": 1, \"overflowhiddenfloatrightwidth138pxheight112pxlineheight100pxtextaligncenter\": 1, \"rankissue\": 1, \"floatleftmargin2px\": 1, \"6위\": 2, \"backgroundurlhttpi1daumcdnnetdecocomicstopdeco2014v2imgdaumvertv9pngv1664\": 1, \"ㄱㄹ\": 1, \"searchon\": 1, \"top47pxwidth106pxheight17pxpadding4px\": 1, \"left116pxbackgroundposition117px\": 1, \"전문\": 1, \"linksetpage\": 1, \"hopeon\": 2, \"패션감각\": 1, \"0lineheight15pxtextaligncenter\": 1, \"빠를\": 1, \"대전\": 1, \"overflowhiddenwidth515pxpaddingbottom12pxbackgroundurlhttpi1daumcdnneticon2013topmorelayerbglinev2gif\": 1, \"floatleftwidth655pxheight120pxmarginright5px\": 1, \"backgroundposition110px\": 2, \"wrapbrunch\": 2, \"quot망\": 1, \"ddaycont\": 12, \"listuser\": 11, \"기분\": 1, \"overflowhidden\": 3, \"회원가입\": 1, \"사회당\": 1, \"noticeblog\": 2, \"wrapbook\": 4, \"4px\": 9, \"color196adb\": 1, \"0backgroundposition0\": 2, \"displayblockoverflowhiddenwidth188pxpadding8px\": 1, \"txttv\": 1, \"mypeopleguisortablehelper\": 1, \"width42pxbackgroundposition170px\": 1, \"wraphope\": 3, \"floatleftpadding1px\": 1, \"이메일\": 1, \"독일\": 1, \"iconext\": 2, \"icoarrowup\": 1, \"507px\": 1, \"width397pxheight159px\": 1, \"0color222letterspacing1px\": 1, \"날짜\": 1, \"fontsize11pxcolor555lineheight15pxletterspacing1px\": 1, \"사분오열올랑드\": 1, \"left224px\": 1, \"linkthesong\": 3, \"tfkeywordwebkitsearchcancelbutton\": 1, \"layertop\": 3, \"floatleftwidth9pxbackgroundcolortransparent\": 1, \"zindex10backgroundposition0\": 1, \"displayblockwidth13pxheight25pxfontsize0lineheight0textindent9999px\": 1, \"23px\": 1, \"verticalalignmiddle\": 1, \"displayblockoverflowhiddenwidth46pxheight18pxmargin57px\": 1, \"txtprice\": 1, \"overflowhiddenfloatleftheight33pxfontweightboldlineheight35pxpadding0\": 1, \"displayblockmargintop1pxfontsize11pxcolor737373letterspacing1px\": 1, \"wrapdaumapp\": 1, \"backgroundposition135px\": 2, \"overflowhiddenpositionrelativewidth628pxheight597pxpadding37px\": 1, \"18pxborder1px\": 1, \"390px\": 1, \"nonezindex1\": 1, \"icoup\": 1, \"잭슨\": 2, \"displayinlinefontsize13pxcolor000\": 1, \"0도\": 1, \"15pxpaddingtop5pxfontsize11pxlineheight16pxcolor7b7b7bletterspacing1pxwhitespacenormal\": 1, \"titinfodisplayinlineblockmarginright11pxfontsize12pxcolorfff000\": 1, \"displayblockfloatleftwidth32pxheight32pxbackgroundposition120px\": 1, \"CJ몰\": 1, \"layoutheadlinet2\": 1, \"borderright1px\": 1, \"e1e1e1backgroundcolorfbfbfb\": 2, \"paddingleft48pxbackgroundposition0\": 2, \"247px\": 1, \"tfpw\": 1, \"backgroundposition215px\": 2, \"width278pxheight337px\": 1, \"numrate7backgroundposition25px\": 1, \"돋보였던\": 1, \"될까\": 1, \"부산\": 1, \"color454545\": 1, \"icow13\": 1, \"icow12\": 1, \"icow11\": 1, \"icow10\": 1, \"icow17\": 1, \"icow16\": 1, \"icow15\": 1, \"icow14\": 1, \"ageg\": 1, \"광주\": 1, \"icow18\": 1, \"0colorfffletterspacing1pxtextdecorationnonecursorpointer\": 1, \"overflowhiddenfloatleftpositionrelativewidth52pxheight53px\": 1, \"15pxbackgroundposition170px\": 1, \"전\": 23, \"numrate4width12pxbackgroundposition24px\": 1, \"imgbnrtagmargin1px\": 1, \"findpw\": 1, \"w41\": 2, \"txtred\": 1, \"txtstory\": 2, \"spiritdaum\": 2, \"mysetbtn\": 1, \"갱스터\": 1, \"74\": 1, \"호환성\": 1, \"dsch\": 6, \"blockquoteafterqbefore\": 1, \"overflowhiddenpositionrelativewidth181pxheight120pxmargintop14px\": 1, \"상승128\": 2, \"120px\": 2, \"위치기반서비스\": 1, \"145px\": 5, \"funon\": 2, \"nonefontsize11pxfontfamily돋움dotumsansserifbackgroundf8f8f8\": 1, \"shortcutgfocus\": 1, \"뉴스홈\": 1, \"98pxtextdecorationnone\": 1, \"paddingleft39pxbackgroundposition0\": 2, \"linkagorahover\": 1, \"3위\": 3, \"imgmobileweb\": 1, \"norepeat\": 36, \"displayinlinefloatright\": 1, \"paddingleft42pxbackgroundposition0\": 1, \"numelection2016width11pxheight16px\": 1, \"platebestlike\": 1, \"psogame\": 3, \"22px\": 2, \"layoutvertical\": 2, \"커지는\": 1, \"width248pxheight176px\": 1, \"backgroundposition105px\": 2, \"overflowhiddenpositionrelativeheight17pxmargintop5pxlineheight17pxfontfamily굴림gulimsansserif\": 1, \"동남구\": 1, \"floatrightpositionrelative\": 1, \"backgroundposition270px\": 2, \"color676767\": 1, \"tipon\": 2, \"장애아\": 1, \"tittip\": 2, \"top7pxleft7pxwidth45pxheight45pxbackgroundposition30px\": 1, \"checkoff\": 1, \"backgroundposition50px\": 4, \"fontweightnormal\": 3, \"나의\": 1, \"txtagora\": 2, \"3℃\": 2, \"width12pxheight13pxpaddingright14pxbackgroundpositionright\": 1, \"대\": 1, \"0padding0\": 1, \"fontfamily돋움dotumhelveticasansserifcolor557df6\": 1, \"나이\": 1, \"suggestexact\": 37, \"paddingtop7px\": 2, \"listmenuoverflowhiddenmargintop8px\": 1, \"246px\": 1, \"inputwebkitautofill\": 1, \"listbasis\": 6, \"웹접근성안내\": 1, \"과일청으로\": 1, \"55px\": 9, \"displayinlineblockpaddingleft8pxfontweightboldfontsize10pxlineheight10pxfontfamilytahomasansserif\": 1, \"txtexact\": 1, \"10000원\": 1, \"contsub\": 1, \"ddaycontdisplaynone\": 1, \"displayinlineblockmargin13px\": 1, \"360px\": 1, \"contthumb\": 1, \"backgroundposition120px\": 2, \"headlinetxt\": 5, \"797px\": 1, \"icolabel\": 2, \"displayblockoverflowhiddenheight30pxmargin1pxfontweightnormalfontsize12pxlineheight33pxfontfamily굴림gulimsansseriftextaligncentertextdecorationnonecolor000letterspacing1px\": 1, \"titthesong\": 3, \"numrate1width9pxbackgroundposition25px\": 1, \"inputmsclear\": 1, \"이번에도\": 1, \"width8pxheight8pxmargin13px\": 1, \"브런치\": 3, \"overflowhiddenpositionrelativewidth200px\": 1, \"color303030textdecorationnone\": 1, \"메일\": 1, \"width44pxbackgroundposition25px\": 1, \"amp9662\": 1, \"btnend\": 1, \"displayinlinefloatleftwidth177pxheight54pxmargin33px\": 1, \"listmenu\": 1, \"timethesong\": 3, \"이정도는신자겨울도산뜻\": 1, \"울산\": 1, \"displayinlinepadding0\": 1, \"linkcopy\": 1, \"비리\": 1, \"씨엘\": 1, \"margintop12pxpaddingleft17pxbackgroundposition1px\": 1, \"titstoryhover\": 1, \"paddingleft19pxbackgroundposition3px\": 1, \"icodown\": 1, \"numtime7backgroundposition50px\": 1, \"addresscaptioncitecodedfnemvar\": 1, \"displayblockoverflowhiddenpositionrelative\": 1, \"offSuggest\": 1, \"3pxletterspacing1px\": 1, \"linktotalsvc\": 1, \"285px\": 7, \"noticedaum\": 18, \"fontsize11pxfontfamilytahomasansserifcolor4c4c4c\": 1, \"먹을\": 1, \"20pxborder1px\": 1, \"먹은\": 1, \"780px\": 1, \"15pxverticalaligntoptextindent9999px\": 1, \"dotum돋움sansserifcolor000\": 1, \"displayblockwidth26pxheight15pxmargintop4pxbackgroundposition0\": 1, \"overflowhiddenfloatleftwidth279pxheight21pxpaddingleft17pxlineheight21pxwhitespacenowrap\": 1, \"닿는기분좋은촉감\": 1, \"btning\": 1, \"0letterspacing1pxwhitespacenowrap\": 1, \"GS샵\": 1, \"numtime9backgroundposition50px\": 1, \"16px\": 3, \"width149pxmarginright5pxpadding1px\": 1, \"height79px\": 1, \"solid\": 59, \"백령\": 1, \"left87px\": 1, \"stocktoday\": 10, \"709\": 1, \"displayinlineblockmarginright4pxpaddingright8pxfontweightboldbackgroundposition100\": 1, \"fieldsetimg\": 1, \"height25pxpadding43px\": 1, \"overflowhiddenpositionabsolutetop19pxright20pxwidth54pxheight25pxbackgroundimageurlhttpi1daumcdnnetdecocomicstopdeco2014v2transparentgiftextindent9999px\": 1, \"linklivefloatleftwidth237pxheight16pxmargintop12px\": 1, \"guide\": 1, \"appintro\": 7, \"floatrightpadding11px\": 1, \"infopage\": 7, \"배철수\": 2, \"eeeef0verticalaligntop\": 1, \"recomshop\": 3, \"layerie6\": 6, \"positionabsolutetop0left0zindex102width100\": 1, \"아빠들의가혹한\": 1, \"quot히치콕\": 1, \"가져오기\": 22, \"backgroundurlhttpicondaumcdnnetwc130219696439712097703png\": 1, \"displayinlineblockheight14pxmargintop14pxlineheight14pxverticalaligntopwhitespacenowrap\": 1, \"contimport\": 1, \"positionabsolutetop60pxwidth13pxheight25px\": 1, \"icow07backgroundposition0\": 1, \"displayblockheight40pxmargintop7pxpaddingleft17pxbackgroundposition1px\": 1, \"positionabsoluteright4pxbottom3pxwidth13pxheight13pxborder0\": 1, \"floatleftheight23pxpadding10px\": 2, \"linkimg\": 2, \"headevent\": 2, \"더보기\": 1, \"1pxtextindent9999px\": 1, \"icoreader\": 1, \"width46pxbackgroundposition40px\": 1, \"width16pxheight15pxlineheight18pxbackgroundposition70px\": 1, \"width28pxbackgroundposition145px\": 1, \"佛\": 1, \"btnrecord\": 1, \"paddingleft5pxlineheight12pxbackgroundnone\": 1, \"사용해\": 1, \"아고라\": 2, \"width75pxheight75pxopacity005\": 1, \"고구마100개\": 1, \"width167pxheight143pxpadding16px\": 1, \"770px\": 1, \"217px\": 1, \"backgroundposition541px\": 2, \"놀라운\": 1, \"10pxfontsize11pxlineheight14pxfontfamily돋움dotumhelveticasansserifcolor666\": 1, \"paddingleft41pxbackgroundposition0\": 5, \"유부남들의\": 1, \"titevent\": 1, \"13pxlineheight15pxwhitespacenowraptextoverflowellipsis\": 1, \"투기\": 1, \"95px\": 3, \"backgroundposition85px\": 1, \"left61px\": 1, \"15pxlineheight13pxwhitespacenowrap\": 1, \"bottom23pxleft370px\": 1, \"displayblockwidth130px\": 1, \"titwebtoon\": 4, \"icogivehover\": 1, \"icow01backgroundposition0\": 2, \"displayblockoverflowhiddenpadding25px\": 1, \"readersinfo\": 4, \"PC에서만\": 1, \"numrate0width12pxbackgroundposition24px\": 1, \"25pxbackgroundcolordce7f6\": 1, \"noticestart\": 2, \"itemhover\": 1, \"Event\": 1, \"wrapnews\": 1, \"w40\": 2, \"1pxbackgroundcolore1e1e1\": 2, \"boxuser\": 11, \"left16px\": 1, \"wrapmysvc\": 1, \"e1e1e1cursorpointer\": 1, \"displayinlineblockheight23pxpadding10px\": 1, \"btnclose\": 7, \"positionrelativeheight103px\": 1, \"numdday4backgroundposition0\": 1, \"우리를기억해줄\": 1, \"책\": 2, \"emphtxt\": 1, \"fontsize12pxcolor000textdecorationnone\": 1, \"positionrelativewidth100zindex101\": 1, \"listmyset\": 15, \"autoon\": 2, \"txtred2\": 1, \"페이지7\": 1, \"쌉싸름한\": 1, \"에이즈환자\": 1, \"overflowhiddenzindex0width280pxheight143px\": 1, \"icophoto\": 7, \"남성\": 1, \"105px\": 1, \"backgroundposition150px\": 3, \"linkheadbnr\": 1, \"자유quot\": 1, \"12px18px\": 1, \"쇼핑홈\": 1, \"color6f6f6f\": 1, \"울릉독도\": 1, \"8px\": 8, \"num10\": 1, \"wrapnews5tab\": 1, \"bottom16pxleft209px\": 1, \"height43pxpaddingtop12px\": 2, \"frameg\": 23, \"width940pxmargin4px\": 1, \"3f4243fontsize11pxlineheight14pxbackgroundcolor26292acolorfffletterspacing1pxtextaligncenter\": 1, \"fontsize12pxlineheight15fontfamily돋움dotumsansserifcolor333\": 1, \"newslink\": 1, \"찾는\": 1, \"tittvpot\": 4, \"거기\": 1, \"txtmyset\": 1, \"쇼핑도움\": 1, \"icodaum\": 4, \"span\": 1, \"positionabsolute\": 2, \"iconationbackgroundposition50px\": 1, \"contstory\": 46, \"dbdbdbbackgroundcolorf7f7f7letterspacing1px\": 1, \"width70pxheight101pxmargin7px\": 1, \"있을까\": 1, \"8pxfontsize11pxlineheight12pxcolorb3c4dd\": 1, \"165px\": 1, \"소호\": 1, \"굵은\": 1, \"96px\": 5, \"txtvs\": 1, \"게더\": 1, \"quot진료의사도\": 1, \"포토\": 1, \"line\": 2, \"linkbasis\": 2, \"다음웹툰\": 1, \"icoevent\": 1, \"mycafeon\": 3, \"zindex1backgroundcolor4e82eebackgroundposition60px\": 1, \"positionrelativemarginright90pxclearboth\": 1, \"dotum돋움sansserifcolora1a1a1\": 1, \"최고의\": 1, \"cacbce\": 1, \"numdday2backgroundposition0\": 1, \"margintop3px\": 2, \"170pxtextaligncenter\": 1, \"엄마가\": 1, \"bigimg\": 6, \"wraptiertop\": 2, \"d0377bfontsize12pxcolorffflineheight28pxbackgroundcolore03d86textindent0\": 1, \"fontsize12px\": 1, \"wrapelection2016overflowhiddenwidth653pxletterspacing1px\": 1, \"이규혁\": 2, \"floatrightmargin25px\": 1, \"포착\": 1, \"돼\": 1, \"positionabsolutetop0left22pxfontsize11pxlineheight14pxletterspacing1px\": 1, \"오늘\": 1, \"shortcutg\": 2, \"marginright6pxwidth15pxbackgroundposition425px\": 1, \"방금그곡\": 1, \"TV\": 2, \"상승97\": 2, \"13pxletterspacing1px\": 1, \"marginright8px\": 1, \"상승\": 1, \"wrapentertain\": 2, \"msgerror\": 1, \"top0left0width54pxheight41pxbackgroundposition0\": 2, \"labagain\": 1, \"주식시장에\": 1, \"floatleftmaxwidth117pxwidth117pxmargintop5pxfontsize14px\": 1, \"0border2px\": 1, \"tit5\": 1, \"tit4\": 1, \"displayblockwordbreakkeepall\": 2, \"550px\": 1, \"tit1\": 1, \"505px\": 1, \"tit3\": 1, \"tit2\": 1, \"numrate2backgroundposition25px\": 1, \"gt\": 4, \"이슈\": 2, \"contshop\": 29, \"9pxheight21pxlineheight21px\": 1, \"overflowhiddenfloatleftwidth282pxheight112pxtextaligncenter\": 1, \"KBO리그\": 1, \"shortcutgactive\": 2, \"8pxlineheight15pxwhitespacenowrap\": 1, \"left133px\": 1, \"tv팟\": 3, \"dlulolmenuli\": 1, \"overflowhiddenwidth100padding10px\": 1, \"displayinlineblockmarginright6pxheight11pxfontsize10pxlineheight11pxverticalaligntop\": 1, \"25px\": 10, \"daumSuggestWrap\": 1, \"사라져가는\": 1, \"positionabsolutetop0left0width36pxheight20pxbackgroundposition80px\": 1, \"defaulttxt\": 10, \"backgroundposition2px\": 2, \"확보\": 1, \"margintop11px\": 1, \"txtissue\": 2, \"left1pxtop1pxpadding0\": 1, \"고객센터\": 1, \"backgroundposition75px\": 1, \"420px\": 2, \"button\": 1, \"110px\": 6, \"continfo\": 4, \"bgdaum\": 1, \"paddingleft47pxbackgroundposition0\": 3, \"todayopen\": 2, \"width70pxheight14pxlineheight14pxbackgroundcolortransparentbackgroundposition10px\": 1, \"562px\": 1, \"완화\": 1, \"positionrelativedisplayblockheight100pxborder1px\": 1, \"contseat\": 8, \"fontweightnormalcolore5333d\": 1, \"Kakao\": 1, \"floatleftmarginright2px\": 1, \"135px\": 1, \"방법취업뽀개기\": 1, \"infotemper\": 15, \"backgroundposition13px\": 41, \"numbasis\": 1, \"6pxlineheight16pxcolor262626\": 1, \"인기에\": 1, \"issuetypeimg\": 3, \"뒤에\": 1, \"wrapcont\": 1, \"자연눈썹미인11\": 1, \"continventory\": 1, \"left80pxwidth120pxbackgroundposition285px\": 1, \"displayblockoverflowhiddenpositionrelativezindex1width100height100\": 1, \"전일대비\": 2, \"displayblockcursorpointer\": 1, \"margin0padding0\": 1, \"body\": 1, \"positionabsolutetop0left0border1px\": 1, \"width620pxheight161px\": 1, \"tistoryg\": 1, \"listmysvc\": 12, \"linkkakao\": 1, \"상승104\": 2, \"floatleftwidth230pxmarginright17px\": 1, \"typepso\": 2, \"topautobottom62pxleft166px\": 1, \"wraptoday\": 3, \"overflowhiddenwidth922pxpadding11px\": 1, \"fontstylenormalfontweightnormal\": 1, \"840px\": 2, \"titedu\": 4, \"displayinlineblockwidth627pxpaddingright1pxverticalaligntop\": 1, \"18px\": 1, \"txtmysvcdisplayinlineblockpadding1px\": 1, \"10pxcolor555\": 1, \"txtbardisplayinlineblockmargin0\": 1, \"innershortcut\": 1, \"repeatx\": 2, \"overflowhiddenpositionabsoluteleft0fontsize12pxbackgroundposition20px\": 1, \"wrapsports\": 2, \"innertxt\": 1, \"여배우\": 2, \"397ce0fontsize11pxlineheight20pxbackgroundcolor3f8af9textalignleftcolorfffletterspacing1pxtextdecorationnonecursorpointer\": 1, \"bgframe\": 1, \"하디39\": 1, \"paddingleft51pxbackgroundurlhttpi1searchdaumcdnnetssearchall2014icoicoweathersize3gif\": 1, \"195pxtextindent160px\": 1, \"11pxbackgroundposition0\": 1, \"marginright4pxfontbold\": 1, \"descstory\": 8, \"ㅋㅎ\": 1, \"listpolicy\": 6, \"모바일\": 1, \"금융\": 1, \"floatleftwidth32pxheight21pxlineheight23pxbackgroundcolortransparent\": 1, \"num20\": 1, \"overflowhiddenfloatleftwidth130pxheight70pxlineheight14px\": 1, \"24px\": 2, \"linkupgrade\": 1, \"suggestexacthover\": 1, \"numrate9backgroundposition25px\": 1, \"온몸을\": 1, \"상승95\": 2, \"논란\": 1, \"신규진입\": 4, \"입니다\": 22, \"width15pxbackgroundposition86px\": 1, \"icolotto\": 1, \"shop2on\": 3, \"확인하시려면\": 22, \"numelection2016floatleft\": 1, \"marginbottom7px\": 1, \"displaynonepositionabsoluteright0pxbottom19pxwidth211pxheight27pxbackgroundurlhttpi1searchdaumcdnnetssearchall2009imagesuggestservicegif\": 1, \"날\": 1, \"7위\": 2, \"검색등록\": 1, \"borderbottom1px\": 1, \"imgelection2016displayinlineblockoverflowhiddenfontsize0lineheight0backgroundurlhttpi1daumcdnnetdecocomicstopdeco2014v2electionimgelection2016160330gif\": 1, \"TOP\": 1, \"marginbottom4px\": 1, \"txtddayfloatleftwidth18pxheight16pxbackgroundposition0\": 1, \"계란찜\": 1, \"wrapelection2016overflowvisiblepositionabsolutetop28pxright0widthauto\": 1, \"0backgroundurlhttpi1searchdaumcdnnetssearchall2013bgbgshadowpng\": 1, \"w35\": 2, \"1650px\": 3, \"mymileage\": 1, \"5pxbackgroundposition0\": 1, \"뜻\": 2, \"listrecomsvc\": 4, \"positionrelativeheight19pxpadding4px\": 1, \"relshop\": 7, \"left115px\": 1, \"displayinlineblockwidth938pxheight67pxborderright1px\": 1, \"성희롱\": 1, \"tilesstory\": 37, \"fromfff\": 1, \"증권\": 3, \"고백한\": 1, \"offGuide\": 1, \"1℃\": 1, \"padding3px\": 1, \"310px\": 6, \"테스트\": 1, \"박하선\": 2, \"textdecorationnonelistmysvc\": 1, \"345px\": 5, \"linkstock\": 1, \"39KS\": 1, \"누구\": 1, \"65px\": 2, \"0lineheight42pxtextaligncentercursormove\": 1, \"9pxlineheight21pxtextalignleftcursorpointer\": 1, \"txtmysvcbackgroundposition0\": 3, \"linkmobile\": 1, \"emphlabel\": 1, \"11월은\": 1, \"세월호\": 1, \"의무quot\": 1, \"linkmysvc\": 2, \"1500px\": 1, \"loginmy\": 18, \"overflowhiddenpositionabsolutebottom10pxleft208pxwidth167pxcursorpointerwhitespacenowraptextoverflowellipsis\": 1, \"공지사항\": 1, \"left335px\": 1, \"positionrelativeheight20pxpadding6px\": 1, \"degreeg\": 1, \"1\": 1, \"개인정보처리방침\": 1, \"12pxfontweightnormalfontsize11pxlineheight20pxcolorfffletterspacing1px\": 1, \"margintop9px\": 4, \"color000\": 1, \"overflowhiddenpositionabsolutetop0right0width68pxheight37pxtextindent9999px\": 1, \"li\": 33, \"lt\": 4, \"d2dbe8\": 1, \"목포\": 1, \"itemlivefloatrightmargintop8px\": 1, \"floatleftwidth176pxheight143pxpadding16px\": 1, \"auto\": 8, \"colorda4453\": 1, \"displayinlineblockheight125pxverticalaligntop\": 1, \"marginbottom1px\": 1, \"0fontsize14pxlineheight16pxfontfamilyverdanasansserifletterspacing1px\": 1, \"boxsearch\": 1, \"inpprotect\": 1, \"1260px\": 1, \"contliveoverflowhiddenheight40pxborderbottom1px\": 1, \"10px\": 13, \"14px16px\": 1, \"705pxletterspacing1px\": 1, \"icovs\": 1, \"top139pxheight40pxpaddingtop6px\": 1, \"left1pxwidth61pxbackgroundposition0\": 1, \"color333\": 1, \"w19\": 2, \"w18\": 2, \"3pxbackgroundposition0\": 1, \"w16\": 2, \"w15\": 2, \"w14\": 2, \"w13\": 2, \"w12\": 2, \"w11\": 2, \"w10\": 2, \"8pxlineheight15pxbackgroundurlhttpi1daumcdnnetdecocomicstopdeco2014v2imgdaumvertv9pngv1664\": 1, \"누적관객수\": 1, \"FUN\": 1, \"stockguisortablehelper\": 1, \"floatleftmargin1px\": 1, \"titsong\": 1, \"width156pxheight20pxpadding8px\": 1, \"width278pxheight33pxbordertop1px\": 1, \"issuenews\": 6, \"bottom97px\": 1, \"중국\": 1, \"58px\": 1, \"linkempathy\": 1, \"0lineheight14pxcolor777letterspacing1pxtextdecorationunderline\": 1, \"margintop4pxletterspacing1px\": 1, \"억새가\": 1, \"floatleftwidth15pxheight13pxmargin4px\": 1, \"positionrelativetop0left0zindex99\": 1, \"positionrelativetop0left0zindex98\": 1, \"175px\": 3, \"eduon\": 2, \"12pxfontweightnormallineheight12pxbackgroundposition370px\": 1, \"overflowhiddenfloatleftheight19pxpaddingright5pxlineheight20pxbackgroundposition100\": 1, \"mizneton\": 2, \"45px\": 7, \"width181pxbackgroundposition166px\": 1, \"backgroundposition285px\": 4, \"icow00backgroundposition0\": 1, \"repeaty\": 1, \"top1pxwidth55pxheight32pxbackgroundf9f9f9\": 1, \"floatleftwidth48pxheight70pxclearboth\": 1, \"displayinlineblockoverflowhiddenmaxwidth100paddingright2pxwhitespacenowraptextoverflowellipsisverticalaligntop\": 1, \"linkitemdisplayinlineblockfontweightboldfontsize12pxlineheight24pxcolorfff\": 1, \"gulim굴림sansserifcolor000\": 3, \"height45pxpaddingtop10px\": 2, \"NC\": 2, \"고급진퀄리티아우터\": 1, \"width13pxmargin6px\": 1, \"icoprev\": 2, \"color00a0b6\": 2, \"내용을\": 22, \"color4689df\": 1, \"displayblockoverflowhiddenpositionrelativewidth387pxheight103px\": 1, \"142px\": 1, \"overflowhiddenborderright1px\": 1, \"displayinlinewidth236pxheight52pxmargin25px\": 1, \"linkfind\": 2, \"두\": 2, \"titdaumspe\": 1, \"color5f6876\": 1, \"215px\": 4, \"loadingmy\": 1, \"연기\": 1, \"numtime4backgroundposition50px\": 1, \"positionabsolutetop5pxright9pxwidth21pxheight21pxbackgroundposition175px\": 1, \"1540px\": 2, \"displayinlineblockoverflowhiddenheight100backgroundfffverticalalignmiddle\": 1, \"floatleftwidth90pxfontsize11pxlineheight14pxletterspacing1pxtextaligncenter\": 1, \"지식공간\": 1, \"fontsize11pxcolor2156c0letterspacing1px\": 1, \"b8bbbfborderbottom0\": 1, \"floatleftwidth15pxheight18pxbackgroundposition0\": 1, \"titstoryfunding\": 4, \"txtexactoverflowhiddenfloatleftheight44pxmargintop0\": 1, \"11℃\": 1, \"mykeyword\": 1, \"backgroundposition320px\": 1, \"overflowhiddenwidth376pxheight35pxpadding20px\": 1, \"positionrelativewidth113pxheight103pxmargintop13pxpadding0lineheight14pxtextaligncenterclearbothwhitespacenormal\": 1, \"linktrend\": 1, \"titmiznet\": 4, \"num30\": 1, \"1129px\": 1, \"servicetop\": 4, \"13pxfontsize11pxlineheight14pxcolor262626\": 1, \"85px\": 1, \"left170pxbackgroundposition171px\": 1, \"displayblockwidth280pxmargin0\": 1, \"7pxborder1px\": 1, \"트렌드샵\": 1, \"wrapedu\": 2, \"1210px\": 4, \"left253px\": 1, \"150px\": 5, \"사전\": 2, \"도움말보기\": 1, \"까닭은\": 1, \"color3770bf\": 1, \"linktit\": 56, \"setagain\": 1, \"ㅅㅇ\": 1, \"중quot\": 1, \"기획전홈\": 2, \"bottom96px\": 1, \"icow05backgroundposition0\": 2, \"스페셜\": 3, \"positionabsolutetop18pxright11pxpaddingright7pxfontsize11pxlineheight14pxbackgroundposition100\": 2, \"overflowhiddenpositionabsolutetop22pxright20pxwidth110pxheight15pxfontsize15pxlineheight16pxtextalignrighttextindent93pxbackgroundcolortransparentbackgroundposition95px\": 1, \"부동산연쇄부실\": 1, \"0color5e646f\": 1, \"wraprealestate\": 1, \"icoupbackgroundposition0\": 1, \"overflowhiddentop0textdecorationnone\": 1, \"color61646e\": 1, \"롯데i몰\": 1, \"icogive\": 3, \"4위\": 2, \"39손목에\": 1, \"619px\": 1, \"transparentfontweightboldfontsize16pxlineheight18pxfontfamily돋움dotumsansserifbackgroundcolortransparentoutlinenoneimemodeactivewebkitappearancenone\": 1, \"tvpoton\": 2, \"overflowhiddenwidth188pxpaddingtop15pxbordertop1px\": 1, \"color36a0e4\": 1, \"50\": 2, \"linkevent\": 13, \"floatleftwidth68pxheight25pxbackgroundposition50px\": 1, \"ㅁㅂ\": 1, \"timecontoverflowhiddenwidth21pxtextalignright\": 1, \"있어줄래요39\": 1, \"weathertoday\": 1, \"overflowhiddenwidth608px\": 1, \"contvs\": 2, \"fontsize16pxlineheight26px\": 1, \"잔\": 1, \"width6pxmarginleft1pxbackgroundposition170px\": 1, \"30px\": 8, \"5℃\": 2, \"971px\": 1, \"찾기\": 2, \"stockup\": 2, \"width188pxheight103px\": 1, \"overflowhiddenfloatleftwidth71pxmargintop4pxwhitespacenowraptextoverflowellipsis\": 1, \"470px\": 1, \"width31pxbackgroundposition32px\": 1, \"displayinlineblockpositionrelativezindex0width940pxheight112pxmargintop34pxverticalaligntop\": 1, \"positionabsolutetop9pxright43pxpaddingleft7pxlineheight15pxbackgroundposition0\": 1, \"5px\": 12, \"labpw\": 1, \"ratecontoverflowhiddenwidth42pxmargin8px\": 1, \"floatleftwidth163pxheight25pxpaddingleft9pxborder1px\": 1, \"overflowhiddenwidth278pxheight32pxlineheight35pxbordertop1px\": 1, \"icohot\": 2, \"floatnonemargin0padding0\": 1, \"width179pxheight233px\": 1, \"14pxlineheight15pxcolor477ae4letterspacing1px\": 1, \"90px\": 3, \"innerevent\": 1, \"contbnrdisplayblock\": 1, \"서울\": 1, \"overflowhiddenwidth515pxbordertop1px\": 1, \"colorf73a40\": 1, \"padding15px\": 1, \"bnrtype2width58pxheight27pxpadding12px\": 1, \"ecececfontsize0lineheight0\": 2, \"수\": 1, \"infocont\": 4, \"floatleftwidth228pxheight159pxbordertop1px\": 1, \"환율\": 1, \"46475bclearboth\": 1, \"btnvdorelay\": 1, \"中\": 1, \"775pxcolorf25334cursorpointer\": 1, \"wrapmy\": 1, \"width64pxbackgroundposition340px\": 1, \"전체\": 1, \"sectionmulti\": 47, \"icosteadybackgroundposition0\": 1, \"overflowhiddenpositionabsolutetop7pxright7pxwidth54pxheight25pxtextindent9999px\": 1, \"btndaum\": 1, \"510px\": 1, \"floatleftmarginright10px\": 1, \"positionrelativezindex0width181pxheight118pxmargin15px\": 1, \"overflowhiddenpositionabsolutetop0left0zindex1width15pxheight15pxtextindent9999px\": 1, \"wrapmovie\": 1, \"bestlikeon\": 2, \"txtexchange\": 1, \"width144pxmarginright0padding12px\": 1, \"w08\": 2, \"w09\": 2, \"txtweather\": 2, \"w04\": 2, \"w05\": 2, \"w06\": 2, \"w07\": 2, \"w01\": 2, \"w02\": 2, \"w03\": 2, \"utiltop\": 3, \"후\": 1, \"350px\": 1, \"807px\": 1, \"left179px\": 1, \"임박\": 1, \"26pxcolor5f6876verticalaligntop\": 1, \"admid\": 3, \"wraptiercont\": 1, \"430px\": 1, \"linknum\": 1, \"plategtop85pxheight20pxwidth166pxpadding0\": 1, \"titappimport\": 1, \"장시호\": 3, \"letterspacing1px\": 2, \"939px\": 1, \"9pxbackgroundurlhttpi1daumcdnnetdecocomicstopdeco2014v2imgdaumvertv9pngv1664\": 1, \"width111pxheight66px\": 2, \"2위\": 3, \"floatleftpositionrelativewidth446pxmargintop28px\": 1, \"numdday8backgroundposition0\": 1, \"numtime0backgroundposition50px\": 1, \"생강차\": 1, \"width94px\": 1, \"txtinfomarginright9px\": 1, \"e5e5e5\": 1, \"width258pxmarginright5px\": 1, \"icow03backgroundposition0\": 2, \"0lineheight15pxverticalalignmiddletextalignleft\": 1, \"titbestreader\": 1, \"floatleftwidth31pxlineheight17px\": 1, \"overflowhiddenfloatleftheight40pxmargintop0backgroundposition0\": 1, \"설정\": 3, \"width80pxheight14pxlineheight14pxbackgroundcolortransparentbackgroundposition185px\": 1, \"22pxfontsize11pxlineheight14pxletterspacing1px\": 1, \"newson\": 2, \"1분쇼핑\": 1, \"infonotice\": 1, \"norepeattextindent9999pxverticalaligntop\": 2, \"backgroundposition0\": 53, \"96pxbackgroundurlhttpi1daumcdnnetdecocomicstopdeco2014v2electionbgelection2016top2gif\": 1, \"paddingleft53pxbackgroundposition0\": 1, \"청주\": 1, \"10pxbackgroundposition100\": 1, \"iconormal\": 1, \"layoutverticalt4\": 9, \"로드뷰\": 1, \"splitg\": 1, \"455px\": 1, \"overflowhiddenwidth383pxheight14pxpaddingtop8pxlineheight15pxtextaligncenter\": 1, \"이용약관\": 1, \"3차전39\": 1, \"fontweightboldcolorfff\": 5, \"예상을\": 1, \"marginbottom5px\": 3, \"overflowhiddenwidth200pxheight221pxmargintop11px\": 1, \"zindex1backgroundcolor4e82eebackgroundposition225px\": 1, \"vs\": 2, \"170pxverticalaligntoptextaligncenter\": 1, \"클릭상품\": 1, \"padding12px\": 2, \"4pxcolor444verticalaligntop\": 1, \"width42pxbackgroundposition90px\": 2, \"icobnrfloatleftfontsize0lineheight0backgroundnorepeat\": 1, \"nonebackgroundcolorfff\": 1, \"서비스\": 7, \"엄마표\": 1, \"overflowvisibleoverflowxhiddenwidth399pxheight160pxhorizontalimg\": 1, \"width83px\": 1, \"num40\": 1, \"top7pxright10px\": 1, \"colorfff\": 2, \"환자여부\": 1, \"contentcontentnone\": 1, \"바로\": 22, \"blockquotebefore\": 1, \"480px\": 1, \"positionrelativezindex103\": 1, \"contmenuoverflowhiddenheight40pxpaddingleft24pxbackgroundcolor078dff\": 1, \"positionrelative\": 6, \"linkkids\": 1, \"linkcontvisited\": 2, \"ececec\": 3, \"btnprev\": 2, \"431px\": 1, \"뉴욕\": 1, \"overflowhiddenfloatleftwidth113pxmarginright24pxlineheight14pxtextaligncenter\": 1, \"floatleftpadding4px\": 1, \"colord40400\": 1, \"440px\": 1, \"myblogon\": 3, \"stockdown\": 2, \"displayinlineblockheight14pxmargin19px\": 1, \"동영상\": 1, \"강동원\": 2, \"backgroundposition90px\": 8, \"loadingon\": 1, \"paddingleft10pxcolor383b42backgroundcolortransparent\": 1, \"floatleftmargintop7pxpaddingright2pxcolor3a5fb9letterspacing1px\": 1, \"numtime8backgroundposition50px\": 1, \"종류로\": 1, \"297px\": 1, \"3pxlineheight55pxbackgroundcolortransparentbackgroundposition0\": 1, \"tittv\": 4, \"ageguisortablehelper\": 1, \"overflowhiddenpositionabsolutebottom10pxleft11pxwidth167pxcursorpointerwhitespacenowraptextoverflowellipsis\": 1, \"linkapp\": 1, \"낚시란\": 1, \"overflowhiddenfloatleftwidth100pxheight22pxpadding4px\": 1, \"topautobottom63pxleft169px\": 1, \"icotag\": 3, \"351pxcolor196adb\": 1, \"margintop1px\": 1, \"300px\": 1, \"floatleftmarginright14pxlineheight15px\": 1, \"약관\": 1, \"width10pxmargintop1pxbackgroundposition218px\": 1, \"bnrtype1width58pxheight27pxpadding12px\": 1, \"layermycont\": 14, \"overflowhiddenpositionabsoluteright3pxbottom3pxwidth20pxheight20pxtextindent9999px\": 1, \"top20px\": 1, \"overflowhiddenheight1pxmargin7px\": 1, \"31pxborder1px\": 1, \"396px\": 1, \"displayinlinepaddingleft18pxbackgroundposition9px\": 1, \"numelection2016displayinlineblockoverflowhiddenfontsize0lineheight0backgroundurlhttpi1daumcdnnetdecocomicstopdeco2014v2electionnumelection2016gif\": 1, \"230px\": 4, \"11px\": 2, \"532pxwhitespacenowrap\": 1, \"paddingtop13px\": 1, \"270px\": 1, \"icolivewidth33pxheight16pxmarginright8px\": 1, \"height60px\": 1, \"linkprogram\": 1, \"color005dde\": 1, \"top21pxright0\": 1, \"레몬청\": 1, \"4pxborder1px\": 1, \"positionrelativewidth940pxzindex100\": 1, \"displayblockcolor959595\": 1, \"1198px\": 1, \"width158pxheight50pxcursorpointer\": 1, \"colorde207b\": 1, \"width54pxbackgroundposition492px\": 1, \"titcont\": 2, \"기업들이\": 1, \"10위\": 2, \"링크를\": 22, \"iconewright5px\": 1, \"linkpolicy\": 2, \"displayblockpadding8px\": 1, \"overflowhiddenwidth427px\": 2, \"transparentcolor222lineheight25pxbackgroundcolortransparentimemodedisabled\": 1, \"같이가치\": 3, \"titbrandspe\": 1, \"품격있는신상세련미넘쳐\": 1, \"540px\": 1, \"btnsearchhover\": 1, \"347px\": 1, \"닮아\": 1, \"wrapgame\": 3, \"width235pxpaddingright23px\": 1, \"사람은\": 1, \"한국을\": 1, \"backgroundposition477px\": 2, \"txtinfo\": 2, \"displayblockwidth66pxheight18pxbackgroundcolortransparentbackgroundposition69px\": 1, \"190px\": 8, \"positionrelativewidth200pxheight245pxpadding24px\": 1, \"icosuggestpaddingleft51pxbackgroundurlhttpsearch1daumcdnnetsearchstaticscommonpiicoweatherm160616gif\": 1, \"내\": 1, \"1275px\": 1, \"f2f2f4\": 1, \"height63pxmargintop12px\": 1, \"225px\": 3, \"margintop5pxlineheight15px\": 1, \"50textindent9999px\": 1, \"tiertopalpha\": 1, \"numrate3backgroundposition25px\": 1, \"paddingleft11pxbackgroundposition0\": 2, \"displayblockheight54pxpaddingtop7px\": 1, \"0backgroundposition100\": 1, \"w17\": 2, \"e1e1e1borderbottom1px\": 2, \"listinventory\": 13, \"하락\": 1, \"linkmysvchover\": 1, \"mobileweblink\": 3, \"iconewarr\": 1, \"infothesong\": 3, \"icow06backgroundposition0\": 2, \"contcopy\": 6, \"backgroundurlhttpi1daumcdnnetdecotop2012startcafenone20121023png\": 1, \"오페라의\": 1, \"top16px\": 1, \"color262626textdecorationnone\": 1, \"w31\": 2, \"w30\": 2, \"w33\": 2, \"w32\": 2, \"left387px\": 1, \"w34\": 2, \"w37\": 2, \"w36\": 2, \"w39\": 2, \"w38\": 2, \"술자리이종격투기\": 1, \"fontsize11pxcolor477ae4letterspacing1px\": 1, \"btnreset\": 1, \"0textindent9999px\": 3, \"marginbottom\": 1, \"floatleftmarginright16pxlineheight15px\": 1, \"tittabcont\": 7, \"인터파크\": 1, \"width34pxbackgroundposition90px\": 1, \"할리우드\": 1, \"height16pxpaddingtop7pxlineheight16px\": 1, \"overflowhiddenwidth446pxbackgroundcolortransparentbackgroundposition0\": 1, \"rank9\": 1, \"rank8\": 1, \"rank3\": 1, \"rank2\": 1, \"240px\": 8, \"rank7\": 1, \"rank6\": 1, \"rank5\": 1, \"rank4\": 1, \"속보\": 1, \"displayblockwidth181pxfontsize16pxlineheight25pxclearboth\": 1, \"CJmall\": 1, \"floatleftwidth655pxmarginright5pxbordertop1px\": 1, \"floatleftfontsize11pxmargin3px\": 1, \"txttime\": 3, \"linkrel\": 1, \"linknewapp\": 1, \"recomlink\": 1, \"479\": 1, \"shop5on\": 3, \"backgroundposition330px\": 1, \"numdday3backgroundposition0\": 1, \"eon\": 1, \"icotheme\": 1, \"overflowhiddenwidth272pxheight30pxpadding9px\": 1, \"displayblockoverflowhiddenclearboth\": 1, \"로그인\": 5, \"blogg\": 5}\n"
     ]
    }
   ],
   "source": [
    "source = urllib2.urlopen(\"http://www.daum.net/\").read()\n",
    "print dict_pure_num(list_pure_src(source))"
   ]
  },
  {
   "cell_type": "code",
   "execution_count": 26,
   "metadata": {
    "collapsed": false
   },
   "outputs": [
    {
     "name": "stdout",
     "output_type": "stream",
     "text": [
      "{\"6px\": 3, \"NYT\": 1, \"aides\": 1, \"NYC\": 3, \"Appeal\": 1, \"containersetAttributeclasssignedin\": 1, \"Zcash\": 1, \"Hoover\": 3, \"31px\": 1, \"pageManagertrackingFireEventQueue\": 1, \"Nytimescom\": 1, \"Workers\": 1, \"updated\": 1, \"void\": 1, \"Heralding\": 1, \"contentCollection\": 1, \"vast\": 1, \"Thomas\": 1, \"cnew\": 1, \"Campaign\": 2, \"9px\": 1, \"abovebannerregion\": 6, \"fontweight\": 12, \"Go\": 7, \"Cuisine\": 1, \"direct\": 1, \"Willpower\": 1, \"likely\": 1, \"Version\": 1, \"functionSubscriber\": 1, \"gcandtoplineestfontsize23pxgmodelpromo\": 1, \"windowlocationsearchmatchrePreviewTime\": 1, \"preferences\": 1, \"cooking\": 1, \"Until\": 1, \"Wrong\": 1, \"Otherworldly\": 1, \"Put\": 1, \"new\": 5, \"widget\": 1, \"wrapping\": 1, \"hundreds\": 1, \"kicker\": 4, \"Ohio\": 1, \"100\": 3, \"httpsa1nytcomassetshomepage20161031131206imagesfoundationlogos\": 1, \"‘Unsinkable\": 1, \"Tuesday\": 2, \"135rem\": 1, \"Home\": 4, \"sansserif\": 8, \"campaign\": 3, \"Privacy\": 1, \"brought\": 1, \"htmlshowAllGeoAb\": 5, \"Health\": 9, \"meats\": 1, \"Dispute\": 1, \"acolumn\": 6, \"would\": 3, \"emailaddress\": 1, \"type\": 1, \"foundationlegacymain\": 1, \"Survivor\": 1, \"Rule\": 1, \"blocking\": 1, \"Unreleased\": 1, \"1997\": 1, \"work\": 1, \"avisited\": 4, \"geoipresolver\": 1, \"Steely\": 1, \"Datenew\": 1, \"Colombia\": 3, \"Advertisers\": 1, \"A81817\": 2, \"registeredWelcome\": 1, \"Standing\": 1, \"inscrutable\": 1, \"gbargclintonbackground3989cbgmodelpromohppromoccol\": 1, \"Heds\": 1, \"DAVID\": 2, \"httpsintnytcomapplicationsportalsassetsportalappfae5bf8f555d0a81e22cc783dee04c3bjs\": 1, \"Bruni\": 1, \"Digital\": 1, \"reFormat\": 1, \"Sign\": 2, \"absolute\": 1, \"Editorials\": 1, \"8pximportant\": 1, \"Watching\": 2, \"Journal\": 1, \"Irvine\": 1, \"Muslims\": 1, \"Poverty\": 1, \"htmlgeodma501\": 1, \"env\": 1, \"Zika\": 3, \"Paying\": 2, \"Dylan\": 1, \"earlier\": 1, \"Will\": 3, \"law\": 1, \"texttransform\": 6, \"All\": 1, \"Conversation\": 2, \"acknowledged\": 1, \"Touring\": 1, \"enter\": 1, \"JANE\": 1, \"1000\": 1, \"Monroe\": 1, \"Surveillance\": 2, \"registeredButton\": 1, \"His\": 4, \"Hit\": 3, \"Smarter\": 1, \"fix\": 1, \"Here\": 2, \"fanciest\": 1, \"Birth\": 1, \"400\": 2, \"Judge\": 1, \"videoFactory\": 1, \"hidden\": 1, \"Mercy\": 1, \"ij0idjjifvoid\": 1, \"Mobile\": 3, \"Challenge\": 2, \"ucfslhtdocumentcookiematch\": 1, \"Suggests\": 1, \"they\": 4, \"schools\": 1, \"dirtyform\": 1, \"Control\": 2, \"meat\": 1, \"classified\": 1, \"Four\": 1, \"each\": 1, \"jquerynyt\": 1, \"Humor\": 2, \"series\": 2, \"13px\": 11, \"Paranoia\": 1, \"Won\": 1, \"BEGIN\": 1, \"emailPreferencesLinkText\": 1, \"gcandidatewidth50gmodelpromo\": 1, \"content\": 4, \"authgrowl\": 1, \"Producers\": 1, \"notifyaddEventListenermouseoutfunction\": 1, \"foundation\": 1, \"nythpElection2016Header\": 23, \"University\": 1, \"Work\": 3, \"standard\": 1, \"campaigns\": 1, \"0dcountrycodereturn\": 1, \"copycats\": 1, \"W\": 1, \"Earth’\": 1, \"Clinton\": 4, \"Contributors\": 1, \"Photo\": 3, \"Calculator\": 1, \"Vine\": 1, \"tdocumentcreateElementscripttasync0ttypetextjavascriptvar\": 1, \"unregisteredButton\": 1, \"Impact\": 1, \"Votes\": 1, \"already\": 2, \"Palestinian\": 1, \"consolelogok\": 1, \"articlebefore\": 2, \"Please\": 2, \"Fight\": 1, \"Going\": 1, \"Squeezing\": 1, \"requirenytintgeoip\": 1, \"Website\": 1, \"googletaggoogletaggoogletagcmdgoogletagcmdfunctionvar\": 1, \"Cocktail\": 1, \"Mess\": 1, \"top\": 3, \"supportthetroops\": 1, \"Recordings\": 2, \"Notebook\": 1, \"Alexander\": 1, \"0important\": 1, \"Search\": 5, \"B\": 1, \"Employing\": 1, \"AChangin’\": 1, \"messagebed\": 1, \"KAITLYN\": 1, \"modern\": 1, \"breturn\": 1, \"Transgender\": 1, \"nyta2ifathrow\": 1, \"Them\": 1, \"Rate\": 1, \"Historic\": 1, \"They\": 2, \"Ask\": 1, \"even\": 1, \"though\": 1, \"Artists’\": 1, \"Comey\": 3, \"letter\": 1, \"notifygetAttributeplaceholder\": 1, \"Rigged\": 2, \"Comet\": 1, \"Went\": 1, \"Comes\": 1, \"requirehttpsa1nytcomanalyticstagxsimpleminjs\": 1, \"Whats\": 1, \"medical\": 1, \"Bound\": 1, \"1125rem\": 1, \"reflecting\": 1, \"Election\": 5, \"Want\": 1, \"Its\": 2, \"saying\": 1, \"Curly\": 1, \"Helvetica\": 6, \"articledatacollectionrenderstyleHpSumMediumMedia\": 1, \"KATE\": 1, \"nythpHideKickers\": 1, \"headline\": 1, \"Big\": 2, \"Photography\": 3, \"theme\": 1, \"ntvar\": 1, \"Account\": 1, \"Turns\": 1, \"Taxes\": 2, \"Quick\": 1, \"nasty\": 1, \"reviewed\": 1, \"Over\": 1, \"Washington\": 1, \"Agent\": 1, \"grilled\": 1, \"ALEXANDER\": 1, \"Caribbean\": 1, \"textdecoration\": 5, \"testTime\": 1, \"Dogs\": 1, \"best\": 1, \"said\": 2, \"Horror\": 2, \"actionlink\": 1, \"aactive\": 4, \"360\": 4, \"Settings\": 1, \"paddingtop\": 2, \"Seek\": 1, \"OpEd\": 6, \"BERNSTEIN\": 1, \"Oysters\": 1, \"Dance\": 1, \"Focus\": 1, \"Waking\": 1, \"geocoded\": 2, \"hummus\": 1, \"Novelist\": 1, \"Classifieds\": 1, \"NumberparseIntmatches1\": 1, \"360degree\": 1, \"6187a6important\": 2, \"accountname\": 2, \"matte\": 1, \"0ecforvar\": 1, \"trust\": 1, \"Method\": 1, \"interactiveleadin\": 1, \"gsubtitledisplayblocktexttransformnonegmodelpromohppromobcol\": 1, \"wideB\": 2, \"wideA\": 2, \"been\": 1, \"Wall\": 1, \"Hillary\": 3, \"Divisions\": 1, \"rePreviewTime\": 1, \"MULLINnbspPhoto\": 1, \"quantities\": 1, \"Flop\": 1, \"Verdict\": 3, \"News\": 5, \"immersive\": 1, \"Dries\": 1, \"Debt\": 1, \"timedBriefingHidei\": 1, \"publicly\": 1, \"Deputy\": 1, \"Beware\": 1, \"Manage\": 1, \"Law\": 1, \"6288a5\": 1, \"Writers\": 1, \"launched\": 1, \"is\": 1, \"it\": 3, \"experts\": 1, \"in\": 41, \"if\": 8, \"Around\": 1, \"Wins\": 1, \"President\": 2, \"mastectomies\": 1, \"Won’t\": 1, \"Room\": 2, \"h6active\": 5, \"on\": 18, \"Parcel\": 1, \"Gates\": 1, \"‘People\": 1, \"echoes\": 1, \"the\": 44, \"800\": 1, \"left\": 5, \"pocketRegion\": 4, \"Chobani\": 1, \"ffeehfunctionavar\": 1, \"ViewedTrendingRecommended\": 1, \"h3gcharttitlefontsize10pxtexttransformuppercasemargin0\": 1, \"previous\": 1, \"Yemen\": 1, \"Subscribersetup\": 1, \"Offer\": 1, \"had\": 1, \"Soundtrack\": 1, \"trampled\": 1, \"James’s\": 1, \"hpDeveloping\": 3, \"ffffff\": 1, \"has\": 6, \"’90s\": 1, \"3px\": 6, \"Where’s\": 1, \"windowNYTD\": 2, \"Restaurant\": 1, \"James\": 4, \"Taking\": 1, \"Worth\": 1, \"Morning\": 4, \"background\": 3, \"Missouri\": 1, \"Grass\": 1, \"Art\": 2, \"Trump\": 15, \"windowNYTINTTESTINGee\": 1, \"Newsletters\": 1, \"Teenagers\": 1, \"21px\": 1, \"Are\": 3, \"sectionopinion\": 2, \"What’s\": 1, \"Again\": 1, \"right\": 1, \"Puts\": 1, \"people\": 2, \"emails\": 1, \"election\": 1, \"escape\": 1, \"PaperVideo\": 1, \"Inconvenient\": 1, \"Divides\": 1, \"Life\": 2, \"Scion\": 1, \"for\": 21, \"bottom\": 1, \"Siege\": 2, \"notification\": 2, \"normal\": 1, \"backgroundposition\": 1, \"aaaaaa\": 2, \"h3gcharttitlehovertextdecorationunderlinegmodelpromo\": 1, \"strictvar\": 1, \"Let\": 1, \"Chris\": 1, \"He\": 1, \"core\": 1, \"timedBriefingsisetAttributeclass\": 2, \"bold\": 1, \"Upgrades\": 1, \"nythpSmarterLivingHeader\": 38, \"Daily\": 4, \"notifyemailerror\": 1, \"Cloaked\": 1, \"losing\": 1, \"post\": 1, \"0px\": 15, \"properties\": 1, \"takes\": 1, \"ltie10\": 9, \"months\": 1, \"Evidence\": 1, \"Commute\": 1, \"Stretched\": 1, \"Warren\": 1, \"underscorenyt\": 1, \"Machines\": 1, \"managers\": 1, \"Make\": 1, \"float\": 4, \"Hybrid\": 1, \"etnytimescom\": 1, \"Hamdi\": 1, \"Insider\": 7, \"Brokaw\": 1, \"often\": 1, \"Selling\": 1, \"Elvis\": 1, \"width\": 6, \"way\": 1, \"Presley\": 1, \"music\": 1, \"Elena\": 1, \"was\": 2, \"optsvariation\": 1, \"766756\": 1, \"form\": 1, \"some\": 1, \"Supper\": 1, \"Loading\": 2, \"back\": 1, \"widgetsetAttributeclassclearfix\": 1, \"httpwwwnytimescomelectionsresultsstatusjson\": 1, \"true\": 1, \"GMT\": 1, \"inside\": 1, \"Domestic\": 1, \"Showman\": 1, \"romantimesserif\": 1, \"Aren’t\": 1, \"SCOTT\": 1, \"submitting\": 1, \"Leaders’\": 3, \"HardertoTrace\": 1, \"Personal\": 1, \"Six\": 1, \"Malta\": 1, \"AIBA\": 1, \"libefore\": 2, \"no\": 1, \"14px\": 6, \"investigations\": 1, \"Leases\": 1, \"timedBriefingslength\": 1, \"Pages\": 1, \"E\": 1, \"Hunt\": 1, \"Trial\": 1, \"‘Beyond\": 1, \"Loft\": 1, \"backgroundsize\": 2, \"longer\": 1, \"Estate\": 4, \"home\": 14, \"Charles\": 1, \"Intern\": 1, \"Nonfiction\": 2, \"reception\": 1, \"time\": 5, \"songs\": 1, \"Title\": 1, \"Indians\": 1, \"bombed\": 1, \"creative\": 1, \"Today\": 4, \"Introducing\": 2, \"0\": 17, \"Melinda\": 1, \"813\": 1, \"Day\": 1, \"817\": 1, \"Don’t\": 2, \"Tech\": 3, \"Recalls\": 1, \"Where\": 2, \"divnotificationwidget\": 1, \"ahover\": 4, \"Tax\": 2, \"gun\": 1, \"h3collectionkicker\": 5, \"About\": 1, \"div\": 10, \"George\": 1, \"application\": 1, \"tougher\": 1, \"‘War’\": 1, \"a81817\": 3, \"bordertopleftradius\": 3, \"gnewsletterlinkfont500\": 1, \"smarterliving\": 1, \"inlineblock\": 4, \"Subscriptions\": 5, \"Flat’\": 2, \"Rejected\": 1, \"30px\": 2, \"shared\": 1, \"Along\": 1, \"Economics\": 1, \"People’s\": 1, \"funeral\": 1, \"Changed\": 1, \"water\": 1, \"English\": 1, \"newtext\": 1, \"margintop\": 15, \"My\": 2, \"Founder\": 1, \"Frugal\": 1, \"MM\": 1, \"Your\": 7, \"trial\": 1, \"navigation\": 2, \"Justice\": 1, \"foundationmain\": 1, \"Dies\": 4, \"helvetica\": 2, \"by\": 15, \"live\": 1, \"Tammy\": 2, \"First\": 2, \"optspoll\": 1, \"These\": 3, \"Orlando\": 2, \"Services\": 1, \"Virtual\": 1, \"Time\": 2, \"FD8249\": 2, \"organizations\": 1, \"Celebrations\": 1, \"timesvideo\": 1, \"Family\": 1, \"Pacific\": 1, \"productCode\": 1, \"nowgetHours\": 1, \"can\": 1, \"believed\": 1, \"Our\": 2, \"Avoided\": 1, \"Mr\": 2, \"Out\": 5, \"7px\": 2, \"Federal\": 3, \"Britons\": 1, \"Huma\": 1, \"0eivar\": 1, \"Terms\": 2, \"divided\": 1, \"Who\": 3, \"1\": 5, \"Bullets\": 1, \"baswitch0case\": 1, \"Why\": 2, \"aeachfunction\": 1, \"information\": 1, \"alerticon\": 1, \"Pyrenees\": 1, \"floatright\": 1, \"RunUp\": 1, \"Corporate\": 1, \"View\": 2, \"timedBriefingHide\": 3, \"outline\": 1, \"Locale\": 1, \"Series\": 1, \"documentgetElementByIdmorningbriefingwidget\": 1, \"so\": 1, \"opts\": 2, \"Hunting\": 1, \"Jay\": 1, \"Breaking\": 2, \"atargetefatargetundefinedtypeof\": 1, \"Genetic\": 1, \"LaFRANIERE\": 1, \"alreadySubscribedMessage\": 1, \"homepage20161031131206jsfoundation\": 1, \"thumb\": 1, \"undermined\": 1, \"Treatments\": 1, \"offers\": 1, \"policy\": 1, \"mail\": 1, \"Hiding\": 2, \"matches\": 2, \"Returns\": 1, \"origtext\": 1, \"Choices\": 1, \"odocumentgetElementsByTagNamescript0oparentNodeinsertBeforeto\": 1, \"She\": 1, \"not\": 2, \"now\": 1, \"hall\": 1, \"Newest\": 1, \"name\": 2, \"Skip\": 2, \"You’re\": 1, \"VEDA\": 1, \"showcasing\": 1, \"siteindexbrandinglink\": 1, \"em\": 1, \"A\": 12, \"morningbriefingwidget\": 1, \"paddingleft\": 2, \"Stops\": 1, \"Shorter\": 1, \"year\": 1, \"avoided\": 1, \"‘We\": 1, \"container\": 2, \"pocketregion\": 4, \"h3gcharttitlemargintop2pxgmodelpromo\": 1, \"hyperaccurate\": 1, \"Joe\": 1, \"165rem\": 1, \"receiving\": 1, \"Jon\": 1, \"Workstation\": 1, \"after\": 1, \"Theater\": 4, \"Samsung\": 1, \"ajax\": 1, \"notifyaddEventListenerkeyupfunction\": 1, \"Ide’s\": 1, \"Money\": 2, \"222222\": 1, \"StreetSmart\": 1, \"McINTIRE\": 1, \"2pximportant\": 1, \"Promise\": 1, \"Touch\": 1, \"first\": 1, \"Even\": 1, \"ulrefer\": 2, \"testTimegetUTCMinutes\": 1, \"10pxmargintop5pxmarginbottom10pxgmodelpromohppromoccoldisplayblockfont500\": 1, \"There\": 2, \"Asia\": 1, \"Start\": 1, \"Black\": 1, \"carry\": 1, \"millions\": 1, \"articlestorythemesummary\": 1, \"unregisteredPlaceholder\": 1, \"Monday\": 1, \"2\": 1, \"CARYN\": 1, \"convention\": 1, \"Date\": 1, \"legally\": 1, \"white\": 1, \"Bundy\": 1, \"that\": 6, \"season\": 1, \"padding\": 10, \"bColumn\": 2, \"copy\": 1, \"than\": 2, \"twiceforioau0u\": 1, \"12\": 3, \"Love\": 1, \"foundationhelpersutils\": 1, \"Backing\": 1, \"require\": 2, \"optimism\": 1, \"officials\": 1, \"spanabledepackageregion\": 3, \"Fake\": 2, \"Advertise\": 1, \"Settlement\": 2, \"browser\": 1, \"and\": 34, \"Combines\": 1, \"Court\": 1, \"displayBriefings\": 1, \"say\": 1, \"Valley\": 1, \"Women’s\": 1, \"Blame\": 1, \"Refuses\": 1, \"15px\": 2, \"200\": 1, \"Off\": 1, \"Ignites\": 1, \"opposite\": 1, \"Angst\": 1, \"widgetgetElementsByTagNamediv0\": 1, \"Caption\": 2, \"donation\": 1, \"aindexOfzoneabbr0bareplacezoneabbrustimezonebreakcase\": 1, \"Donkeys\": 1, \"Wisconsin\": 1, \"Ferrante\": 1, \"Beyond\": 1, \"raquo\": 34, \"portalcontainerheader\": 1, \"spanABTopRegion\": 2, \"surplus\": 1, \"Political\": 3, \"contemporary\": 1, \"hack\": 1, \"forecast\": 1, \"ground\": 1, \"Wants\": 2, \"Hours\": 3, \"We\": 2, \"upgrade\": 1, \"RIP\": 1, \"black\": 1, \"nythpSmarterLiving\": 13, \"Violence\": 1, \"DealBook\": 1, \"Magazine\": 6, \"TYLER\": 1, \"Christie’s\": 1, \"Right\": 2, \"nytcheltenhamshgeorgiatimes\": 1, \"people’s\": 1, \"summary\": 2, \"o0i0c0raiife2f215p27n4sff311518500249en1rn2eon3uaero341275144aereoro882459459u15356943890f20te2roasf3sf8sf14sf16forf5flflfnf0return\": 1, \"Anger\": 1, \"Education\": 4, \"relative\": 1, \"surgery\": 1, \"Iowa\": 1, \"maxwidth\": 1, \"That\": 5, \"review\": 1, \"mediumthumb\": 1, \"sites\": 1, \"its\": 1, \"boundaries\": 1, \"Books\": 3, \"Frenzy\": 1, \"letterspacing\": 3, \"Greenspan\": 1, \"WEINER\": 1, \"Than\": 1, \"Target\": 2, \"abcolumn\": 7, \"killing\": 1, \"Advocates\": 1, \"arial\": 2, \"nythpSmarterLivingbefore\": 1, \"h5font300\": 1, \"optslimit\": 1, \"Brown’\": 2, \"homepage20161031131206jshomepage\": 2, \"setTimeoutfunction\": 1, \"Escape\": 1, \"hpLive\": 3, \"Cream\": 1, \"Offered\": 1, \"McPHATE\": 1, \"color\": 21, \"Travel\": 3, \"Note\": 1, \"93px\": 1, \"article\": 12, \"biographer\": 1, \"storyheading\": 9, \"Events\": 3, \"177px\": 1, \"cities\": 1, \"subscribed\": 2, \"nythpCAToday\": 6, \"But\": 3, \"BURNS\": 1, \"500\": 2, \"MARTIN\": 1, \"gpromofooterdisplaywebkitboxdisplaymsflexboxdisplayflexwebkitboxpackjustifymsflexpackjustifyjustifycontentspacebetweenwebkitboxalignbaselinemsflexalignbaselinealignitemsbaselinefontsize13pxmargintop5pxgmodelpromohppromoccol\": 1, \"Together\": 1, \"elementToHideOnSubscribe\": 1, \"former\": 1, \"case\": 1, \"Kenneth\": 2, \"windowlocationsearchindexOfportalvariantwatchingNoScroll\": 1, \"margin\": 7, \"Causes\": 1, \"themecomments\": 1, \"utils\": 1, \"Largest\": 1, \"dubious\": 1, \"28px\": 1, \"worry\": 1, \"Israel\": 2, \"Complete\": 1, \"media\": 1, \"Recognition’\": 1, \"notificationsignup\": 6, \"Bullpen\": 1, \"inquiry\": 1, \"Design\": 1, \"JONATHAN\": 1, \"‘IQ’\": 1, \"status\": 1, \"nythpNYRegionPromo\": 4, \"oil\": 1, \"I\": 1, \"Clear\": 1, \"IRS\": 1, \"Modules\": 1, \"director\": 2, \"Sidewalk\": 1, \"Home’\": 1, \"undefined\": 2, \"Owe\": 1, \"Is\": 11, \"‘Inferno’\": 1, \"nythpBreakingnythpNoRule\": 1, \"It\": 1, \"amounts\": 1, \"without\": 1, \"Rent\": 1, \"In\": 8, \"Hoover’s\": 1, \"ccc\": 3, \"fontstyle\": 2, \"natreturn\": 1, \"Service\": 1, \"displaynone\": 2, \"being\": 1, \"money\": 1, \"glabelfloatrighttextalignrightwhitespacenowrapgmodelpromohppromoccol\": 1, \"Markets\": 1, \"Log\": 1, \"Jobs\": 1, \"Whispers\": 1, \"Spot\": 1, \"param\": 2, \"it’s\": 1, \"Ulukaya\": 1, \"windowNYTDGlobal\": 1, \"CHRISTOPHER\": 1, \"Analyst\": 1, \"Change\": 1, \"Parable\": 3, \"Many\": 1, \"Camp\": 1, \"secondcolumnregion\": 2, \"Tour\": 1, \"nytfranklin\": 8, \"amp\": 1, \"Talk\": 1, \"httpsstatic01nytcomjsmtr\": 1, \"Show\": 2, \"Hacks\": 2, \"containergetElementsByTagNamebutton0\": 1, \"Raises\": 1, \"Sharp\": 1, \"中文\": 1, \"Jewelry\": 1, \"windowlocationsearchindexOfdisabletagx\": 1, \"uppercase\": 5, \"Seriously\": 2, \"Clinton’s\": 3, \"He’s\": 1, \"Listen\": 1, \"SHASTRI\": 1, \"timetimestamp\": 1, \"911\": 5, \"Marilyn\": 1, \"refer\": 1, \"windowNYTDGlobaldisplayBriefingstestTimegetUTCHours\": 1, \"containerId\": 1, \"chefs\": 1, \"httpsa1nytcomassets\": 1, \"Settle\": 1, \"Rock\": 1, \"a6a6a6\": 1, \"requirehomepagemain\": 2, \"Inspire\": 2, \"bordertoprightradius\": 2, \"of\": 42, \"Scared\": 1, \"documentgetElementsByClassNametimedBriefing\": 1, \"Paper\": 1, \"Concussions\": 1, \"or\": 4, \"Story\": 1, \"protests\": 1, \"notifysetAttributeplaceholdernewtext\": 1, \"urlhttpsstatic01nytcomnewsgraphics20150225electionnavigationassetsimageselection2016logopng\": 1, \"Least\": 1, \"inbox\": 1, \"determine\": 1, \"your\": 5, \"Store\": 1, \"NN\": 1, \"Though\": 1, \"opacity0\": 1, \"hed\": 1, \"start\": 1, \"italic\": 1, \"Putman\": 1, \"J\": 4, \"signedin\": 2, \"Error\": 1, \"Small\": 1, \"articlenthoftype2\": 1, \"trying\": 2, \"with\": 1, \"Original\": 2, \"‘The\": 2, \"RONI\": 1, \"default\": 2, \"thanksMessage\": 1, \"vhs\": 1, \"Close\": 1, \"FBI\": 7, \"Blow\": 1, \"Delivered\": 1, \"600\": 1, \"videos\": 2, \"Space\": 1, \"Fall’\": 1, \"Wordplay\": 1, \"an\": 9, \"Blog\": 1, \"How\": 4, \"upending\": 1, \"at\": 11, \"utilsappendQueryParamshref\": 1, \"An\": 1, \"reHide\": 1, \"Real\": 4, \"again\": 1, \"Read\": 1, \"attrEnd\": 1, \"you\": 4, \"nytintemailsubscriber\": 1, \"gaining\": 1, \"Climate\": 1, \"bordercolorrgba971361661\": 1, \"videoPlaylist\": 1, \"gdbdcatchhconloadfunctionareturn\": 1, \"important\": 5, \"CNN\": 1, \"wfloading\": 1, \"Resurrected\": 2, \"nbspComments\": 8, \"Promo\": 1, \"DategetTime\": 1, \"gcandidatesdisplaywebkitboxdisplaymsflexboxdisplayflexgmodelpromo\": 1, \"all\": 2, \"Fix\": 2, \"Obamacare\": 1, \"Take\": 1, \"strictfunction\": 1, \"Maneuver\": 1, \"glimpse\": 1, \"icons\": 1, \"to\": 34, \"init\": 1, \"program\": 1, \"dairy\": 1, \"homepage\": 1, \"belonging\": 1, \"far\": 1, \"Listings\": 1, \"Sale\": 2, \"Headers\": 1, \"1px\": 7, \"fall\": 1, \"bypasses\": 1, \"SHANE\": 1, \"Binding\": 1, \"borderbottomleftradius\": 3, \"Horinek\": 1, \"messengersuggestions\": 5, \"employing\": 1, \"Scary\": 1, \"Español\": 1, \"Should\": 1, \"past\": 1, \"Circle\": 1, \"resettled\": 1, \"ribbon\": 1, \"what\": 1, \"Tried\": 1, \"urlhttpsstatic01nytcomimagesiconsiconalert12x12a81817png\": 1, \"Released\": 2, \"paddingbottom\": 2, \"Prosecutors\": 1, \"Gift\": 1, \"NFL\": 1, \"Contact\": 1, \"Briefing\": 4, \"search\": 1, \"experience\": 1, \"social\": 2, \"glinktextdecorationunderlinegmodelpromohppromoccolbeforeboxsizingcontentboxcontentdisplayblockbordertop2px\": 1, \"Style\": 6, \"httpsstatic01nytcomjs2buildvideoplayersextended20appRequire\": 1, \"nythpDeveloping\": 1, \"Top\": 1, \"Sparkling\": 1, \"href\": 3, \"notificationstitle\": 1, \"Too\": 1, \"Animal\": 1, \"Opinion\": 11, \"Explorer\": 2, \"2016Today’s\": 1, \"two\": 1, \"Beatty\": 1, \"Automobiles\": 2, \"Baseball\": 1, \"6\": 2, \"Doppelgänger\": 3, \"textalign\": 6, \"more\": 4, \"Butter\": 1, \"Limits\": 3, \"Buber\": 1, \"St\": 1, \"American\": 3, \"So\": 1, \"factories\": 1, \"none\": 21, \"Dubious\": 1, \"bordertop\": 2, \"326891\": 1, \"matchHeight\": 1, \"spanabcregion\": 16, \"Opening\": 1, \"rather\": 1, \"Fusion\": 1, \"Fall\": 1, \"Shadow\": 1, \"Gobbledygook\": 1, \"previewTimed\": 1, \"Television\": 2, \"advice\": 1, \"LEARN\": 1, \"paddingtop11px\": 1, \"Matter\": 1, \"Continue\": 1, \"Candy\": 2, \"startTime\": 3, \"capitalize\": 1, \"response\": 2, \"a\": 42, \"Player\": 1, \"Film\": 1, \"175rem\": 1, \"What\": 2, \"help\": 1, \"SignUp\": 1, \"187px\": 1, \"through\": 1, \"Forces\": 2, \"bordertopcolor\": 1, \"divdatastatusworking\": 2, \"Oct\": 1, \"ccolumncolumn\": 3, \"Full\": 1, \"20\": 2, \"late\": 1, \"floatleft\": 1, \"splitlayout\": 4, \"Brussels\": 2, \"might\": 1, \"NYTDNYTDNYTDAbrafunctiontuse\": 1, \"waitSeconds\": 1, \"Resolve\": 1, \"return\": 3, \"food\": 1, \"timestamp\": 1, \"Bad\": 1, \"h3gmodelpromo\": 1, \"glinkcolor326891gmodelpromohppromoccol\": 1, \"Obesity\": 2, \"EmailedMost\": 1, \"eron0an1i0c0if1alength4294967296a0foreut\": 1, \"spanABLedePackage\": 2, \"Sounds\": 2, \"e2e2e2paddingleft8pxgmodelpromodisplayblockgmodelpromohppromobcolpadding7px\": 1, \"Saints\": 1, \"Sports\": 4, \"Complex\": 1, \"beyond\": 1, \"5pxgmodelpromo\": 1, \"More\": 10, \"Coop\": 1, \"Connects\": 1, \"Potatoes\": 1, \"Report\": 1, \"defy\": 1, \"collectionfirstchild\": 4, \"Hinge\": 2, \"timedBriefings\": 1, \"ET\": 11, \"Male\": 1, \"gmodelpromocontainerpositionrelativemarginbottom10pxgmodelpromocontainer\": 1, \"benefits\": 1, \"Debate\": 2, \"Bland\": 1, \"undergo\": 1, \"Defrauded\": 1, \"Maps\": 1, \"notify\": 1, \"story\": 2, \"gcandtoplinelabelfontsize11pxgmodelpromosolidrepgmodelpromolikelyrepgmodelpromoleaningrepbackgroundcolord75c5ccolorfffgmodelpromotossupbackgroundcolorf5f5bdgmodelpromoleaningdemgmodelpromolikelydemgmodelpromosoliddembackgroundcolor3989cbcolorfff\": 1, \"9202016\": 1, \"aindexOfzone0bareplacezonezonebreakcase\": 1, \"Bullet\": 1, \"You’ve\": 1, \"taxable\": 1, \"Todayrsquos\": 2, \"Cancer\": 1, \"Puzzle\": 2, \"Wing’\": 3, \"thisattrhref\": 2, \"Officials\": 2, \"testTZ\": 1, \"adatareactid002\": 1, \"etniftvar\": 1, \"lilastchild\": 2, \"Father\": 1, \"Battles\": 1, \"airstrike\": 1, \"Gov\": 1, \"fading\": 1, \"paths\": 2, \"Generates\": 1, \"Food\": 5, \"Price\": 2, \"borderbottom\": 7, \"‘Normalization’\": 1, \"With\": 9, \"Sides\": 1, \"added\": 1, \"Chavismo\": 2, \"M\": 1, \"most\": 1, \"Chief\": 1, \"HIDE\": 1, \"The\": 34, \"Finds\": 1, \"Bridge\": 3, \"Egypt\": 1, \"clear\": 3, \"Port\": 1, \"Subscribe\": 4, \"diverror\": 1, \"Expert\": 3, \"666\": 1, \"0backgroundcolorfffgmodelpromohppromoccol\": 1, \"Had\": 1, \"XMLHttpRequestdnullenulltryifdJSONparsesessionStoragegetItemadvoid\": 1, \"tenet\": 1, \"norepeat\": 2, \"marginleft\": 2, \"boxshadow\": 1, \"Ford\": 1, \"find\": 1, \"impact\": 1, \"22px\": 1, \"Muslim\": 1, \"documentreadyfunction\": 2, \"8\": 1, \"Guys\": 1, \"his\": 3, \"Genitalia\": 1, \"During\": 1, \"Trump’s\": 2, \"banner\": 1, \"him\": 1, \"divdatastatusinitial\": 5, \"4pximportant\": 1, \"Minneapolis\": 1, \"Hell\": 1, \"Necessities\": 1, \"set\": 1, \"For\": 3, \"windowmagnumwriteLogosmall\": 1, \"are\": 3, \"e2e2e2borderbottom1px\": 1, \"Buildings\": 1, \"GET\": 1, \"please\": 1, \"PATRICIA\": 1, \"HEALY\": 1, \"312px\": 1, \"conditions\": 4, \"Age\": 1, \"targeted\": 1, \"Sana\": 1, \"lineheight\": 14, \"Refugees\": 1, \"both\": 1, \"last\": 1, \"Boxing’s\": 1, \"gupdatedcoloraaafontsize11pxgmodelpromohppromoacoltextaligncentermargintop3pxmarginbottom10pxpadding7px\": 1, \"Hard\": 3, \"Mosul\": 2, \"20160630\": 1, \"Green\": 2, \"simple\": 1, \"acted\": 1, \"address\": 1, \"community\": 1, \"improper\": 1, \"Way\": 1, \"Was\": 2, \"Updated\": 1, \"‘Molly\": 1, \"Applications\": 1, \"documentaddEventListenerDOMContentLoaded\": 1, \"Most\": 2, \"secret\": 1, \"California\": 1, \"Plan\": 1, \"Women\": 2, \"lived\": 1, \"Polls\": 1, \"slideshow\": 1, \"else\": 2, \"Saudi\": 1, \"Pick\": 1, \"Drops\": 1, \"16px\": 1, \"Todays\": 3, \"Journeys\": 1, \"solid\": 12, \"Sales\": 1, \"while\": 1, \"College\": 1, \"nn1nullfunction\": 1, \"Issues\": 1, \"City\": 5, \"Grounded\": 1, \"Here’s\": 1, \"nytfranklinhelveticaarialsansserif\": 2, \"36\": 2, \"itself\": 1, \"e2e2e2\": 3, \"wartorn\": 1, \"Anyone’\": 1, \"articlelastchild\": 1, \"9\": 1, \"notifyemail\": 1, \"lawyers\": 1, \"Lines\": 1, \"Podcasts\": 1, \"Movies\": 2, \"000\": 9, \"backgroundimage\": 1, \"buybacks\": 1, \"1625rem\": 1, \"Technology\": 2, \"l0var\": 1, \"Son\": 1, \"containersetAttributeclassnotsignedin\": 1, \"Economic\": 1, \"nythpGeoCanada\": 1, \"Racial\": 1, \"Tools\": 1, \"T\": 3, \"Living\": 2, \"Porsche\": 1, \"previewTime\": 2, \"FF9859\": 2, \"Trauma\": 1, \"questions\": 1, \"Internet\": 1, \"Comedy\": 2, \"loading\": 1, \"Football\": 1, \"Hands\": 1, \"Front\": 1, \"input\": 2, \"Chips\": 1, \"On\": 4, \"padding13px\": 1, \"‘West\": 3, \"errorMessage\": 1, \"nythpHideBylines\": 1, \"Truth\": 1, \"entrenched\": 1, \"nythpSmarterLivingafter\": 2, \"Or\": 1, \"modifications\": 1, \"ALFANO\": 1, \"Colony\": 1, \"collect\": 1, \"19thCentury\": 1, \"Sight\": 1, \"Howard’s\": 1, \"Dakota\": 1, \"Happens\": 1, \"Silent\": 1, \"gbaroverflowvisiblegmodelpromohppromoccol\": 1, \"Backs\": 1, \"extremist\": 1, \"storythemesummaryheadlinemediumsummary\": 5, \"anytgeoipbdocumentgetElementsByTagNamehtmlc1dcontinentcodecountrycoderegiondmacodepostalcodetimezonezoneabbrefunctionbvar\": 1, \"Email\": 1, \"Momentum\": 1, \"Frank\": 1, \"nythpBreaking\": 3, \"AMISHA\": 1, \"Microcephaly\": 3, \"Comey’s\": 3, \"be\": 1, \"Bill\": 1, \"Times\": 18, \"electoral\": 1, \"Motivated\": 1, \"Bob\": 1, \"Russia\": 1, \"von\": 1, \"‘Female\": 2, \"SHARON\": 1, \"pipeline\": 1, \"Ron\": 1, \"Voters\": 1, \"Savings\": 1, \"8px\": 2, \"Billionaire\": 1, \"block\": 9, \"Productive\": 1, \"NewsDeveloping\": 1, \"htmlgeoregionCA\": 1, \"into\": 1, \"themenewsheadlines\": 2, \"Driven\": 1, \"Used\": 1, \"span\": 1, \"Norman\": 1, \"aledepackageregion\": 2, \"vendors\": 1, \"User\": 1, \"Come\": 1, \"widgetgetElementsByClassNamenotifyemail0\": 1, \"3600\": 1, \"96px\": 1, \"link\": 1, \"repeatedly\": 1, \"Opinionator\": 1, \"Office\": 1, \"We’ve\": 1, \"gtrump\": 1, \"Public\": 3, \"up\": 2, \"viewportmedium10\": 2, \"ul\": 9, \"TV\": 1, \"Gunman\": 1, \"ifform\": 1, \"vibe\": 1, \"KETCHAM\": 1, \"influence\": 1, \"Attack\": 1, \"New\": 14, \"Upshot\": 1, \"Manhattan\": 1, \"Map\": 1, \"May\": 2, \"notificationtext\": 2, \"bcolumn\": 13, \"Student\": 1, \"income\": 1, \"pageManager\": 2, \"Case\": 4, \"Gender\": 1, \"marginright8px\": 1, \"AM\": 11, \"breasts\": 1, \"STYLING\": 1, \"helping\": 1, \"weigh\": 1, \"Making\": 1, \"sides\": 1, \"land\": 1, \"Ad\": 1, \"Weddings\": 1, \"nytfranklinHelveticaArialsansserifpositionabsolutezindex10bottom0left109pxcolor326891borderleft1px\": 1, \"2000\": 2, \"At\": 1, \"HicksThe\": 1, \"nowgetMinutes\": 1, \"Newsletter\": 2, \"notificationwidget\": 20, \"Sell\": 1, \"MIKE\": 2, \"Department\": 1, \"glabelcolorfffpadding8pxgmodelpromohppromoccol\": 1, \"Dodge\": 1, \"Slows\": 1, \"nytfranklinHelveticaArialsansserifgmodelpromo\": 1, \"Business\": 4, \"notifyemailhover\": 1, \"loadercontainer\": 1, \"Grief\": 1, \"Reigns\": 1, \"Words\": 1, \"25px\": 1, \"Not\": 9, \"Nov\": 1, \"Now\": 5, \"Errorcant\": 1, \"Reconstruction\": 1, \"711\": 1, \"Wheels\": 2, \"fastfood\": 1, \"button\": 4, \"displayinlineblock\": 2, \"try\": 1, \"17px\": 3, \"Starr’s\": 1, \"Index\": 2, \"HICKS\": 1, \"Interviews\": 1, \"requireportalapp\": 1, \"Long\": 1, \"video\": 1, \"SEAN\": 1, \"Sections\": 4, \"requiremap\": 1, \"Alan\": 1, \"Assault\": 1, \"Video\": 7, \"America\": 1, \"Created\": 1, \"Up\": 4, \"isn’t\": 1, \"explore\": 1, \"let\": 1, \"Chinese\": 1, \"minheight38px\": 1, \"functionresponse\": 1, \"18px\": 8, \"Alien\": 1, \"Arabia\": 1, \"Arabic\": 1, \"PADNANI\": 1, \"FX\": 1, \"Leading\": 3, \"Multimedia\": 2, \"Pigeon\": 1, \"Contributing\": 1, \"Treatment\": 1, \"from\": 1, \"nythpmorningbriefingemailpromo\": 1, \"Sold\": 1, \"e2e2e2height1pxmargin12px\": 1, \"next\": 1, \"Lens\": 2, \"Matters\": 1, \"doubt\": 1, \"nythpElectionPredictionCCol\": 1, \"Lane\": 1, \"Land\": 1, \"dentists\": 1, \"bnullswitch0casejsonaresponseTypebaresponsedatabreakcase\": 1, \"BARSTOW\": 1, \"started\": 1, \"Plain\": 1, \"Feast\": 1, \"Gun\": 2, \"visibility\": 1, \"divdatastatussubscribed\": 2, \"Editorial\": 4, \"buttonhover\": 2, \"women\": 1, \"Feedback\": 1, \"this\": 1, \"obvious\": 1, \"Traveler\": 1, \"control\": 1, \"Strapped\": 1, \"Police\": 2, \"750000\": 1, \"tax\": 2, \"Feature\": 1, \"US\": 4, \"ninitfunctionnovar\": 1, \"Clintons’\": 1, \"democracy\": 1, \"Commutes\": 1, \"containergetAttributedatastatus\": 1, \"Molly\": 1, \"photospotregion\": 3, \"Deadly\": 1, \"Emails\": 2, \"iconbefore\": 1, \"Lessee\": 1, \"collection\": 11, \"Nightclub\": 2, \"productive\": 1, \"Letters\": 1, \"‘Going\": 1, \"reHidetestattrClass\": 2, \"notifyaddEventListenerfocusfunction\": 1, \"Politics\": 7, \"Gaze’\": 2, \"Abedin\": 1, \"nullaresponseTextbJSONparsearesponseTextmessagereturn\": 1, \"industries\": 1, \"Fairly\": 1, \"byline\": 2, \"No\": 1, \"storythemefeature\": 3, \"Brooks\": 1, \"li\": 3, \"Director\": 1, \"fontfamily\": 12, \"2016\": 3, \"bolder\": 1, \"auto\": 3, \"Loses\": 1, \"Can\": 4, \"messagecontainer\": 1, \"homepage20161031131206jsshared\": 1, \"day\": 1, \"presidential\": 2, \"Help\": 1, \"Supreme\": 1, \"Pro\": 1, \"Replica\": 1, \"10px\": 7, \"functionafunctiontypeof\": 1, \"Arts\": 6, \"From\": 5, \"d2d2\": 1, \"It’s\": 4, \"88\": 1, \"89\": 1, \"82\": 2, \"aColumn\": 6, \"85\": 1, \"Breast\": 2, \"RUSS\": 1, \"e1gebe1conreadystatechangefunction4creadyState200cstatusconsoleerrorcstatuscopenGEThttpsgeoipnewsdevnytimescom0trycresponseTypejsoncatchhcsendffunctionavar\": 1, \"supports\": 1, \"Tue\": 1, \"Grave\": 1, \"This\": 5, \"Brooklyn\": 1, \"testTimetoUTCStringreplace\": 1, \"JACK\": 1, \"Corrections\": 1, \"Meet\": 3, \"attrClass\": 3, \"spanablayoutlayout\": 1, \"storythemefeaturevideopromosmallupdatedvideopromosmall\": 1, \"Topics\": 1, \"Currency\": 1, \"ehttpsdocumentlocationprotocoltsrcehttpshttpwwwgoogletagservicescomtagjsgptjsvar\": 1, \"Review\": 6, \"powerful\": 1, \"Forecast\": 2, \"North\": 1, \"NY\": 2, \"Contracts\": 1, \"requirefoundationmain\": 5, \"their\": 1, \"h6hover\": 5, \"Saudiled\": 1, \"enforcement\": 1, \"97px\": 1, \"notifysetAttributeplaceholder\": 1, \"fontsize\": 20, \"foundationviewspagemanager\": 2, \"aindexOfcode0bareplacecodereturn\": 1, \"requireconfig\": 1, \"elite\": 1, \"Steaming\": 1, \"Leonhardt\": 1, \"Thiel\": 1, \"Edition\": 1, \"requirejquerynyt\": 2, \"8pxgmodelpromohovertextdecorationnonegmodelpromo\": 1, \"Peter\": 1, \"mediaslideshow\": 1, \"Information\": 2, \"false\": 1, \"Pay\": 1, \"Other\": 1, \"have\": 3, \"need\": 2, \"border\": 3, \"documents\": 1, \"notifysetAttributeplaceholderorigtext\": 1, \"videopromosmallcontainer\": 1, \"After\": 3, \"Mekasi\": 1, \"authmtr\": 1, \"321\": 5, \"tactic\": 1, \"Science\": 4, \"Moll\": 1, \"‘Go\": 1, \"BUETTNER\": 1, \"Blogs\": 1, \"who\": 1, \"ZERNIKE\": 1, \"HEADER\": 1, \"masthead\": 1, \"Leaked\": 1, \"url\": 1, \"Some\": 1, \"rgba971361665\": 1, \"Donald\": 6, \"nythpHideTimestamps\": 1, \"httpsstatic01nytcomvideovhsbuildvhs2xmin\": 1, \"Goal\": 1, \"text\": 2, \"MultimediaPhotos\": 1, \"Under\": 1, \"h3gcharttitle\": 1, \"httpsintnytcomapplicationsemailsubscriberclient\": 1, \"definedefineamddefinenytintgeoipawindownytintgeoipafunctionuse\": 1, \"cache\": 1, \"Update\": 1, \"Marlon\": 1, \"Guide\": 3, \"gbargtrumpbackgroundd75c5cgmodelpromohppromoccol\": 1, \"York\": 11, \"5px\": 7, \"local\": 1, \"commentspanel\": 1, \"Homes\": 2, \"watching\": 1, \"999\": 2, \"Keep\": 1, \"yogurt\": 1, \"08125rem\": 1, \"Humboldt\": 1, \"spanabtopregion\": 8, \"whether\": 2, \"she\": 1, \"contain\": 1, \"Broadway\": 1, \"endTime\": 4, \"httpsstatic01nytcomjsauthgrowldefault\": 1, \"Synagogue\": 1, \"nullaresponsebJSONparsearesponsedatabreakcase\": 1, \"Alterations\": 1, \"computer\": 1, \"Passion\": 1, \"windowmagnumprocessFlagslimitFabrikSavemoreFollowSuggestionsunfollowCommentsallTheEmphasesvideoVHSCovervideoVHSHomepageCovervideoVHSHomepageNewControlsvideoVHSNewControlsvideoVHSEmbeddedOnlyadditionalOpinionRegionshpViewabilityfreeTrialhpPrototypeuseCollectionApiForWellenableFlexFrameAdsweatherLocationfabrikWebsocketsOnlyNYTExperimenthpRealEstateAdjitterbugupdatedVideoPromoSmallvideoEmbed360PersonalizationApiUpdateglobalBriefingsremoveInternationalEditionclientSideABRA\": 1, \"operated\": 1, \"storythemesummary\": 3, \"‘Natasha\": 1, \"borderwidth2px\": 1, \"favor\": 1, \"gtoplinemarginbottom5pxcolor333gmodelpromohppromoccol\": 1, \"21rem\": 1, \"email\": 5, \"Kitchen\": 1, \"Body\": 1, \"Developing\": 1, \"2px\": 15, \"Study\": 1, \"agencies\": 1, \"bynbspTyler\": 1, \"Silicon\": 2, \"Edgar\": 2, \"50px\": 2, \"hits\": 1, \"borderbottomrightradius\": 2, \"Insurance\": 1, \"functionPortal\": 1, \"gchartdisplaywebkitboxdisplaymsflexboxdisplayflexgmodelpromohppromoccol\": 1, \"windowNYTDGlobaldisplayBriefingspreviewTime\": 1, \"Benefactor\": 1, \"backgroundcolor\": 3, \"widgetgetElementsByTagNameform0\": 1, \"Rejects\": 1, \"BRODY\": 1, \"nytfranklinHelveticaArialsansserifgmodelpromohppromoccolhovertextdecorationnonegmodelpromohppromoccolhover\": 1, \"subscribe\": 1, \"Finally\": 1, \"Music\": 2, \"table\": 2, \"winning\": 1, \"Get\": 3, \"COHEN\": 1, \"baseUrl\": 1, \"Frills\": 1, \"json\": 1, \"Obituaries\": 2, \"734\": 1, \"f8e9d2\": 1, \"Writer\": 1, \"backgroundrepeat\": 1, \"kickers\": 1, \"World\": 4, \"375px\": 1, \"Navigation\": 7, \"Mistake\": 2, \"Podcast\": 1, \"Halloween\": 2, \"as\": 5, \"will\": 2, \"nytfranklinarialhelveticasansserif\": 1, \"RABIN\": 1, \"requirenytintemailsubscriber\": 1, \"MORE\": 1, \"Confidence\": 1, \"You\": 3, \"borderradius\": 1, \"Governing\": 1, \"h2gsentencefontsize13pxgmodelpromo\": 1, \"kgeohieijoinb0classListaddkc0returnfunctiontypeof\": 1, \"NYTimescom\": 2, \"Accuse\": 1, \"Car\": 1, \"gets\": 1, \"Sherlock\": 1, \"attrStart\": 1, \"WATCHING\": 1, \"firstcolumnregion\": 2, \"reporting\": 1, \"Grimes\": 2, \"audit\": 1, \"center\": 4, \"i\": 2, \"Pierre\": 1, \"relativeimportant\": 1, \"Need\": 2, \"position\": 3, \"Using\": 1, \"aicfsreturn\": 1, \"Access\": 1, \"TIM\": 1, \"Sunday\": 2, \"Fourth\": 1, \"fd8249\": 2, \"Be\": 3, \"residential\": 1, \"Company\": 1, \"Friday\": 1, \"Despite\": 1, \"By\": 14, \"match\": 1, \"bordercolor\": 6, \"Abductees\": 1, \"‘Atlanta’\": 1, \"26px\": 1, \"know\": 1, \"height\": 7, \"Fashion\": 6, \"like\": 1, \"success\": 1, \"CRAIG\": 1, \"journalism\": 1, \"tons\": 1, \"candy\": 1, \"become\": 3, \"refugees\": 1, \"11px\": 3, \"Quit\": 2, \"12px\": 9, \"Avoid\": 1, \"Great\": 1, \"Quiz\": 2, \"Crossword\": 4, \"Editor\": 2, \"choosing\": 1, \"Legally\": 1, \"Breach\": 2, \"Columnists\": 1, \"Inflame\": 1, \"pthemecomments\": 1, \"1812’\": 1, \"Inside\": 1, \"Play\": 2, \"Us\": 4, \"offset\": 2, \"Newfoundland\": 3, \"rare\": 1, \"asks\": 1, \"hpHeader\": 15, \"ingest\": 1, \"Maine’s\": 1, \"Americans\": 1, \"Questions\": 2, \"political\": 1, \"Alerts\": 1, \"h6\": 43, \"Writing\": 1, \"Jousts\": 1, \"Iraqi\": 2, \"weather\": 1, \"Mountains\": 2, \"accused\": 1, \"Listening\": 1, \"var\": 25, \"httpsstatic01nytcomjs2buildvideo20videofactoryrequire\": 1, \"November\": 1, \"function\": 14, \"NYTDAbrainitHOMEComingUp2147483648control12147483648comingup1HOMENewsEvent23865470567full1429496729control1HOMEElectionPrediction3865470567on1429496729control1ECSampleTest2147483648variantA02147483648variantB0ECDigiAbandonmentTest4294967296control1\": 1, \"dataType\": 1, \"700\": 6, \"but\": 9, \"zoom1\": 1, \"SUSANNE\": 1, \"bug\": 1, \"places\": 1, \"h2gmodelpromo\": 1, \"signed\": 1, \"productionpublished\": 1, \"display\": 25, \"»\": 3, \"Portalcreatenytinthpwatching\": 1, \"Pollster\": 1, \"notifyaddEventListenermouseoverfunction\": 1, \"marginbottom\": 14, \"GELLES\": 1, \"0bbnullgfunctionefifbreturn1trysessionStoragesetItemaJSONstringifyecatchgifvoid\": 1, \"rightwing\": 1, \"ifnotify\": 1, \"Centered\": 1, \"Weren’t\": 1, \"Delivery\": 1, \"other\": 2, \"Phase\": 1, \"HPHEADER\": 1, \"JACOB\": 1, \"chance\": 1, \"Page\": 1, \"—\": 4, \"Site\": 10, \"maxHeight\": 1, \"formsetAttributeclassdirtyform\": 1, \"Victims\": 1, \"Contributor\": 3, \"Hercules’\": 1}\n"
     ]
    }
   ],
   "source": [
    "source = urllib2.urlopen(\"http://www.nytimes.com/\").read()\n",
    "print dict_pure_num(list_pure_src(source))"
   ]
  },
  {
   "cell_type": "markdown",
   "metadata": {},
   "source": [
    "순수 텍스트만을 거르는 과정은, 문자 하나하나를 검사하며, 그 문자가 string.punctuation에 없는 순수문자인지 검사하기 위해 if ~ in을 사용하였다. 그리고 사전에 단어의 빈출 수를 나타내는 것은, 사전에 해당 단어가 없다면 1로 초기화, 있으면 +1을 해주는 for ~ in루프를 만들었다. 여러가지 사이트를 쉽게 출력해보기 위해, list_pure_src, dict_pure_num이란 함수를 각각 만들었고, 한줄로 쉽게 출력이 가능하도록 하였다."
   ]
  },
  {
   "cell_type": "markdown",
   "metadata": {},
   "source": [
    "느낀점...\n",
    "\n",
    "이 번 과제를 하면서, 특히 마지막 incremental 과제에서 파이썬이 얼마나 데이터들을 쉽게 분석하도록 할 수 있는 언어인지 느꼈습니다. C언어 였다면, 이렇게 짧은 코딩으로는 불가능한 것을 가능케 해준다는 데에서 놀랐습니다."
   ]
  }
 ],
 "metadata": {
  "anaconda-cloud": {},
  "kernelspec": {
   "display_name": "Python [Root]",
   "language": "python",
   "name": "Python [Root]"
  },
  "language_info": {
   "codemirror_mode": {
    "name": "ipython",
    "version": 2
   },
   "file_extension": ".py",
   "mimetype": "text/x-python",
   "name": "python",
   "nbconvert_exporter": "python",
   "pygments_lexer": "ipython2",
   "version": "2.7.12"
  }
 },
 "nbformat": 4,
 "nbformat_minor": 0
}
