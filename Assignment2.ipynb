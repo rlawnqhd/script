{
 "cells": [
  {
   "cell_type": "markdown",
   "metadata": {},
   "source": [
    "문제1 : 다음 6 개의 Expression에 대해 Evaluation 결과 값을 출력하고, 해당 결과가 나온 이유에 대해 설명하시오"
   ]
  },
  {
   "cell_type": "code",
   "execution_count": 1,
   "metadata": {
    "collapsed": false
   },
   "outputs": [
    {
     "name": "stdout",
     "output_type": "stream",
     "text": [
      "4\n"
     ]
    }
   ],
   "source": [
    "print (1 and 2 and 3 and 4)"
   ]
  },
  {
   "cell_type": "markdown",
   "metadata": {},
   "source": [
    "and연산은 1이 거짓이 거짓이 아니면 2를, 2가 거짓이 아니면 3을, 3이 거짓이 아니면 4를 리턴한다."
   ]
  },
  {
   "cell_type": "code",
   "execution_count": 2,
   "metadata": {
    "collapsed": false
   },
   "outputs": [
    {
     "name": "stdout",
     "output_type": "stream",
     "text": [
      "1\n"
     ]
    }
   ],
   "source": [
    "print (1 or 2 or 3 or 4)"
   ]
  },
  {
   "cell_type": "markdown",
   "metadata": {},
   "source": [
    "or연산은 1이 참이면 1을 리턴한다."
   ]
  },
  {
   "cell_type": "code",
   "execution_count": 3,
   "metadata": {
    "collapsed": false
   },
   "outputs": [
    {
     "name": "stdout",
     "output_type": "stream",
     "text": [
      "2\n"
     ]
    }
   ],
   "source": [
    "print (1 and 2 or 3 and 4)"
   ]
  },
  {
   "cell_type": "markdown",
   "metadata": {},
   "source": [
    "1 and 2의 연산 결과는 2, 2가 참이므로 or연산에 의해 2가 리턴된다."
   ]
  },
  {
   "cell_type": "code",
   "execution_count": 4,
   "metadata": {
    "collapsed": false
   },
   "outputs": [
    {
     "name": "stdout",
     "output_type": "stream",
     "text": [
      "2\n"
     ]
    }
   ],
   "source": [
    "print ((1 and 2) or (3 and 4))"
   ]
  },
  {
   "cell_type": "markdown",
   "metadata": {},
   "source": [
    "1 and 2의 결과는 2, 3 and 4의 결과는 4, 2 or 4의 결과는 2가 참이므로 2를 리턴한다."
   ]
  },
  {
   "cell_type": "code",
   "execution_count": 5,
   "metadata": {
    "collapsed": false
   },
   "outputs": [
    {
     "name": "stdout",
     "output_type": "stream",
     "text": [
      "1\n"
     ]
    }
   ],
   "source": [
    "print (1 or 2 and 3 or 4)"
   ]
  },
  {
   "cell_type": "markdown",
   "metadata": {},
   "source": [
    "1이 참이고 or연산에 의해 1을 리턴한다."
   ]
  },
  {
   "cell_type": "code",
   "execution_count": 6,
   "metadata": {
    "collapsed": false
   },
   "outputs": [
    {
     "name": "stdout",
     "output_type": "stream",
     "text": [
      "3\n"
     ]
    }
   ],
   "source": [
    "print ((1 or 2) and (3 or 4))"
   ]
  },
  {
   "cell_type": "markdown",
   "metadata": {},
   "source": [
    "1 or 2의 결과는 1, 3 or 4의 결과는 3, 1 and 3의 결과는 3이 리턴된다."
   ]
  },
  {
   "cell_type": "markdown",
   "metadata": {},
   "source": [
    "문제2 : 경로에 해당하는 문자열 1개를 입력 받아 그 안에 디렉토리 경로명과 파일명을 분리하여 리스트로 반환하는 함수 div_path(s)를 작성하시오."
   ]
  },
  {
   "cell_type": "code",
   "execution_count": 8,
   "metadata": {
    "collapsed": false
   },
   "outputs": [
    {
     "data": {
      "text/plain": [
       "['/usr/local/bin', 'python']"
      ]
     },
     "execution_count": 8,
     "metadata": {},
     "output_type": "execute_result"
    }
   ],
   "source": [
    "def div_path(s):\n",
    "    directory = []\n",
    "    filename = \"\"\n",
    "    ss = s.strip().split('/')\n",
    "    for i in range(0, len(ss)-1):\n",
    "        directory.append(ss[i])\n",
    "    filename = (ss[len(ss)-1])\n",
    "    result = [\"/\".join(directory), filename]\n",
    "    return result\n",
    "div_path('/usr/local/bin/python')"
   ]
  },
  {
   "cell_type": "markdown",
   "metadata": {},
   "source": [
    "div_path라는 함수를 만들었습니다.\n",
    "div_path함수는 파일경로는 매개변수로 받아 디렉토리와 파일명으로 구분하여 리스트의 형태로 리턴합니다.\n",
    "'/'를 기준으로 split하여 리스트로 만들어 놓은 뒤, 마지막으로 쪼개진 배열값이 파일명이 되고 그 이전에 쪼개진 배열값들은 다시 어셈블하여\n",
    "디렉토리로 저장됩니다."
   ]
  },
  {
   "cell_type": "markdown",
   "metadata": {},
   "source": [
    "문제3 : 두 개의 리스트를 인자로 받아서 그 두 개의 리스트에 대한 '합집합'을 반환하는 함수 list_union(lista, listb)를 작성하시오."
   ]
  },
  {
   "cell_type": "code",
   "execution_count": 9,
   "metadata": {
    "collapsed": false
   },
   "outputs": [
    {
     "data": {
      "text/plain": [
       "[1, 2, 3, 4]"
      ]
     },
     "execution_count": 9,
     "metadata": {},
     "output_type": "execute_result"
    }
   ],
   "source": [
    "def list_union(lista, listb):\n",
    "    for i in listb:\n",
    "        if not(i in lista):\n",
    "            lista.append(i)\n",
    "    return lista\n",
    "list_union([1, 2, 3], [1, 2, 4])"
   ]
  },
  {
   "cell_type": "markdown",
   "metadata": {},
   "source": [
    "listb의 원소가 lista에 존재한다면 버리고 아니라면 lista에 append하는 함수, list_union을 만들었습니다."
   ]
  },
  {
   "cell_type": "markdown",
   "metadata": {},
   "source": [
    "프로젝트 오일러4 : 앞에서부터 읽을 때나 뒤에서부터 읽을 때나 모양이 같은 수를 대칭수(palindrome)라고 부릅니다.\n",
    "두 자리 수를 곱해 만들 수 있는 대칭수 중 가장 큰 수는 9009 (= 91 × 99) 입니다.\n",
    "세 자리 수를 곱해 만들 수 있는 가장 큰 대칭수는 얼마입니까?"
   ]
  },
  {
   "cell_type": "code",
   "execution_count": 10,
   "metadata": {
    "collapsed": false
   },
   "outputs": [
    {
     "name": "stdout",
     "output_type": "stream",
     "text": [
      "906609\n"
     ]
    }
   ],
   "source": [
    "#프로젝트오일러 4\n",
    "import math\n",
    "def isPalindrome(num):\n",
    "    s = str(num)\n",
    "    return s == s[::-1]\n",
    "a = 999\n",
    "b = 999\n",
    "gain = 0\n",
    "lock = 0\n",
    "lagest = 0\n",
    "while a >= 100:\n",
    "    b=999\n",
    "    while b>=a:\n",
    "        gain = a*b\n",
    "        b-=1\n",
    "        if(gain > lagest and isPalindrome(gain)):\n",
    "            lagest = gain\n",
    "    a-=1\n",
    "print lagest"
   ]
  },
  {
   "cell_type": "markdown",
   "metadata": {},
   "source": [
    "isPalindrome함수는 회문인지 아닌지 판별하는 함수입니다. 그리고 a, b = 999인 세자리수의 최대수로 초기화하여 두 수의 곱이 펠린드롬인지 차례로 검사하여 가장 큰 펠린드롬을 찾는 것입니다. 두 수의 값이 세자리수의 최대수로 초기화 되어 100까지 검사하므로 가장 큰 펠린드롬을 찾을 수 있습니다."
   ]
  },
  {
   "cell_type": "markdown",
   "metadata": {},
   "source": [
    "프로젝트 오일러5 : 1 ~ 10 사이의 어떤 수로도 나누어 떨어지는 가장 작은 수는 2520입니다.\n",
    "그러면 1 ~ 20 사이의 어떤 수로도 나누어 떨어지는 가장 작은 수는 얼마입니까?"
   ]
  },
  {
   "cell_type": "code",
   "execution_count": 11,
   "metadata": {
    "collapsed": false
   },
   "outputs": [
    {
     "name": "stdout",
     "output_type": "stream",
     "text": [
      "232792560\n"
     ]
    }
   ],
   "source": [
    "#프로젝트오일러 5\n",
    "import math #2 3 4 5 7 3 11 13 2 17 19\n",
    "n_n = 1\n",
    "index = 2\n",
    "for i in range(2, 20):\n",
    "    for j in range(2, 20):\n",
    "        if i%j == 0:\n",
    "            break\n",
    "    if i == j:\n",
    "        index = j\n",
    "        while j*index < 20:\n",
    "            index*=j\n",
    "        n_n *= index\n",
    "    \n",
    "print n_n\n",
    "            "
   ]
  },
  {
   "cell_type": "markdown",
   "metadata": {},
   "source": [
    "일단 소수인 수를 찾습니다. 소수의 제곱수 중에서 가장 큰 수가 20내에 존재하는 수를 약수로 갖도록 합니다.\n",
    "약수들의 곱을 출력합니다."
   ]
  },
  {
   "cell_type": "markdown",
   "metadata": {},
   "source": [
    "프로젝트 오일러6 : 1부터 10까지 자연수를 각각 제곱해 더하면 다음과 같습니다 (제곱의 합).\n",
    "12 + 22 + ... + 102 = 385\n",
    "1부터 10을 먼저 더한 다음에 그 결과를 제곱하면 다음과 같습니다 (합의 제곱).\n",
    "(1 + 2 + ... + 10)2 = 552 = 3025\n",
    "따라서 1부터 10까지 자연수에 대해 \"합의 제곱\"과 \"제곱의 합\" 의 차이는 3025 - 385 = 2640 이 됩니다.\n",
    "그러면 1부터 100까지 자연수에 대해 \"합의 제곱\"과 \"제곱의 합\"의 차이는 얼마입니까?"
   ]
  },
  {
   "cell_type": "code",
   "execution_count": 12,
   "metadata": {
    "collapsed": false
   },
   "outputs": [
    {
     "name": "stdout",
     "output_type": "stream",
     "text": [
      "25164150\n"
     ]
    }
   ],
   "source": [
    "#프로젝트오일러 6\n",
    "arr = []\n",
    "arr_sum = 0\n",
    "res_sum = 0\n",
    "for i in range(1, 101):\n",
    "    arr.append(i*i)\n",
    "for i in arr:\n",
    "    arr_sum += i\n",
    "for i in range(1, 100/2+1):\n",
    "    res_sum += (1+100)\n",
    "print (res_sum*res_sum) - arr_sum"
   ]
  },
  {
   "cell_type": "markdown",
   "metadata": {},
   "source": [
    "합의 제곱과 제곱의 합을 구하여 차이를 계산하는 간단한 문제였습니다."
   ]
  },
  {
   "cell_type": "markdown",
   "metadata": {},
   "source": [
    "[Incremental Project] 웹 URL로 지정된 웹페이지를 문자열로 가져와 1) 모든 HTML 태그를 제외한 순수 텍스트 문자열만을 걸러내고, 2) 그 순수 텍스트 문자열 안에 존재하는 단어가 총 몇개인지 출력하는 프로그램을 작성하시오."
   ]
  },
  {
   "cell_type": "code",
   "execution_count": 17,
   "metadata": {
    "collapsed": false,
    "scrolled": false
   },
   "outputs": [
    {
     "name": "stdout",
     "output_type": "stream",
     "text": [
      "535\n"
     ]
    }
   ],
   "source": [
    "import urllib2\n",
    "import re\n",
    "source = urllib2.urlopen(\"http://cse.kut.ac.kr/\").read()\n",
    "\n",
    "def remove(sentences):\n",
    "    res = re.compile(r'<.*?>')\n",
    "    return res.sub('\\n', sentences)\n",
    "\n",
    "result = remove(source)\n",
    "\n",
    "count = 0\n",
    "text_line = result.split()\n",
    "for i in range(0, len(text_line)):\n",
    "    count += len(text_line[i].split(' '))\n",
    "print count"
   ]
  },
  {
   "cell_type": "markdown",
   "metadata": {},
   "source": [
    "정규표현식을 사용하여 url에서 긁어온 문자열에서 <로 시작하여 >로 닫히는 패턴을 찾아 개행문자로 바꾸어 줍니다.\n",
    "그리고 저장된 문자열에서 공백을 기준으로 split하여 리스트로 저장합니다. 리스트의 인덱스를 이터레이터로 갖도록 for루프를 돌아 리스트의 원소인 문자열에서 단어의 수를 ' '를 기준으로 split하여 찾아 더해나갑니다. 더해진 count(단어수)를 출력합니다."
   ]
  },
  {
   "cell_type": "markdown",
   "metadata": {},
   "source": [
    "소감 : 과제를 통해 문자열과 리스트에 관련된 함수에 대해 많이 찾아보았고, incremental project에서는 정규표현식을 공부해 볼 수 있는 기회가 있어 좋았습니다."
   ]
  }
 ],
 "metadata": {
  "anaconda-cloud": {},
  "kernelspec": {
   "display_name": "Python [Root]",
   "language": "python",
   "name": "Python [Root]"
  },
  "language_info": {
   "codemirror_mode": {
    "name": "ipython",
    "version": 2
   },
   "file_extension": ".py",
   "mimetype": "text/x-python",
   "name": "python",
   "nbconvert_exporter": "python",
   "pygments_lexer": "ipython2",
   "version": "2.7.12"
  }
 },
 "nbformat": 4,
 "nbformat_minor": 0
}
